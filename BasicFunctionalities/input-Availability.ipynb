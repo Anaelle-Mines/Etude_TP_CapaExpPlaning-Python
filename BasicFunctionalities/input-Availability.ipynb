{
 "cells": [
  {
   "cell_type": "markdown",
   "metadata": {
    "collapsed": true,
    "pycharm": {
     "name": "#%% md\n"
    }
   },
   "source": [
    "# availability data\n",
    "\n",
    "### Table of Contents\n",
    "\n",
    "* [1. French data ](#Sec1:french)\n",
    "* [2. European data set](#Sec2:europe)\n",
    "* [3. More data From Eco2Mix](#eco2mix)\n",
    "\n",
    "This notebook gives a detailed explanation of the code contained in input-Availability.py.\n",
    "\n",
    "Availability $a_{it}$ at time $t$ for a production mean $i$ is defined\n",
    "as the ratio between maximum possible production and installed power. As a consequence,  $\\forall i,t$ we have $a_{it}\\in [0,1]$.\n",
    "\n",
    "In this notebook, you will manipulate availability time series,\n",
    "together with models of availability for nuclear, PV and wind power.\n",
    "Note that what is called availability for wind power and solar power is the same as\n",
    "instantaneous capacity factor"
   ]
  },
  {
   "cell_type": "code",
   "execution_count": null,
   "outputs": [],
   "source": [
    "import os\n",
    "if os.path.basename(os.getcwd())==\"BasicFunctionalities\":\n",
    "    os.chdir('..') ## to work at project root  like in any IDE\n",
    "\n",
    "InputFolder='Data/input/'\n",
    "\n",
    "#region importation of modules\n",
    "import numpy as np\n",
    "import pandas as pd\n",
    "import seaborn as sns\n",
    "import csv\n",
    "import datetime\n",
    "import copy\n",
    "import plotly.graph_objects as go\n",
    "import matplotlib.pyplot as plt\n",
    "\n",
    "from functions.f_graphicalTools import * #Il faut préciser le chemin où vous avez sauvegardé les données csv\n",
    "#endregion"
   ],
   "metadata": {
    "collapsed": false,
    "pycharm": {
     "name": "#%%\n"
    }
   }
  },
  {
   "cell_type": "markdown",
   "source": [
    "# 1. French data set  <a class=\"anchor\" id=\"Sec1:french\"></a>"
   ],
   "metadata": {
    "collapsed": false,
    "pycharm": {
     "name": "#%% md\n"
    }
   }
  },
  {
   "cell_type": "code",
   "execution_count": null,
   "outputs": [],
   "source": [
    "#region Disponibilité sur la France période 2013-2016\n",
    "Zones=\"FR\"\n",
    "year=2013\n",
    "\n",
    "MyTech= 'OldNuke'  ### 'Thermal' 'OldNuke' 'HydroRiver' 'HydroReservoir' 'WindOnShore' 'Solar'\n",
    "availabilityFactor = pd.read_csv(InputFolder+'availabilityFactor'+str(year)+'_'+str(Zones)+'.csv',\n",
    "                                sep=',',decimal='.',skiprows=0)\n",
    "print(availabilityFactor['TECHNOLOGIES'].unique() ) ### available technologies\n",
    "tabl=availabilityFactor[availabilityFactor['TECHNOLOGIES']==MyTech]\n",
    "fig=MyPlotly(x_df=tabl.TIMESTAMP,y_df=tabl[['availabilityFactor']],fill=False)\n",
    "\n",
    "fig = go.Figure()\n",
    "fig.add_trace(go.Scatter(x=tabl['TIMESTAMP'],y=tabl['availabilityFactor'],line=dict(color=\"#000000\"),name=\"original\"))\n",
    "for newyear in range(2013,2016):\n",
    "    availabilityFactor = pd.read_csv(InputFolder + 'availabilityFactor' + str(newyear) + '_' + str(Zones) + '.csv',\n",
    "                                     sep=',', decimal='.', skiprows=0)\n",
    "    tabl = availabilityFactor[availabilityFactor['TECHNOLOGIES'] == MyTech]\n",
    "    fig.add_trace(go.Scatter(x=tabl['TIMESTAMP'],y=tabl['availabilityFactor'],\n",
    "                             line=dict(color=\"#9CA2A8\",width=1),\n",
    "                             name=newyear))\n",
    "#fig.show()\n",
    "plotly.offline.plot(fig, filename='file.html')\n",
    "#endregion\n"
   ],
   "metadata": {
    "collapsed": false,
    "pycharm": {
     "name": "#%%\n"
    }
   }
  },
  {
   "cell_type": "markdown",
   "source": [
    "# 2. European data set  <a class=\"anchor\" id=\"Sec2:europe\"></a>"
   ],
   "metadata": {
    "collapsed": false
   }
  },
  {
   "cell_type": "code",
   "execution_count": null,
   "outputs": [],
   "source": [
    "#region multi zone\n",
    "Zones=\"FR_DE_GB_ES\"\n",
    "year=2016\n",
    "\n",
    "MyTech= 'WindOnShore'  ### 'Thermal' 'OldNuke' 'HydroRiver' 'HydroReservoir' 'WindOnShore' 'Solar'\n",
    " #'NewNuke', 'HydroRiver', 'HydroReservoir','WindOnShore', 'WindOffShore', 'Solar', 'Curtailement'}\n",
    "\n",
    "#### reading CSV files\n",
    "availabilityFactor = pd.read_csv(InputFolder+'availabilityFactor'+str(year)+'_'+str(Zones)+'.csv',\n",
    "                                sep=',',decimal='.',skiprows=0)\n",
    "availabilityFactor0 = availabilityFactor[availabilityFactor['TECHNOLOGIES'] == MyTech]\n",
    "fig = go.Figure()\n",
    "pal = sns.color_palette(\"bright\", 4); i=0; #https://chrisalbon.com/python/data_visualization/seaborn_color_palettes/\n",
    "for region in [\"FR\",\"DE\",\"GB\"]: ### problem with spain data\n",
    "    tabl=availabilityFactor0[availabilityFactor0['AREAS']==region]\n",
    "    fig.add_trace(go.Scatter(x=tabl['TIMESTAMP'],y=tabl['availabilityFactor'],\n",
    "                             line=dict(color=pal.as_hex()[i],width=1),\n",
    "                             name=region))\n",
    "    i=i+1;\n",
    "fig.show()\n",
    "#plotly.offline.plot(fig, filename='file.html')\n",
    "#endregion"
   ],
   "metadata": {
    "collapsed": false,
    "pycharm": {
     "name": "#%%\n"
    }
   }
  },
  {
   "cell_type": "markdown",
   "source": [
    "# 3. More data From Eco2Mix  <a class=\"anchor\" id=\"eco2mix\"></a>"
   ],
   "metadata": {
    "collapsed": false,
    "pycharm": {
     "name": "#%% md\n"
    }
   }
  },
  {
   "cell_type": "code",
   "execution_count": null,
   "outputs": [],
   "source": [
    "#region more data from eco2Mix 2012-2019\n",
    "Eco2mix = pd.read_csv(InputFolder+'Eco2Mix_Hourly_National_xts.csv',\n",
    "                                sep=';',decimal=',',skiprows=0,\n",
    "                      dtype={'Index':str, 'Consommation':np.float64, 'Prevision.J1':np.float64, 'Prevision.J':np.float64, 'Fioul':np.float64,\n",
    "       'Charbon':np.float64, 'Gaz':np.float64, 'Nucleaire':np.float64, 'Eolien':np.float64, 'Solaire':np.float64, 'Hydraulique':np.float64,\n",
    "       'Pompage':np.float64, 'Bioenergies':np.float64, 'Ech.physiques':np.float64, 'Taux.de.Co2':np.float64,\n",
    "       'Ech.comm.Angleterre':np.float64, 'Ech.comm.Espagne':np.float64, 'Ech.comm.Italie':np.float64,\n",
    "       'Ech.comm.Suisse':np.float64, 'Ech.comm.AllemagneBelgique':np.float64, 'Fioul..TAC':np.float64,\n",
    "       'Fioul..Cogen':np.float64, 'Fioul..Autres':np.float64, 'Gaz..TAC':np.float64, 'Gaz..Cogen':np.float64, 'Gaz..CCG':np.float64,\n",
    "       'Gaz..Autres':np.float64, 'Hydraulique..Fil.de.leau..eclusee':np.float64, 'Hydraulique..Lacs':np.float64,\n",
    "       'Hydraulique..STEP.turbinage':np.float64, 'Bioenergies..Dechets':np.float64,\n",
    "       'Bioenergies..Biomasse':np.float64, 'Bioenergies..Biogaz':np.float64})\n",
    "Eco2mix['Date'] = pd.to_datetime(Eco2mix['Index'], errors='coerce')\n",
    "Eco2mix.columns\n",
    "Eco2mix['year'] = pd.DatetimeIndex(Eco2mix['Date']).year\n",
    "Eco2mixYear=Eco2mix[Eco2mix['year']==2019]\n",
    "Hydraulique=Eco2mixYear[['Date','Hydraulique..Lacs','Hydraulique..Fil.de.leau..eclusee']].set_index('Date').rename(\n",
    "    columns={'Hydraulique..Fil.de.leau..eclusee':'HydroRiver','Hydraulique..Lacs':'HydroLake'})\n",
    "Hydraulique.max()\n",
    "\n",
    "Hydraulique.HydroLake.sum()/7000\n",
    "#endregion"
   ],
   "metadata": {
    "collapsed": false,
    "pycharm": {
     "name": "#%%\n"
    }
   }
  }
 ],
 "metadata": {
  "kernelspec": {
   "display_name": "Python 3",
   "language": "python",
   "name": "python3"
  },
  "language_info": {
   "codemirror_mode": {
    "name": "ipython",
    "version": 2
   },
   "file_extension": ".py",
   "mimetype": "text/x-python",
   "name": "python",
   "nbconvert_exporter": "python",
   "pygments_lexer": "ipython2",
   "version": "2.7.6"
  }
 },
 "nbformat": 4,
 "nbformat_minor": 0
}