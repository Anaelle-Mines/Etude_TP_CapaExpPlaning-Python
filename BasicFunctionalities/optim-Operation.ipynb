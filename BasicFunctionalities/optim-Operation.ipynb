{
 "cells": [
  {
   "cell_type": "markdown",
   "metadata": {
    "collapsed": true,
    "pycharm": {
     "name": "#%% md\n"
    }
   },
   "source": [
    "# Optimisation of operation\n",
    "### Table of Contents\n",
    "\n",
    "* [1. Introduction](#1.introduction)\n",
    "* [2. First basic problem](#fbp)\n",
    "    * [2.1. Math and first step with pyomo for solving the problem](#math)\n",
    "    * [2.2. Variables ](#variables)\n",
    "    * [2.3. Constraints](#constraints)\n",
    "* [3. Extensions of this operation problem ](#temporal)\n",
    "    * [3.1. Linear temporal coupling with ramp constraints ](#ramp)\n",
    "    * [3.2. Linear spatial coupling with spatial constraints - Problem Op3 Multi-Area -](#spatial)\n",
    "* [4. Storage operation ](#storage)\n",
    "    *[4.1. Optimisation of a storage market participation](#storageMarket)\n",
    "    *[4.2. Simultaneous optimisation of storage and electric system](#storagecoupling)"
   ]
  },
  {
   "cell_type": "markdown",
   "source": [
    "## 1. Introduction <a class=\"anchor\" id=\"1.introduction\"></a>\n",
    "This document contains a description of optimisation tools for electric system operation simulation provided here. It also has a sequence of 4 questions (Q2.1 to Q2.4). Answer to questions can be found in file Question_2_TP.py.\n",
    "\n",
    "The aim of this part consists in creating a model that enables you to handle the consumption of energy with the lowest prices possible (for the means of production)."
   ],
   "metadata": {
    "collapsed": false
   }
  },
  {
   "cell_type": "code",
   "execution_count": null,
   "outputs": [],
   "source": [
    "import os\n",
    "os.chdir('..') ## to work at project root  like in any IDE\n",
    "InputFolder='Data/input/'\n",
    "import numpy as np\n",
    "import pandas as pd\n",
    "import csv\n",
    "\n",
    "import datetime\n",
    "import copy\n",
    "import plotly.graph_objects as go\n",
    "import matplotlib.pyplot as plt\n",
    "from sklearn import linear_model\n",
    "\n",
    "from functions.functions_Operation import *"
   ],
   "metadata": {
    "collapsed": false,
    "pycharm": {
     "name": "#%%\n"
    }
   }
  },
  {
   "cell_type": "markdown",
   "source": [
    "## 2. First basic problem <a class=\"anchor\" id=\"fbp\"></a>\n",
    "### 2.1. Math and first step with pyomo for solving problem<a class=\"anchor\" id=\"math\"></a>\n",
    "\\begin{align}\n",
    "&\\text{Cost function }& &\\min_{x}  \\sum_t \\sum_i \\pi_i x_{it}\\;\\;\\; & & \\pi_i \\text{ marginal cost}\\\\\n",
    "&\\text{Power limit }   & &\\text{ s.t.} \\;\\; 0 \\leq x_{it}\\leq a_{it} \\bar{x_i} & &\\bar{x_i} \\text{ installed power, }  a_{it} \\text{ availability}\\\\\n",
    "&\\text{Meet demand }   & & \\sum_i x_{it} \\geq  C_t  && C_t \\text{ Consumption}\\\\\n",
    "&\\text{Stock limit }   & &\\sum_t x_{it}\\leq E_i && E_i=\\bar{x_i}*N_i \\text{ Energy capacity limit}\\\\\n",
    "\\end{align}\n",
    "\n",
    "If you want to solve the preceeding problem you might have to write everything in a suitable matrix form.\n",
    "This can be very painful in some cases.\n",
    "With Pyomo you just need to provide the area consumption, the availability factors and the hypothesis\n",
    "for the different means of production (in the file Gestion-Simple_TECHNOLOGIES.csv).\n",
    "Pyomo is then charged of building the matrix form,\n",
    "and you just have to think about problem formulation.\n",
    "\n",
    "To build a model, Pyomo needs three different kinds of data :\n",
    "sets, parameters and variables.\n",
    "\n",
    "Sets are dimensions, here the time and the name of technology plus a mix of these two :\n",
    "TIMESTAMP, TECHNOLOGIES and TIMESTAMP_TECHNOLOGIES (product set).\n",
    "\n",
    "Parameters are tables indexed by set whose values are specified by the user.\n",
    "Here is the list of the parameters : energycost, EnergyNbhourCap, capacity,\n",
    "availability factor, area consumption.\n",
    "\n",
    "variable are tables indexed by set whose values are found by the solver :\n",
    "the energy produced by each mean of production.\n",
    "\n",
    "First, we can observe one of the parameters, the availability factor, that has an really important role in the production of electricity\n",
    "\n",
    "Look at input-XXX.ipynb files to see available input data"
   ],
   "metadata": {
    "collapsed": false
   }
  },
  {
   "cell_type": "code",
   "execution_count": null,
   "outputs": [],
   "source": [
    "Zones=\"FR\" ; year=2013\n",
    "#### reading areaConsumption availabilityFactor and TechParameters CSV files\n",
    "areaConsumption = pd.read_csv(InputFolder+'areaConsumption'+str(year)+'_'+str(Zones)+'.csv',sep=',',decimal='.',skiprows=0)\n",
    "availabilityFactor = pd.read_csv(InputFolder+'availabilityFactor'+str(year)+'_'+str(Zones)+'.csv',sep=',',decimal='.',skiprows=0)\n",
    "TechParameters = pd.read_csv(InputFolder+'Gestion-Simple_TECHNOLOGIES.csv',sep=';',decimal=',',skiprows=0)\n",
    "\n",
    "#### Selection of subset\n",
    "Selected_TECHNOLOGIES={'Thermal', 'OldNuke'} #you can add technologies here\n",
    "availabilityFactor=availabilityFactor[ availabilityFactor.TECHNOLOGIES.isin(Selected_TECHNOLOGIES)]\n",
    "TechParameters=TechParameters[TechParameters.TECHNOLOGIES.isin(Selected_TECHNOLOGIES)]"
   ],
   "metadata": {
    "collapsed": false,
    "pycharm": {
     "name": "#%%\n"
    }
   }
  },
  {
   "cell_type": "markdown",
   "source": [
    "Now we run the optimisation script"
   ],
   "metadata": {
    "collapsed": false
   }
  },
  {
   "cell_type": "code",
   "execution_count": null,
   "outputs": [],
   "source": [
    "model = GetElectricSystemModel_GestionSingleNode(areaConsumption,availabilityFactor,TechParameters)\n",
    "opt = SolverFactory('mosek')\n",
    "results=opt.solve(model)\n"
   ],
   "metadata": {
    "collapsed": false,
    "pycharm": {
     "name": "#%%\n"
    }
   }
  },
  {
   "cell_type": "markdown",
   "source": [
    "## 2.2 Analysing results : variables and lagrange multipliers <a class=\"anchor\" id=\"optiofope\"></a>\n",
    "\n",
    "Let's analyse the result of the optimisation first with **variables**"
   ],
   "metadata": {
    "collapsed": false
   }
  },
  {
   "cell_type": "code",
   "execution_count": null,
   "outputs": [],
   "source": [
    "Variables=getVariables_panda(model)\n",
    "Variables['energy'].rename(columns={'energy_index': 'TIMESTAMP', 1: 'TECHNOLOGIES'}, inplace=True)\n",
    "\n",
    "print(Variables['energy'].pivot(index=\"TIMESTAMP\",columns='TECHNOLOGIES', values='energy')) #pour avoir la production en KWh de chaque moyen de prod chaque heure\n",
    "print(Variables['energyCosts']) #pour avoir le coût de chaque moyen de prod à l'année"
   ],
   "metadata": {
    "collapsed": false,
    "pycharm": {
     "name": "#%%\n"
    }
   }
  },
  {
   "cell_type": "code",
   "execution_count": null,
   "outputs": [],
   "source": [
    "#graphe montrant la proportion de chaque moyen de prod dans la production totale d'électricité\n",
    "prod=Variables['energy'].pivot(index=\"TIMESTAMP\",columns='TECHNOLOGIES', values='energy')\n",
    "prod['Thermal']=prod['Thermal']+prod['OldNuke']\n",
    "fig2=go.Figure()\n",
    "fig2.add_trace(\n",
    "    go.Scatter(x=list(prod.index), y=list(prod.Thermal),name=\"production Thermal qui complète le Nuke\"))\n",
    "fig2.add_trace(\n",
    "    go.Scatter(x=list(prod.index), y=list(prod.OldNuke), name=\"production Nuke\"))\n",
    "fig2.update_layout(\n",
    "    title_text=\"Production électrique (en KWh)\",xaxis_title=\"heures de l'année\")\n",
    "fig2.update_layout(\n",
    "    xaxis=dict(\n",
    "        rangeselector=dict(\n",
    "            buttons=list([\n",
    "                dict(count=1,\n",
    "                     label=\"en heures\",\n",
    "                     step=\"hour\",\n",
    "                     stepmode=\"backward\")\n",
    "            ])\n",
    "        ),\n",
    "        rangeslider=dict(\n",
    "            visible=True\n",
    "        ),\n",
    "        type=\"-\"\n",
    "    )\n",
    ")\n",
    "fig2.show()"
   ],
   "metadata": {
    "collapsed": false,
    "pycharm": {
     "name": "#%%\n"
    }
   }
  },
  {
   "cell_type": "markdown",
   "source": [
    "\n",
    "We have the **Lagrange multipliers** associated to each (active) **constraint** (zero means unactive constraint).\n",
    "We have three different constraints : the energy constraint, the capacity constraint and the storage constraint (unactive here)"
   ],
   "metadata": {
    "collapsed": false
   }
  },
  {
   "cell_type": "code",
   "execution_count": null,
   "outputs": [],
   "source": [
    "Constraints= getConstraintsDual_panda(model)\n",
    "Constraints['CapacityCtr'].rename(columns={'CapacityCtr_index': 'TIMESTAMP', 1: 'TECHNOLOGIES'}, inplace=True)\n",
    "\n",
    "# Analyse energyCtr\n",
    "print(Constraints['energyCtr']['energyCtr']*1000000)"
   ],
   "metadata": {
    "collapsed": false,
    "pycharm": {
     "name": "#%%\n"
    }
   }
  },
  {
   "cell_type": "code",
   "execution_count": null,
   "outputs": [],
   "source": [
    "print(round((Constraints['energyCtr']*1000000).energyCtr,2).unique())"
   ],
   "metadata": {
    "collapsed": false,
    "pycharm": {
     "name": "#%%\n"
    }
   }
  },
  {
   "cell_type": "code",
   "execution_count": null,
   "outputs": [],
   "source": [
    "# Analyse CapacityCtr\n",
    "print(round((Constraints['CapacityCtr'].pivot(index=\"TIMESTAMP\",columns='TECHNOLOGIES', values='CapacityCtr')*1000000),2))"
   ],
   "metadata": {
    "collapsed": false,
    "pycharm": {
     "name": "#%%\n"
    }
   }
  },
  {
   "cell_type": "code",
   "execution_count": null,
   "outputs": [],
   "source": [
    "round((Constraints['CapacityCtr'].pivot(index=\"TIMESTAMP\",columns='TECHNOLOGIES', values='CapacityCtr')*1000000).OldNuke,2).unique()"
   ],
   "metadata": {
    "collapsed": false,
    "pycharm": {
     "name": "#%%\n"
    }
   }
  },
  {
   "cell_type": "markdown",
   "source": [
    "Q)2.1. Explain all values of Lagrange multipliers associated to these two constraints. Run the programm with the additional HydroReservoir production mean. This adds a constraint, make the same analysis as before with the Lagrange multipliers associated to the three constraints."
   ],
   "metadata": {
    "collapsed": false
   }
  },
  {
   "cell_type": "markdown",
   "source": [
    "## 3. Extensions of this operation problem <a class=\"anchor\" id=\"temporal\"></a>\n",
    "### 3.1.  Linear temporal coupling with ramp constraints <a class=\"anchor\" id=\"ramp\"></a>\n",
    "We go back to problem Op1 and add : dependency on area z (country), add a congestion constraint, ramp constraints (with rc=0,005)\n",
    "\n",
    "\\begin{align}\n",
    "&\\text{Cost function }& &\\min_{x}  \\sum_z \\sum_t \\sum_i \\pi_{iz} x_{itz}\\;\\;\\; & & \\pi_{iz} \\text{ marginal cost}\\\\\n",
    "&\\text{Power limit }   & &\\text{ s.t.} \\;\\; 0 \\leq x_{itz}\\leq a_{itz} \\bar{x_{iz}} & &\\bar{x_{iz}} \\text{ installed power, }  a_{itz} \\text{ availability}\\\\\n",
    "&\\text{Meet demand }   & & \\sum_i x_{itz} \\geq  C_{tz}  && C_{tz} \\text{ Consumption}\\\\\n",
    "&\\text{Stock limit }   & &\\sum_t x_{it}\\leq E_i && E_i=\\bar{x_i}*N_i \\text{ Energy capacity limit}\\\\\n",
    "&\\text{ramp limit }   & &rc^-_i *x_{it}\\leq x_{it}-x_{i(t+1)}\\leq rc^+_i *x_{it} && rc^+_i rc^-_i\\text{ ramp limit}\\\\\n",
    "\\end{align}\n"
   ],
   "metadata": {
    "collapsed": false
   }
  },
  {
   "cell_type": "code",
   "execution_count": null,
   "outputs": [],
   "source": [
    "Zones=\"FR\"\n",
    "year=2013\n",
    "\n",
    "Selected_TECHNOLOGIES={'Thermal', 'OldNuke'} #you'll add 'Solar' after\n",
    "\n",
    "#### reading CSV files\n",
    "areaConsumption = pd.read_csv('CSV/input/areaConsumption'+str(year)+'_'+str(Zones)+'.csv',\n",
    "                                sep=',',decimal='.',skiprows=0)\n",
    "availabilityFactor = pd.read_csv('CSV/input/availabilityFactor'+str(year)+'_'+str(Zones)+'.csv',\n",
    "                                sep=',',decimal='.',skiprows=0)\n",
    "TechParameters = pd.read_csv('CSV/input/Gestion-RAMP1_TECHNOLOGIES.csv',sep=';',decimal=',',skiprows=0)\n",
    "\n",
    "#### Selection of subset\n",
    "availabilityFactor=availabilityFactor[ availabilityFactor.TECHNOLOGIES.isin(Selected_TECHNOLOGIES)]\n",
    "TechParameters=TechParameters[TechParameters.TECHNOLOGIES.isin(Selected_TECHNOLOGIES)]"
   ],
   "metadata": {
    "collapsed": false,
    "pycharm": {
     "name": "#%%\n"
    }
   }
  },
  {
   "cell_type": "code",
   "execution_count": null,
   "outputs": [],
   "source": [
    "model = GetElectricSystemModel_GestionSingleNode(areaConsumption,availabilityFactor,TechParameters)\n",
    "opt = SolverFactory('mosek')\n",
    "results=opt.solve(model)\n",
    "Variables=getVariables_panda(model)\n",
    "Constraints= getConstraintsDual_panda(model)\n",
    "Variables['energy'].rename(columns={'energy_index': 'TIMESTAMP', 1: 'TECHNOLOGIES'}, inplace=True)\n",
    "Constraints['CapacityCtr'].rename(columns={'CapacityCtr_index': 'TIMESTAMP', 1: 'TECHNOLOGIES'}, inplace=True)"
   ],
   "metadata": {
    "collapsed": false,
    "pycharm": {
     "name": "#%%\n"
    }
   }
  },
  {
   "cell_type": "markdown",
   "source": [
    "Q)2.2. Write a little script to check if the ramp constraint is verified."
   ],
   "metadata": {
    "collapsed": false
   }
  },
  {
   "cell_type": "code",
   "execution_count": null,
   "outputs": [],
   "source": [
    "print(Constraints)"
   ],
   "metadata": {
    "collapsed": false,
    "pycharm": {
     "name": "#%%\n"
    }
   }
  },
  {
   "cell_type": "code",
   "execution_count": null,
   "outputs": [],
   "source": [
    "print(round((Constraints['energyCtr']*1000000).energyCtr,2).unique())"
   ],
   "metadata": {
    "collapsed": false,
    "pycharm": {
     "name": "#%%\n"
    }
   }
  },
  {
   "cell_type": "code",
   "execution_count": null,
   "outputs": [],
   "source": [
    "round((Constraints['CapacityCtr'].pivot(index=\"TIMESTAMP\",columns='TECHNOLOGIES', values='CapacityCtr')*1000000).OldNuke,2).unique()"
   ],
   "metadata": {
    "collapsed": false,
    "pycharm": {
     "name": "#%%\n"
    }
   }
  },
  {
   "cell_type": "markdown",
   "source": [
    "Q)2.3. Again explain the lagrange multipliers. Add renewable production. How does it changes when you add more renewable ?\n",
    "\n",
    "### 3.2.  Linear spatial coupling with spatial constraints <a class=\"anchor\" id=\"spatial\"></a>\n"
   ],
   "metadata": {
    "collapsed": false
   }
  },
  {
   "cell_type": "code",
   "execution_count": null,
   "outputs": [],
   "source": [
    "Zones=\"FR_DE_GB_ES\"\n",
    "year=2016\n",
    "Selected_AREAS={\"FR\",\"DE\"}\n",
    "Selected_TECHNOLOGIES={'Thermal', 'OldNuke', 'NewNuke', 'HydroRiver', 'HydroReservoir',\n",
    "       'WindOnShore', 'WindOffShore', 'Solar', 'Curtailement'}\n",
    "\n",
    "#### reading CSV files\n",
    "TechParameters = pd.read_csv('CSV/input/Gestion_MultiNode_DE-FR_AREAS_TECHNOLOGIES.csv',sep=';',decimal=',',comment=\"#\",skiprows=0)\n",
    "areaConsumption = pd.read_csv('CSV/input/areaConsumption'+str(year)+'_'+str(Zones)+'.csv',\n",
    "                                sep=',',decimal='.',skiprows=0)\n",
    "availabilityFactor = pd.read_csv('CSV/input/availabilityFactor'+str(year)+'_'+str(Zones)+'.csv',\n",
    "                                sep=',',decimal='.',skiprows=0)\n",
    "ExchangeParameters = pd.read_csv('CSV/input/Hypothese_DE-FR_AREAS_AREAS.csv',sep=';',decimal=',',skiprows=0,comment=\"#\")\n",
    "#### Selection of subset\n",
    "TechParameters=TechParameters[TechParameters.AREAS.isin(Selected_AREAS)&TechParameters.TECHNOLOGIES.isin(Selected_TECHNOLOGIES)]\n",
    "areaConsumption=areaConsumption[areaConsumption.AREAS.isin(Selected_AREAS)]\n",
    "availabilityFactor=availabilityFactor[availabilityFactor.AREAS.isin(Selected_AREAS)& availabilityFactor.TECHNOLOGIES.isin(Selected_TECHNOLOGIES)]\n",
    "\n",
    "### small data cleaning\n",
    "availabilityFactor.availabilityFactor[availabilityFactor.availabilityFactor>1]=1\n",
    "model = GetElectricSystemModel_GestionMultiNode(areaConsumption,availabilityFactor,TechParameters,ExchangeParameters)\n",
    "opt = SolverFactory('mosek')\n",
    "results=opt.solve(model)\n",
    "Variables=getVariables_panda(model)\n",
    "Variables.keys()\n",
    "Variables[\"energy\"].head()\n",
    "Variables[\"exchange\"].head()\n",
    "Variables[\"exchange\"].exchange.sum()\n",
    "Constraints= getConstraintsDual_panda(model)\n",
    "Constraints.keys()"
   ],
   "metadata": {
    "collapsed": false,
    "pycharm": {
     "name": "#%%\n"
    }
   }
  },
  {
   "cell_type": "markdown",
   "source": [
    "## 4. Storage operation <a class=\"anchor\" id=\"storage\"></a>\n",
    "### 4.1. Optimisation of a storage market participation <a class=\"anchor\" id=\"storageMarket\"></a>\n",
    "### 4.2. Simultaneous optimisation of storage and electric system <a class=\"anchor\" id=\"storagecoupling\"></a>\n"
   ],
   "metadata": {
    "collapsed": false,
    "pycharm": {
     "name": "#%% md\n"
    }
   }
  },
  {
   "cell_type": "code",
   "execution_count": null,
   "outputs": [],
   "source": [
    "Zones=\"FR\"\n",
    "year=2013\n",
    "\n",
    "Selected_TECHNOLOGIES={'Thermal', 'OldNuke', 'WindOnShore',\"Curtailement\"}\n",
    "\n",
    "#### reading CSV files\n",
    "areaConsumption = pd.read_csv('CSV/input/areaConsumption'+str(year)+'_'+str(Zones)+'.csv',\n",
    "                                sep=',',decimal='.',skiprows=0)\n",
    "availabilityFactor = pd.read_csv('CSV/input/availabilityFactor'+str(year)+'_'+str(Zones)+'.csv',\n",
    "                                sep=',',decimal='.',skiprows=0)\n",
    "TechParameters = pd.read_csv('CSV/input/Gestion-Simple_TECHNOLOGIES.csv',sep=';',decimal=',',skiprows=0)\n",
    "\n",
    "#### Selection of subset\n",
    "availabilityFactor=availabilityFactor[ availabilityFactor.TECHNOLOGIES.isin(Selected_TECHNOLOGIES)]\n",
    "TechParameters=TechParameters[TechParameters.TECHNOLOGIES.isin(Selected_TECHNOLOGIES)]\n",
    "\n",
    "availabilityFactor.head()\n",
    "\n",
    "availabilityFactor.pivot(index=\"TIMESTAMP\",columns='TECHNOLOGIES', values='availabilityFactor').\\\n",
    "    iloc[1:240].plot(y=\"WindOnShore\",kind=\"line\").set_ylim(0,1)\n",
    "\n",
    "pmax=10000\n",
    "res= GetElectricSystemModel_GestionSingleNode_with1Storage(areaConsumption,availabilityFactor,\n",
    "                                                      TechParameters,p_max=pmax,c_max=pmax*10)\n",
    "areaConsumption = res[\"areaConsumption\"]\n",
    "model= res[\"model\"]\n",
    "stats=res[\"stats\"]\n",
    "\n",
    "\n",
    "PrixTotal\n",
    "plt.figure(figsize=(12,5))\n",
    "plt.xlabel('Number of requests every 10 minutes')\n",
    "\n",
    "ax1 = areaConsumption.NewConsumption.plot(color='blue', grid=True, label='Count')\n",
    "ax2 = areaConsumption.areaConsumption.plot(color='red', grid=True, secondary_y=True, label='Sum')\n",
    "\n",
    "areaConsumption[\"NewConsumption\"].max()\n",
    "areaConsumption[\"Storage\"].max()\n",
    "plt.legend(h1+h2, l1+l2, loc=2)\n",
    "plt.show()\n",
    "\n",
    "plt.scatter(areaConsumption[\"NewConsumption\"], areaConsumption[\"areaConsumption\"])\n",
    "plt.show() # Depending on whether you use IPython or interactive mode, etc.\n",
    "areaConsumption.plot()\n"
   ],
   "metadata": {
    "collapsed": false,
    "pycharm": {
     "name": "#%%\n"
    }
   }
  }
 ],
 "metadata": {
  "kernelspec": {
   "display_name": "Python 3",
   "language": "python",
   "name": "python3"
  },
  "language_info": {
   "codemirror_mode": {
    "name": "ipython",
    "version": 2
   },
   "file_extension": ".py",
   "mimetype": "text/x-python",
   "name": "python",
   "nbconvert_exporter": "python",
   "pygments_lexer": "ipython2",
   "version": "2.7.6"
  }
 },
 "nbformat": 4,
 "nbformat_minor": 0
}