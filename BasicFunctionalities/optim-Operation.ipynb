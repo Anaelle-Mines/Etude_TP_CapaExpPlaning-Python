{
 "cells": [
  {
   "cell_type": "markdown",
   "metadata": {
    "collapsed": true,
    "pycharm": {
     "name": "#%% md\n"
    }
   },
   "source": [
    "# Optimisation of operation\n",
    "### Table of Contents\n",
    "\n",
    "* [1. Introduction](#1.introduction)\n",
    "* [2. First basic problem](#fbp)\n",
    "    * [2.1. Math and first step with pyomo for solving the problem](#math)\n",
    "    * [2.2. Variables ](#variables)\n",
    "    * [2.3. Constraints](#constraints)\n",
    "* [3. Extensions of this operation problem ](#temporal)\n",
    "    * [3.1. Linear temporal coupling with ramp constraints ](#ramp)\n",
    "    * [3.2. Linear spatial coupling with spatial constraints - Problem Op3 Multi-Area -](#spatial)\n",
    "* [4. Storage operation ](#storage)\n",
    "    *[4.1. Optimisation of a storage market participation](#storageMarket)\n",
    "    *[4.2. Simultaneous optimisation of storage and electric system](#storagecoupling)"
   ]
  },
  {
   "cell_type": "markdown",
   "source": [
    "## 1. Introduction <a class=\"anchor\" id=\"1.introduction\"></a>\n",
    "This document contains a description of optimisation tools for electric system operation simulation provided here.\n",
    "\n",
    "The aim of this part consists in creating a model that enables you to handle the consumption of energy with the lowest prices possible (for the means of production)."
   ],
   "metadata": {
    "collapsed": false
   }
  },
  {
   "cell_type": "code",
   "execution_count": 5,
   "outputs": [],
   "source": [
    "import os\n",
    "\n",
    "myhost = os.uname()[1]\n",
    "if (myhost==\"jupyter-sop\"):\n",
    "    ## for https://jupyter-sop.mines-paristech.fr/ users, you need to\n",
    "    #  (1) run the following in a terminal\n",
    "    os.system(\"/opt/mosek/9.2/tools/platform/linux64x86/bin/lmgrd -c /opt/mosek/9.2/tools/platform/linux64x86/bin/mosek.lic -l lmgrd.log\")\n",
    "    #  (2) definition of license\n",
    "    os.environ[\"MOSEKLM_LICENSE_FILE\"] = '@jupyter-sop'\n",
    "\n",
    "\n",
    "if os.path.basename(os.getcwd())==\"BasicFunctionalities\":\n",
    "    os.chdir('..') ## to work at project root  like in any IDE\n",
    "\n",
    "InputFolder='Data/input/'\n",
    "#region importation of modules\n",
    "import numpy as np\n",
    "import pandas as pd\n",
    "import csv\n",
    "\n",
    "import datetime\n",
    "import copy\n",
    "import plotly.graph_objects as go\n",
    "import matplotlib.pyplot as plt\n",
    "from sklearn import linear_model\n",
    "import sys\n",
    "\n",
    "from functions.f_operationModels import *\n",
    "from functions.f_optimization import *\n",
    "from functions.f_graphicalTools import *\n",
    "#endregion\n",
    "\n",
    "#region Solver location definition\n",
    "\n",
    "BaseSolverPath='/Users/robin.girard/Documents/Code/Packages/solvers/ampl_macosx64' ### change this to the folder with knitro ampl ...\n",
    "## in order to obtain more solver see see https://ampl.com/products/solvers/open-source/\n",
    "## for eduction this site provides also several professional solvers, that are more efficient than e.g. cbc\n",
    "sys.path.append(BaseSolverPath)\n",
    "solvers= ['gurobi','knitro','cbc'] # try 'glpk', 'cplex'\n",
    "solverpath= {}\n",
    "for solver in solvers : solverpath[solver]=BaseSolverPath+'/'+solver\n",
    "solver= 'mosek' ## no need for solverpath with mosek.\n",
    "#endregion"
   ],
   "metadata": {
    "collapsed": false,
    "pycharm": {
     "name": "#%%\n"
    }
   }
  },
  {
   "cell_type": "markdown",
   "source": [
    "## 2. First basic problem <a class=\"anchor\" id=\"fbp\"></a>\n",
    "### 2.1. Math and first step with pyomo for solving problem<a class=\"anchor\" id=\"math\"></a>\n",
    "\\begin{align}\n",
    "&\\text{Cost function }& &\\min_{x}  \\sum_t \\sum_i \\pi_i x_{it}\\;\\;\\; & & \\pi_i \\text{ marginal cost}\\\\\n",
    "&\\text{Power limit }   & &\\text{ s.t.} \\;\\; 0 \\leq x_{it}\\leq a_{it} \\bar{x_i} & &\\bar{x_i} \\text{ installed power, }  a_{it} \\text{ availability}\\\\\n",
    "&\\text{Meet demand }   & & \\sum_i x_{it} \\geq  C_t  && C_t \\text{ Consumption}\\\\\n",
    "&\\text{Stock limit }   & &\\sum_t x_{it}\\leq E_i && E_i=\\bar{x_i}*N_i \\text{ Energy capacity limit}\\\\\n",
    "\\end{align}\n",
    "\n",
    "If you want to solve the preceeding problem you might have to write everything in a suitable matrix form.\n",
    "This can be very painful in some cases.\n",
    "With Pyomo you just need to provide the area consumption, the availability factors and the hypothesis\n",
    "for the different means of production (in the file Gestion-Simple_TECHNOLOGIES.csv).\n",
    "Pyomo is then charged of building the matrix form,\n",
    "and you just have to think about problem formulation.\n",
    "\n",
    "To build a model, Pyomo needs three different kinds of data :\n",
    "sets, parameters and variables.\n",
    "\n",
    "Sets are dimensions, here the time and the name of technology plus a mix of these two :\n",
    "TIMESTAMP, TECHNOLOGIES and TIMESTAMP_TECHNOLOGIES (product set).\n",
    "\n",
    "Parameters are tables indexed by set whose values are specified by the user.\n",
    "Here is the list of the parameters : energycost, EnergyNbhourCap, capacity,\n",
    "availability factor, area consumption.\n",
    "\n",
    "variable are tables indexed by set whose values are found by the solver :\n",
    "the energy produced by each mean of production.\n",
    "\n",
    "First, we can observe one of the parameters, the availability factor, that has an really important role in the production of electricity\n",
    "\n",
    "Look at input-XXX.ipynb files to see available input data"
   ],
   "metadata": {
    "collapsed": false
   }
  },
  {
   "cell_type": "code",
   "execution_count": 6,
   "outputs": [],
   "source": [
    "#region I - Simple single area : loading parameters\n",
    "Zones=\"FR\" ; year=2013\n",
    "#### reading areaConsumption availabilityFactor and TechParameters CSV files\n",
    "areaConsumption = pd.read_csv(InputFolder+'areaConsumption'+str(year)+'_'+str(Zones)+'.csv',sep=',',decimal='.',skiprows=0)\n",
    "availabilityFactor = pd.read_csv(InputFolder+'availabilityFactor'+str(year)+'_'+str(Zones)+'.csv',sep=',',decimal='.',skiprows=0)\n",
    "TechParameters = pd.read_csv(InputFolder+'Gestion-Simple_TECHNOLOGIES.csv',sep=';',decimal=',',skiprows=0)\n",
    "\n",
    "#### Selection of subset\n",
    "Selected_TECHNOLOGIES={'OldNuke','Thermal','Solar','WindOnShore'} #you can add technologies here\n",
    "availabilityFactor=availabilityFactor[ availabilityFactor.TECHNOLOGIES.isin(Selected_TECHNOLOGIES)]\n",
    "TechParameters=TechParameters[TechParameters.TECHNOLOGIES.isin(Selected_TECHNOLOGIES)]\n",
    "TechParameters.loc[TechParameters.TECHNOLOGIES==\"WindOnShore\",'capacity']=117000\n",
    "TechParameters.loc[TechParameters.TECHNOLOGIES==\"Solar\",'capacity']=67000#endregion"
   ],
   "metadata": {
    "collapsed": false,
    "pycharm": {
     "name": "#%%\n"
    }
   }
  },
  {
   "cell_type": "markdown",
   "source": [
    "Now we run the optimisation script and load optimised variables.\n",
    "\n",
    "At this stage, or later, you might be willing to to see the pyomo model. If it is the case, dig into function\n",
    "GetElectricSystemModel_GestionSingleNode (by doing a control-click on it, otherwise it is in functions/f_operationModels.py)"
   ],
   "metadata": {
    "collapsed": false
   }
  },
  {
   "cell_type": "code",
   "execution_count": 7,
   "outputs": [
    {
     "name": "stdout",
     "output_type": "stream",
     "text": [
      "  TECHNOLOGIES  energyCosts\n",
      "0  WindOnShore     0.000000\n",
      "1        Solar     0.000000\n",
      "2      OldNuke  1516.900533\n",
      "3      Thermal   400.388229\n"
     ]
    }
   ],
   "source": [
    "#region I - Simple single area  : Solving and loading results\n",
    "model = GetElectricSystemModel_GestionSingleNode(areaConsumption,availabilityFactor,TechParameters)\n",
    "if solver in solverpath :  opt = SolverFactory(solver,executable=solverpath[solver])\n",
    "else : opt = SolverFactory(solver)\n",
    "results=opt.solve(model)\n",
    "## result analysis\n",
    "Variables=getVariables_panda(model)\n",
    "\n",
    "#pour avoir la production en KWh de chaque moyen de prod chaque heure\n",
    "production_df=Variables['energy'].pivot(index=\"TIMESTAMP\",columns='TECHNOLOGIES', values='energy')\n",
    "production_df.sum(axis=0)/10**6 ### energies produites TWh\n",
    "print(Variables['energyCosts']) #pour avoir le coût de chaque moyen de prod à l'année\n",
    "#endregion"
   ],
   "metadata": {
    "collapsed": false,
    "pycharm": {
     "name": "#%%\n"
    }
   }
  },
  {
   "cell_type": "markdown",
   "source": [
    "We have analysed the result of the optimisation first with the dictionary **variables** that contains all optimized variables.\n",
    "The most important variable here is 'energy'. The other one 'energyCosts' can be computed from 'energy' and it is somehow redundant.\n",
    "\n",
    "## 2.2 Analysing results : lagrange multipliers <a class=\"anchor\" id=\"optiofope\"></a>\n",
    "\n",
    "Lagrange multiplier might be more difficult to understand for those who still lack a good optimisation course (the one at second semester of first year of MINES ParisTech is perfect).\n",
    "In cases you want to dig this, you can have a look at Boyd's course, e.g. starting with [lecture 8](https://www.youtube.com/watch?v=FJVmflArCXc) or before.\n",
    "The most important message here is that lagrange multipliers associated to the demand constraint (here called 'energyCtr') are meant to mimic market prices.\n",
    "Lagrange multiplier associated to this constraint at time t is the marginal cost that one would pay to increase $C_t$ by a small amount. They can be used to simulate market prices."
   ],
   "metadata": {
    "collapsed": false
   }
  },
  {
   "cell_type": "code",
   "execution_count": 8,
   "outputs": [
    {
     "data": {
      "text/plain": "array([-0.])"
     },
     "execution_count": 8,
     "metadata": {},
     "output_type": "execute_result"
    }
   ],
   "source": [
    "#region I - Simple single area  : visualisation and lagrange multipliers\n",
    "### representation des résultats\n",
    "fig=MyStackedPlotly(x_df=production_df.index,\n",
    "                    y_df=production_df[list(Selected_TECHNOLOGIES)],\n",
    "                    Names=list(Selected_TECHNOLOGIES))\n",
    "fig.update_layout(title_text=\"Production électrique (en KWh)\", xaxis_title=\"heures de l'année\")\n",
    "#plotly.offline.plot(fig, filename='file.html') ## offline\n",
    "fig.show()\n",
    "\n",
    "#### lagrange multipliers\n",
    "Constraints= getConstraintsDual_panda(model)\n",
    "\n",
    "# Analyse energyCtr\n",
    "energyCtrDual=Constraints['energyCtr']; energyCtrDual['energyCtr']=energyCtrDual['energyCtr']*1000000\n",
    "energyCtrDual\n",
    "round(energyCtrDual.energyCtr,2).unique()\n",
    "\n",
    "# Analyse CapacityCtr\n",
    "CapacityCtrDual=Constraints['CapacityCtr'].pivot(index=\"TIMESTAMP\",columns='TECHNOLOGIES', values='CapacityCtr')*1000000;\n",
    "round(CapacityCtrDual,2)\n",
    "round(CapacityCtrDual.OldNuke,2).unique() ## if you increase by Delta the installed capacity of nuke you decrease by xxx the cost when nuke is not sufficient\n",
    "round(CapacityCtrDual.Thermal,2).unique() ## increasing the capacity of Thermal as no effect on prices\n",
    "#endregion"
   ],
   "metadata": {
    "collapsed": false,
    "pycharm": {
     "name": "#%%\n"
    }
   }
  },
  {
   "cell_type": "markdown",
   "source": [
    "\n",
    "We have the **Lagrange multipliers** associated to each (active) **constraint** (zero means unactive constraint) in dictionary 'Constraints'.\n",
    "We have three different constraints : the energy constraint, the capacity constraint and the storage constraint (unactive here)\n",
    "Try understanding the meaning of lagrange multipliers, here and in the next Sections.\n",
    "\n",
    "## 3. Extensions of this operation problem <a class=\"anchor\" id=\"temporal\"></a>\n",
    "### 3.1.  Linear temporal coupling with ramp constraints <a class=\"anchor\" id=\"ramp\"></a>\n",
    "We go back to problem Op1 and add : dependency on area z (country), add a congestion constraint, ramp constraints (with rc=0,005)\n",
    "\n",
    "\\begin{align}\n",
    "&\\text{Cost function }& &\\min_{x}  \\sum_z \\sum_t \\sum_i \\pi_{iz} x_{itz}\\;\\;\\; & & \\pi_{iz} \\text{ marginal cost}\\\\\n",
    "&\\text{Power limit }   & &\\text{ s.t.} \\;\\; 0 \\leq x_{itz}\\leq a_{itz} \\bar{x_{iz}} & &\\bar{x_{iz}} \\text{ installed power, }  a_{itz} \\text{ availability}\\\\\n",
    "&\\text{Meet demand }   & & \\sum_i x_{itz} \\geq  C_{tz}  && C_{tz} \\text{ Consumption}\\\\\n",
    "&\\text{Stock limit }   & &\\sum_t x_{it}\\leq E_i && E_i=\\bar{x_i}*N_i \\text{ Energy capacity limit}\\\\\n",
    "&\\text{ramp limit }   & &rc^-_i *x_{it}\\leq x_{it}-x_{i(t+1)}\\leq rc^+_i *x_{it} && rc^+_i rc^-_i\\text{ ramp limit}\\\\\n",
    "\\end{align}\n"
   ],
   "metadata": {
    "collapsed": false
   }
  },
  {
   "cell_type": "code",
   "execution_count": 9,
   "outputs": [
    {
     "name": "stdout",
     "output_type": "stream",
     "text": [
      "  TECHNOLOGIES  energyCosts\n",
      "0      OldNuke  3360.020093\n",
      "1      Thermal  6857.155133\n"
     ]
    },
    {
     "data": {
      "text/plain": "array([-0.])"
     },
     "execution_count": 9,
     "metadata": {},
     "output_type": "execute_result"
    }
   ],
   "source": [
    "#region II - Ramp Ctrs Single area : loading parameters loading parameterscase with ramp constraints\n",
    "Zones=\"FR\"\n",
    "year=2013\n",
    "Selected_TECHNOLOGIES={'OldNuke','Thermal'} #you'll add 'Solar' after\n",
    "#### reading CSV files\n",
    "areaConsumption = pd.read_csv(InputFolder+'areaConsumption'+str(year)+'_'+str(Zones)+'.csv',\n",
    "                                sep=',',decimal='.',skiprows=0)\n",
    "availabilityFactor = pd.read_csv(InputFolder+'availabilityFactor'+str(year)+'_'+str(Zones)+'.csv',\n",
    "                                sep=',',decimal='.',skiprows=0)\n",
    "TechParameters = pd.read_csv(InputFolder+'Gestion-RAMP1_TECHNOLOGIES.csv',sep=';',decimal=',',skiprows=0)\n",
    "\n",
    "#### Selection of subset\n",
    "availabilityFactor=availabilityFactor[availabilityFactor.TECHNOLOGIES.isin(Selected_TECHNOLOGIES)]\n",
    "TechParameters=TechParameters[TechParameters.TECHNOLOGIES.isin(Selected_TECHNOLOGIES)]\n",
    "#endregion\n",
    "\n",
    "#region II - Ramp Ctrs Single area : solving and loading results\n",
    "model = GetElectricSystemModel_GestionSingleNode(areaConsumption,availabilityFactor,TechParameters)\n",
    "opt = SolverFactory(solver)\n",
    "results=opt.solve(model)\n",
    "Variables=getVariables_panda(model)\n",
    "\n",
    "#pour avoir la production en KWh de chaque moyen de prod chaque heure\n",
    "production_df=Variables['energy'].pivot(index=\"TIMESTAMP\",columns='TECHNOLOGIES', values='energy')\n",
    "production_df.sum(axis=0)/10**6 ### energies produites TWh\n",
    "print(Variables['energyCosts']) #pour avoir le coût de chaque moyen de prod à l'année\n",
    "#endregion\n",
    "\n",
    "#region II - Ramp Ctrs Single area : visualisation and lagrange multipliers\n",
    "fig=MyStackedPlotly(x_df=production_df.index,\n",
    "                    y_df=production_df[list(Selected_TECHNOLOGIES)],\n",
    "                    Names=list(Selected_TECHNOLOGIES))\n",
    "fig.update_layout(title_text=\"Production électrique (en KWh)\", xaxis_title=\"heures de l'année\")\n",
    "#plotly.offline.plot(fig, filename='file.html') ## offline\n",
    "fig.show()\n",
    "\n",
    "#### lagrange multipliers\n",
    "Constraints= getConstraintsDual_panda(model)\n",
    "\n",
    "# Analyse energyCtr\n",
    "energyCtrDual=Constraints['energyCtr']; energyCtrDual['energyCtr']=energyCtrDual['energyCtr']*1000000\n",
    "energyCtrDual\n",
    "round(energyCtrDual.energyCtr,2).unique()\n",
    "\n",
    "# Analyse CapacityCtr\n",
    "CapacityCtrDual=Constraints['CapacityCtr'].pivot(index=\"TIMESTAMP\",columns='TECHNOLOGIES', values='CapacityCtr')*1000000;\n",
    "round(CapacityCtrDual,2)\n",
    "round(CapacityCtrDual.OldNuke,2).unique() ## if you increase by Delta the installed capacity of nuke you decrease by xxx the cost when nuke is not sufficient\n",
    "round(CapacityCtrDual.Thermal,2).unique() ## increasing the capacity of Thermal as no effect on prices\n",
    "#endregion"
   ],
   "metadata": {
    "collapsed": false,
    "pycharm": {
     "name": "#%%\n"
    }
   }
  },
  {
   "cell_type": "markdown",
   "source": [
    "Again you have to look at lagrange multipliers. Add renewable production. How does it changes when you add more renewable ?\n",
    "Try modifying the ramp constraint to generate negative lagrange multipliers.\n",
    "\n",
    "### 3.2.  Linear spatial coupling with spatial constraints <a class=\"anchor\" id=\"spatial\"></a>\n",
    "\n",
    "Math here are in 3.1"
   ],
   "metadata": {
    "collapsed": false
   }
  },
  {
   "cell_type": "code",
   "execution_count": 10,
   "outputs": [
    {
     "data": {
      "text/plain": "dict_keys(['energyCostsDef', 'exchangeCtr', 'CapacityCtr', 'energyCtr', 'storageCtr', 'rampCtrPlus', 'rampCtrMoins', 'rampCtrPlus2', 'rampCtrMoins2'])"
     },
     "execution_count": 10,
     "metadata": {},
     "output_type": "execute_result"
    }
   ],
   "source": [
    "#region III - Ramp Ctrs multiple area : loading parameters\n",
    "Zones=\"FR_DE_GB_ES\"\n",
    "year=2016\n",
    "Selected_AREAS={\"FR\",\"DE\"}\n",
    "Selected_TECHNOLOGIES={'Thermal', 'OldNuke' } #'NewNuke', 'HydroRiver', 'HydroReservoir','WindOnShore', 'WindOffShore', 'Solar', 'Curtailement'}\n",
    "\n",
    "#### reading CSV files\n",
    "TechParameters = pd.read_csv(InputFolder+'Gestion_MultiNode_DE-FR_AREAS_TECHNOLOGIES.csv',sep=';',decimal=',',comment=\"#\",skiprows=0)\n",
    "areaConsumption = pd.read_csv(InputFolder+'areaConsumption'+str(year)+'_'+str(Zones)+'.csv',\n",
    "                                sep=',',decimal='.',skiprows=0)\n",
    "availabilityFactor = pd.read_csv(InputFolder+'availabilityFactor'+str(year)+'_'+str(Zones)+'.csv',\n",
    "                                sep=',',decimal='.',skiprows=0)\n",
    "\n",
    "ExchangeParameters = pd.read_csv(InputFolder+'Hypothese_DE-FR_AREAS_AREAS.csv',sep=';',decimal=',',skiprows=0,comment=\"#\")\n",
    "#### Selection of subset\n",
    "TechParameters=TechParameters[TechParameters.AREAS.isin(Selected_AREAS)&TechParameters.TECHNOLOGIES.isin(Selected_TECHNOLOGIES)]\n",
    "areaConsumption=areaConsumption[areaConsumption.AREAS.isin(Selected_AREAS)]\n",
    "availabilityFactor=availabilityFactor[availabilityFactor.AREAS.isin(Selected_AREAS)& availabilityFactor.TECHNOLOGIES.isin(Selected_TECHNOLOGIES)]\n",
    "#endregion\n",
    "\n",
    "#region III - Ramp multiple area : solving and loading results\n",
    "### small data cleaning\n",
    "availabilityFactor.availabilityFactor[availabilityFactor.availabilityFactor>1]=1\n",
    "model = GetElectricSystemModel_GestionMultiNode(areaConsumption,availabilityFactor,TechParameters,ExchangeParameters)\n",
    "opt = SolverFactory(solver)\n",
    "results=opt.solve(model)\n",
    "Variables=getVariables_panda(model)\n",
    "fig=MyAreaStackedPlot(Variables['energy'])\n",
    "fig.update_layout(title_text=\"Production électrique (en KWh)\", xaxis_title=\"heures de l'année\")\n",
    "#plotly.offline.plot(fig, filename='file.html') ## offline\n",
    "fig.shox()\n",
    "\n",
    "production_df=Variables['energy'].pivot(index=[\"TIMESTAMP\",\"AREAS\"], columns='TECHNOLOGIES', values='energy')\n",
    "production_df.sum(axis=0)/10**6 ### energies produites TWh\n",
    "production_df.groupby(by=\"AREAS\").sum()/10**6 ### energies produites TWh\n",
    "\n",
    "Variables[\"exchange\"].head()\n",
    "Variables[\"exchange\"].exchange.sum()\n",
    "Constraints= getConstraintsDual_panda(model)\n",
    "Constraints.keys()\n",
    "#endregion"
   ],
   "metadata": {
    "collapsed": false,
    "pycharm": {
     "name": "#%%\n"
    }
   }
  },
  {
   "cell_type": "markdown",
   "source": [
    "## 4. Storage operation <a class=\"anchor\" id=\"storage\"></a>\n",
    "### 4.1. Optimisation of a storage market participation <a class=\"anchor\" id=\"storageMarket\"></a>\n",
    "### 4.2. Simultaneous optimisation of storage and electric system <a class=\"anchor\" id=\"storagecoupling\"></a>\n",
    "\n",
    "TODO add math here"
   ],
   "metadata": {
    "collapsed": false,
    "pycharm": {
     "name": "#%% md\n"
    }
   }
  },
  {
   "cell_type": "code",
   "execution_count": 11,
   "outputs": [
    {
     "name": "stdout",
     "output_type": "stream",
     "text": [
      "0\n",
      "1\n",
      "2\n",
      "0\n",
      "1\n",
      "2\n"
     ]
    },
    {
     "ename": "KeyError",
     "evalue": "'Storage'",
     "output_type": "error",
     "traceback": [
      "\u001B[0;31m---------------------------------------------------------------------------\u001B[0m",
      "\u001B[0;31mKeyError\u001B[0m                                  Traceback (most recent call last)",
      "\u001B[0;32m~/opt/anaconda3/envs/Etude_TP/lib/python3.8/site-packages/pandas/core/indexes/base.py\u001B[0m in \u001B[0;36mget_loc\u001B[0;34m(self, key, method, tolerance)\u001B[0m\n\u001B[1;32m   2888\u001B[0m             \u001B[0;32mtry\u001B[0m\u001B[0;34m:\u001B[0m\u001B[0;34m\u001B[0m\u001B[0;34m\u001B[0m\u001B[0m\n\u001B[0;32m-> 2889\u001B[0;31m                 \u001B[0;32mreturn\u001B[0m \u001B[0mself\u001B[0m\u001B[0;34m.\u001B[0m\u001B[0m_engine\u001B[0m\u001B[0;34m.\u001B[0m\u001B[0mget_loc\u001B[0m\u001B[0;34m(\u001B[0m\u001B[0mcasted_key\u001B[0m\u001B[0;34m)\u001B[0m\u001B[0;34m\u001B[0m\u001B[0;34m\u001B[0m\u001B[0m\n\u001B[0m\u001B[1;32m   2890\u001B[0m             \u001B[0;32mexcept\u001B[0m \u001B[0mKeyError\u001B[0m \u001B[0;32mas\u001B[0m \u001B[0merr\u001B[0m\u001B[0;34m:\u001B[0m\u001B[0;34m\u001B[0m\u001B[0;34m\u001B[0m\u001B[0m\n",
      "\u001B[0;32mpandas/_libs/index.pyx\u001B[0m in \u001B[0;36mpandas._libs.index.IndexEngine.get_loc\u001B[0;34m()\u001B[0m\n",
      "\u001B[0;32mpandas/_libs/index.pyx\u001B[0m in \u001B[0;36mpandas._libs.index.IndexEngine.get_loc\u001B[0;34m()\u001B[0m\n",
      "\u001B[0;32mpandas/_libs/hashtable_class_helper.pxi\u001B[0m in \u001B[0;36mpandas._libs.hashtable.PyObjectHashTable.get_item\u001B[0;34m()\u001B[0m\n",
      "\u001B[0;32mpandas/_libs/hashtable_class_helper.pxi\u001B[0m in \u001B[0;36mpandas._libs.hashtable.PyObjectHashTable.get_item\u001B[0;34m()\u001B[0m\n",
      "\u001B[0;31mKeyError\u001B[0m: 'Storage'",
      "\nThe above exception was the direct cause of the following exception:\n",
      "\u001B[0;31mKeyError\u001B[0m                                  Traceback (most recent call last)",
      "\u001B[0;32m<ipython-input-11-42d10383f72c>\u001B[0m in \u001B[0;36m<module>\u001B[0;34m\u001B[0m\n\u001B[1;32m     81\u001B[0m \u001B[0mConstraints\u001B[0m \u001B[0;34m=\u001B[0m \u001B[0mgetConstraintsDual_panda\u001B[0m\u001B[0;34m(\u001B[0m\u001B[0mres\u001B[0m\u001B[0;34m[\u001B[0m\u001B[0;34m'model'\u001B[0m\u001B[0;34m]\u001B[0m\u001B[0;34m)\u001B[0m\u001B[0;34m\u001B[0m\u001B[0;34m\u001B[0m\u001B[0m\n\u001B[1;32m     82\u001B[0m \u001B[0mproduction_df\u001B[0m\u001B[0;34m=\u001B[0m\u001B[0mVariables\u001B[0m\u001B[0;34m[\u001B[0m\u001B[0;34m'energy'\u001B[0m\u001B[0;34m]\u001B[0m\u001B[0;34m.\u001B[0m\u001B[0mpivot\u001B[0m\u001B[0;34m(\u001B[0m\u001B[0mindex\u001B[0m\u001B[0;34m=\u001B[0m\u001B[0;34m[\u001B[0m\u001B[0;34m\"AREAS\"\u001B[0m\u001B[0;34m,\u001B[0m\u001B[0;34m\"TIMESTAMP\"\u001B[0m\u001B[0;34m]\u001B[0m\u001B[0;34m,\u001B[0m \u001B[0mcolumns\u001B[0m\u001B[0;34m=\u001B[0m\u001B[0;34m'TECHNOLOGIES'\u001B[0m\u001B[0;34m,\u001B[0m \u001B[0mvalues\u001B[0m\u001B[0;34m=\u001B[0m\u001B[0;34m'energy'\u001B[0m\u001B[0;34m)\u001B[0m\u001B[0;34m\u001B[0m\u001B[0;34m\u001B[0m\u001B[0m\n\u001B[0;32m---> 83\u001B[0;31m \u001B[0mproduction_df\u001B[0m\u001B[0;34m=\u001B[0m\u001B[0mpd\u001B[0m\u001B[0;34m.\u001B[0m\u001B[0mconcat\u001B[0m\u001B[0;34m(\u001B[0m\u001B[0;34m[\u001B[0m\u001B[0mproduction_df\u001B[0m\u001B[0;34m,\u001B[0m\u001B[0mareaConsumption\u001B[0m\u001B[0;34m[\u001B[0m\u001B[0;34m\"Storage\"\u001B[0m\u001B[0;34m]\u001B[0m\u001B[0;34m]\u001B[0m\u001B[0;34m,\u001B[0m\u001B[0maxis\u001B[0m\u001B[0;34m=\u001B[0m\u001B[0;36m1\u001B[0m\u001B[0;34m)\u001B[0m\u001B[0;34m\u001B[0m\u001B[0;34m\u001B[0m\u001B[0m\n\u001B[0m\u001B[1;32m     84\u001B[0m \u001B[0;34m\u001B[0m\u001B[0m\n\u001B[1;32m     85\u001B[0m \u001B[0mproduction_df\u001B[0m\u001B[0;34m.\u001B[0m\u001B[0msum\u001B[0m\u001B[0;34m(\u001B[0m\u001B[0maxis\u001B[0m\u001B[0;34m=\u001B[0m\u001B[0;36m0\u001B[0m\u001B[0;34m)\u001B[0m\u001B[0;34m/\u001B[0m\u001B[0;36m10\u001B[0m\u001B[0;34m**\u001B[0m\u001B[0;36m6\u001B[0m \u001B[0;31m### energies produites TWh\u001B[0m\u001B[0;34m\u001B[0m\u001B[0;34m\u001B[0m\u001B[0m\n",
      "\u001B[0;32m~/opt/anaconda3/envs/Etude_TP/lib/python3.8/site-packages/pandas/core/frame.py\u001B[0m in \u001B[0;36m__getitem__\u001B[0;34m(self, key)\u001B[0m\n\u001B[1;32m   2900\u001B[0m             \u001B[0;32mif\u001B[0m \u001B[0mself\u001B[0m\u001B[0;34m.\u001B[0m\u001B[0mcolumns\u001B[0m\u001B[0;34m.\u001B[0m\u001B[0mnlevels\u001B[0m \u001B[0;34m>\u001B[0m \u001B[0;36m1\u001B[0m\u001B[0;34m:\u001B[0m\u001B[0;34m\u001B[0m\u001B[0;34m\u001B[0m\u001B[0m\n\u001B[1;32m   2901\u001B[0m                 \u001B[0;32mreturn\u001B[0m \u001B[0mself\u001B[0m\u001B[0;34m.\u001B[0m\u001B[0m_getitem_multilevel\u001B[0m\u001B[0;34m(\u001B[0m\u001B[0mkey\u001B[0m\u001B[0;34m)\u001B[0m\u001B[0;34m\u001B[0m\u001B[0;34m\u001B[0m\u001B[0m\n\u001B[0;32m-> 2902\u001B[0;31m             \u001B[0mindexer\u001B[0m \u001B[0;34m=\u001B[0m \u001B[0mself\u001B[0m\u001B[0;34m.\u001B[0m\u001B[0mcolumns\u001B[0m\u001B[0;34m.\u001B[0m\u001B[0mget_loc\u001B[0m\u001B[0;34m(\u001B[0m\u001B[0mkey\u001B[0m\u001B[0;34m)\u001B[0m\u001B[0;34m\u001B[0m\u001B[0;34m\u001B[0m\u001B[0m\n\u001B[0m\u001B[1;32m   2903\u001B[0m             \u001B[0;32mif\u001B[0m \u001B[0mis_integer\u001B[0m\u001B[0;34m(\u001B[0m\u001B[0mindexer\u001B[0m\u001B[0;34m)\u001B[0m\u001B[0;34m:\u001B[0m\u001B[0;34m\u001B[0m\u001B[0;34m\u001B[0m\u001B[0m\n\u001B[1;32m   2904\u001B[0m                 \u001B[0mindexer\u001B[0m \u001B[0;34m=\u001B[0m \u001B[0;34m[\u001B[0m\u001B[0mindexer\u001B[0m\u001B[0;34m]\u001B[0m\u001B[0;34m\u001B[0m\u001B[0;34m\u001B[0m\u001B[0m\n",
      "\u001B[0;32m~/opt/anaconda3/envs/Etude_TP/lib/python3.8/site-packages/pandas/core/indexes/base.py\u001B[0m in \u001B[0;36mget_loc\u001B[0;34m(self, key, method, tolerance)\u001B[0m\n\u001B[1;32m   2889\u001B[0m                 \u001B[0;32mreturn\u001B[0m \u001B[0mself\u001B[0m\u001B[0;34m.\u001B[0m\u001B[0m_engine\u001B[0m\u001B[0;34m.\u001B[0m\u001B[0mget_loc\u001B[0m\u001B[0;34m(\u001B[0m\u001B[0mcasted_key\u001B[0m\u001B[0;34m)\u001B[0m\u001B[0;34m\u001B[0m\u001B[0;34m\u001B[0m\u001B[0m\n\u001B[1;32m   2890\u001B[0m             \u001B[0;32mexcept\u001B[0m \u001B[0mKeyError\u001B[0m \u001B[0;32mas\u001B[0m \u001B[0merr\u001B[0m\u001B[0;34m:\u001B[0m\u001B[0;34m\u001B[0m\u001B[0;34m\u001B[0m\u001B[0m\n\u001B[0;32m-> 2891\u001B[0;31m                 \u001B[0;32mraise\u001B[0m \u001B[0mKeyError\u001B[0m\u001B[0;34m(\u001B[0m\u001B[0mkey\u001B[0m\u001B[0;34m)\u001B[0m \u001B[0;32mfrom\u001B[0m \u001B[0merr\u001B[0m\u001B[0;34m\u001B[0m\u001B[0;34m\u001B[0m\u001B[0m\n\u001B[0m\u001B[1;32m   2892\u001B[0m \u001B[0;34m\u001B[0m\u001B[0m\n\u001B[1;32m   2893\u001B[0m         \u001B[0;32mif\u001B[0m \u001B[0mtolerance\u001B[0m \u001B[0;32mis\u001B[0m \u001B[0;32mnot\u001B[0m \u001B[0;32mNone\u001B[0m\u001B[0;34m:\u001B[0m\u001B[0;34m\u001B[0m\u001B[0;34m\u001B[0m\u001B[0m\n",
      "\u001B[0;31mKeyError\u001B[0m: 'Storage'"
     ]
    }
   ],
   "source": [
    "#region IV Ramp+Storage single area : loading parameters\n",
    "Zones=\"FR\"\n",
    "year=2013\n",
    "\n",
    "Selected_TECHNOLOGIES={'Thermal', 'OldNuke', 'WindOnShore',\"Curtailement\"}\n",
    "\n",
    "#### reading CSV files\n",
    "areaConsumption = pd.read_csv(InputFolder+'areaConsumption'+str(year)+'_'+str(Zones)+'.csv',\n",
    "                                sep=',',decimal='.',skiprows=0)\n",
    "availabilityFactor = pd.read_csv(InputFolder+'availabilityFactor'+str(year)+'_'+str(Zones)+'.csv',\n",
    "                                sep=',',decimal='.',skiprows=0)\n",
    "TechParameters = pd.read_csv(InputFolder+'Gestion-Simple_TECHNOLOGIES.csv',sep=';',decimal=',',skiprows=0)\n",
    "\n",
    "#### Selection of subset\n",
    "availabilityFactor=availabilityFactor[ availabilityFactor.TECHNOLOGIES.isin(Selected_TECHNOLOGIES)]\n",
    "TechParameters=TechParameters[TechParameters.TECHNOLOGIES.isin(Selected_TECHNOLOGIES)]\n",
    "\n",
    "p_max=10000\n",
    "StorageParameters={\"p_max\" : p_max , \"c_max\": p_max*10,\"efficiency_in\": 0.9,\"efficiency_out\" : 0.9}\n",
    "#endregion\n",
    "\n",
    "#region IV Ramp+Storage single area : solving and loading results\n",
    "res= GetElectricSystemModel_GestionSingleNode_with1Storage(areaConsumption,availabilityFactor,\n",
    "                                                      TechParameters,StorageParameters)\n",
    "\n",
    "Variables = getVariables_panda(res['model'])\n",
    "Constraints = getConstraintsDual_panda(res['model'])\n",
    "areaConsumption = res[\"areaConsumption\"]\n",
    "\n",
    "production_df=Variables['energy'].pivot(index=\"TIMESTAMP\",columns='TECHNOLOGIES', values='energy')\n",
    "production_df.loc[:,'Storage'] = areaConsumption[\"Storage\"]### put storage in the production time series\n",
    "production_df.sum(axis=0)/10**6 ### energies produites TWh\n",
    "production_df[production_df>0].sum(axis=0)/10**6 ### energies produites TWh\n",
    "production_df.max(axis=0)/1000 ### Pmax en GW\n",
    "\n",
    "Selected_TECHNOLOGIES_Sto=list(Selected_TECHNOLOGIES)\n",
    "Selected_TECHNOLOGIES_Sto.append(\"Storage\")\n",
    "fig=MyStackedPlotly(x_df=production_df.index,\n",
    "                    y_df=production_df[Selected_TECHNOLOGIES_Sto],\n",
    "                    Names=Selected_TECHNOLOGIES_Sto)\n",
    "fig.update_layout(title_text=\"Production électrique (en KWh)\", xaxis_title=\"heures de l'année\")\n",
    "#plotly.offline.plot(fig, filename='file.html') ## offline\n",
    "fig.show()\n",
    "stats=res[\"stats\"]\n",
    "\n",
    "#endregion"
   ],
   "metadata": {
    "collapsed": false,
    "pycharm": {
     "name": "#%%\n"
    }
   }
  },
  {
   "cell_type": "markdown",
   "source": [
    "If you want to contribute here, try improving the visualisation tools (with respect to storage, multizone, integration of interconnexions ...)"
   ],
   "metadata": {
    "collapsed": false,
    "pycharm": {
     "name": "#%% md\n"
    }
   }
  },
  {
   "cell_type": "code",
   "execution_count": null,
   "outputs": [],
   "source": [
    "#region V Ramp+Storage Multi area : loading parameters\n",
    "Zones=\"FR_DE_GB_ES\"\n",
    "year=2016\n",
    "Selected_AREAS={\"FR\",\"DE\"}\n",
    "Selected_TECHNOLOGIES={'Thermal', 'OldNuke' } #'NewNuke', 'HydroRiver', 'HydroReservoir','WindOnShore', 'WindOffShore', 'Solar', 'Curtailement'}\n",
    "\n",
    "#### reading CSV files\n",
    "TechParameters = pd.read_csv(InputFolder+'Gestion_MultiNode_DE-FR_AREAS_TECHNOLOGIES.csv',sep=';',decimal=',',comment=\"#\",skiprows=0)\n",
    "areaConsumption = pd.read_csv(InputFolder+'areaConsumption'+str(year)+'_'+str(Zones)+'.csv',\n",
    "                                sep=',',decimal='.',skiprows=0)\n",
    "availabilityFactor = pd.read_csv(InputFolder+'availabilityFactor'+str(year)+'_'+str(Zones)+'.csv',\n",
    "                                sep=',',decimal='.',skiprows=0)\n",
    "\n",
    "ExchangeParameters = pd.read_csv(InputFolder+'Hypothese_DE-FR_AREAS_AREAS.csv',sep=';',decimal=',',skiprows=0,comment=\"#\")\n",
    "#### Selection of subset\n",
    "TechParameters=TechParameters[TechParameters.AREAS.isin(Selected_AREAS)&TechParameters.TECHNOLOGIES.isin(Selected_TECHNOLOGIES)]\n",
    "areaConsumption=areaConsumption[areaConsumption.AREAS.isin(Selected_AREAS)]\n",
    "availabilityFactor=availabilityFactor[availabilityFactor.AREAS.isin(Selected_AREAS)& availabilityFactor.TECHNOLOGIES.isin(Selected_TECHNOLOGIES)]\n",
    "\n",
    "p_max=10000\n",
    "\n",
    "StorageParameters=pd.DataFrame([])\n",
    "for AREA in Selected_AREAS :\n",
    "    StorageParameters_ = {\"AREA\": AREA, \"p_max\": p_max, \"c_max\": p_max * 10, \"efficiency_in\": 0.9,\n",
    "                          \"efficiency_out\": 0.9}\n",
    "    StorageParameters=StorageParameters.append(pd.DataFrame([StorageParameters_]))\n",
    "\n",
    "#endregion\n",
    "\n",
    "#region V Ramp+Storage multi area : solving and loading results\n",
    "res= GetElectricSystemModel_GestionMultiNode_with1Storage(areaConsumption,availabilityFactor,\n",
    "                                                      TechParameters,ExchangeParameters,StorageParameters)\n",
    "\n",
    "Variables = getVariables_panda(res['model'])\n",
    "Constraints = getConstraintsDual_panda(res['model'])\n",
    "areaConsumption = res[\"areaConsumption\"]\n",
    "production_df=Variables['energy'].pivot(index=[\"AREAS\",\"TIMESTAMP\"], columns='TECHNOLOGIES', values='energy')\n",
    "production_df=pd.concat([production_df,areaConsumption[\"Storage\"]],axis=1)\n",
    "\n",
    "production_df.sum(axis=0)/10**6 ### energies produites TWh\n",
    "production_df.groupby(by=\"AREAS\").sum()/10**6 ### energies produites TWh\n",
    "production_df[production_df>0].groupby(by=\"AREAS\").sum()/10**6 ### energies produites TWh\n",
    "production_df.max(axis=0)/1000 ### Pmax en GW\n",
    "#endregion"
   ],
   "metadata": {
    "collapsed": false,
    "pycharm": {
     "name": "#%%\n"
    }
   }
  }
 ],
 "metadata": {
  "kernelspec": {
   "name": "pycharm-79423fde",
   "language": "python",
   "display_name": "PyCharm (Etude_TP_CapaExpPlaning-Python)"
  },
  "language_info": {
   "codemirror_mode": {
    "name": "ipython",
    "version": 2
   },
   "file_extension": ".py",
   "mimetype": "text/x-python",
   "name": "python",
   "nbconvert_exporter": "python",
   "pygments_lexer": "ipython2",
   "version": "2.7.6"
  }
 },
 "nbformat": 4,
 "nbformat_minor": 0
}