{
 "cells": [
  {
   "cell_type": "markdown",
   "source": [
    "# Optimisation of planing\n",
    "### Table of Contents\n",
    "\n",
    "* [1. Introduction](#1.introduction)\n",
    "* [2. First basic problem](#fbp)\n",
    "    * [2.1. Math and first step with pyomo for solving the problem](#math)\n",
    "    * [2.2. Variables ](#variables)\n",
    "    * [2.3. Constraints](#constraints)\n",
    "* [3. Extensions of this operation problem ](#temporal)\n",
    "    * [3.1. Linear temporal coupling with ramp constraints ](#ramp)\n",
    "    * [3.2. Linear spatial coupling with spatial constraints - Problem Op3 Multi-Area -](#spatial)\n",
    "* [4. Storage operation ](#storage)\n",
    "    * [4.1. Optimisation of a storage market participation](#storageMarket)\n",
    "    * [4.2. Simultaneous optimisation of storage and electric system](#storagecoupling)"
   ],
   "metadata": {
    "collapsed": false
   }
  },
  {
   "cell_type": "markdown",
   "metadata": {
    "collapsed": true,
    "pycharm": {
     "name": "#%% md\n"
    }
   },
   "source": [
    "## 1. Introduction <a class=\"anchor\" id=\"1.introduction\"></a>\n",
    "This document contains a description of optimisation tools for electric system planing simulation.\n",
    "If you are only interested in operation you might prefer to go back to file optim-Operation.ipynb.\n",
    "In files BasicFunctionalities/input-XXX.ipynb you can learn to understand input data (consumption, availability).\n",
    "\n",
    "(Text below is almost the same as for operation)\n",
    "\n",
    "This document will gives a chance to understand\n",
    " - how to do the optimisation of planing of an electric system under the hourly operation constraint\n",
    " - understand the mathematical formulation of the optimisation problem\n",
    " - learn to analyse de results of the optimisation and in particular the Lagrange multipliers\n",
    " - get in touch with pyomo (a python package to write optimisation problems)\n",
    "\n",
    "It proposes to enter the subject by increasing progressively\n",
    "the number of variables and constraints in the optimisation problem, hence moving toward more realism through the document, introducing:\n",
    " - ramp constraints that implies a simple temporal coupling\n",
    " - spatially indexed variables and congestion constraints that implies a simple spatial coupling.\n",
    " - storage constraints that implies a temporal coupling\n",
    "\n",
    "It relies on different test cases that allow to\n",
    " - consider different production means (nuclear, CCG, solar, onshore wind power, offshore wind power, hydro, curtailement of consumption, storage)\n",
    " - consider different meteorological years for France\n",
    " - consider different countries in the multi-zone case (France, Germany, GB, Spain)\n",
    "\n",
    "If, after reading this file, you want to build your own pyomo model you can go to optim-Planing-Advanced.ipynb."
   ]
  },
  {
   "cell_type": "code",
   "execution_count": 1,
   "outputs": [],
   "source": [
    "#region importation of modules\n",
    "import os\n",
    "if os.path.basename(os.getcwd())==\"BasicFunctionalities\":\n",
    "    os.chdir('..') ## to work at project root  like in any IDE\n",
    "InputFolder='Data/input/'\n",
    "\n",
    "import qgrid # great package https://github.com/quantopian/qgrid\n",
    "import numpy as np\n",
    "import pandas as pd\n",
    "import csv\n",
    "import docplex\n",
    "import datetime\n",
    "import copy\n",
    "import plotly.graph_objects as go\n",
    "import matplotlib.pyplot as plt\n",
    "from sklearn import linear_model\n",
    "import sys\n",
    "\n",
    "from functions.f_planingModels import *\n",
    "from functions.f_optimization import *\n",
    "from functions.f_graphicalTools import *\n",
    "# Change this if you have other solvers obtained here\n",
    "## https://ampl.com/products/solvers/open-source/\n",
    "## for eduction this site provides also several professional solvers, that are more efficient than e.g. cbc\n",
    "#endregion\n",
    "\n",
    "#region Solver location definition\n",
    "myhost = os.uname()[1]\n",
    "if (myhost==\"jupyter-sop\"):\n",
    "    ## for https://jupyter-sop.mines-paristech.fr/ users, you need to\n",
    "    #  (1) run the following to loanch the license server\n",
    "    os.system(\"/opt/mosek/9.2/tools/platform/linux64x86/bin/lmgrd -c /opt/mosek/9.2/tools/platform/linux64x86/bin/mosek.lic -l lmgrd.log\")\n",
    "    #  (2) definition of license\n",
    "    os.environ[\"MOSEKLM_LICENSE_FILE\"] = '@jupyter-sop'\n",
    "\n",
    "solver= 'mosek' ## no need for solverpath with mosek.\n",
    "BaseSolverPath='/Users/robin.girard/Documents/Code/Packages/solvers/ampl_macosx64'\n",
    "sys.path.append(BaseSolverPath)\n",
    "\n",
    "solvers= ['gurobi','knitro','cbc'] # 'glpk' is too slow 'cplex' and 'xpress' do not work\n",
    "solverpath= {}\n",
    "for solver in solvers : solverpath[solver]=BaseSolverPath+'/'+solver\n",
    "cplexPATH='/Applications/CPLEX_Studio1210/cplex/bin/x86-64_osx'\n",
    "sys.path.append(cplexPATH)\n",
    "solverpath['cplex']=cplexPATH+\"/\"+\"cplex\"\n",
    "solver = 'mosek'\n",
    "#endregion\n"
   ],
   "metadata": {
    "collapsed": false,
    "pycharm": {
     "name": "#%%\n"
    }
   }
  },
  {
   "cell_type": "markdown",
   "source": [
    "## 2. First basic problem <a class=\"anchor\" id=\"fbp\"></a>\n",
    "### 2.1. Math and first step with pyomo for solving problem<a class=\"anchor\" id=\"math\"></a>\n",
    "Before you start with the math, you should\n",
    " - be expert in optimisation of operation, your can learn things in optim-Operation.ipynb\n",
    " - be familiar with annualized cost of electricity (variable and fixed cost) and levelised cost of energy.\n",
    "You can read [my post here on lcoe](https://www.energy-alternatives.eu/2020/08/20/decomposition-lcoe.html) (in french, if there are people that would be willing to contribute to a translation that would be great !!)\n",
    "and also [this one on the role of power and enery in system cost](https://www.energy-alternatives.eu/2020/05/07/mix-de-production-delectricite-energie-et-puissance.html).\n",
    "\n",
    "\\begin{align}\n",
    "&\\text{Cost function }& &\\min_{x,\\bar{x}}   \\sum_i \\left ( \\beta_i\\bar{x_i}+ \\sum_t\\pi_i x_{it}\\right ) \\;\\;\\; & & \\pi_i \\text{ marginal cost, }\\beta_i \\text{fixed annualized cost}\\\\\n",
    "&\\text{Power limit }   & &\\text{ s.t.} \\;\\; 0 \\leq x_{it}\\leq a_{it} \\bar{x_i} & &\\bar{x_i} \\text{ installed power, }  a_{it} \\text{ availability}\\\\\n",
    "&\\text{Meet demand }   & & \\sum_i x_{it} \\geq  C_t  && C_t \\text{ Consumption}\\\\\n",
    "\\end{align}"
   ],
   "metadata": {
    "collapsed": false
   }
  },
  {
   "cell_type": "code",
   "execution_count": 2,
   "outputs": [],
   "source": [
    "#region I - Simple single area : loading parameters\n",
    "Zones=\"FR\" ; year=2013\n",
    "#### reading areaConsumption availabilityFactor and TechParameters CSV files\n",
    "areaConsumption = pd.read_csv(InputFolder+'areaConsumption'+str(year)+'_'+str(Zones)+'.csv',sep=',',decimal='.',skiprows=0)\n",
    "availabilityFactor = pd.read_csv(InputFolder+'availabilityFactor'+str(year)+'_'+str(Zones)+'.csv',sep=',',decimal='.',skiprows=0)\n",
    "TechParameters = pd.read_csv(InputFolder+'Planing-Simple_TECHNOLOGIES.csv',sep=',',decimal='.',skiprows=0,comment=\"#\")\n",
    "\n",
    "#### Selection of subset\n",
    "Selected_TECHNOLOGIES=['OldNuke','CCG'] #you can add technologies here\n",
    "availabilityFactor=availabilityFactor[ availabilityFactor.TECHNOLOGIES.isin(Selected_TECHNOLOGIES)]\n",
    "TechParameters=TechParameters[TechParameters.TECHNOLOGIES.isin(Selected_TECHNOLOGIES)]\n",
    "#endregion\n",
    "\n",
    "#region I - Simple single area  : Solving and loading results\n",
    "model = GetElectricSystemModel_PlaningSingleNode(areaConsumption,availabilityFactor,TechParameters)\n",
    "\n",
    "if solver in solverpath :  opt = SolverFactory(solver,executable=solverpath[solver])\n",
    "else : opt = SolverFactory(solver)\n",
    "results=opt.solve(model)\n",
    "## result analysis\n",
    "Variables=getVariables_panda(model)\n",
    "Variables['capacity']\n",
    "#pour avoir la production en KWh de chaque moyen de prod chaque heure\n",
    "production_df=Variables['energy'].pivot(index=\"TIMESTAMP\",columns='TECHNOLOGIES', values='energy')\n",
    "production_df.sum(axis=0)/10**6 ### energies produites TWh\n",
    "\n",
    "energyCosts_df=Variables['energyCosts'].set_index(\"TECHNOLOGIES\")\n",
    "capacityCosts_df=Variables['capacityCosts'].set_index(\"TECHNOLOGIES\")\n",
    "costs_df=pd.concat([energyCosts_df,capacityCosts_df],axis=1)\n",
    "costs_df[\"totalCosts\"]=costs_df[\"energyCosts\"]+costs_df[\"capacityCosts\"]\n",
    "\n",
    "#endregion"
   ],
   "metadata": {
    "collapsed": false,
    "pycharm": {
     "name": "#%%\n"
    }
   }
  },
  {
   "cell_type": "markdown",
   "source": [
    "## 2.2 Analysing results : lagrange multipliers <a class=\"anchor\" id=\"optiofope\"></a>\n",
    "\n",
    " Verify that the sum of market prices allows all actors to cover fixed and marginal cost.\n",
    "do they earn more ? why ?"
   ],
   "metadata": {
    "collapsed": false,
    "pycharm": {
     "name": "#%% md\n"
    }
   }
  },
  {
   "cell_type": "code",
   "execution_count": null,
   "outputs": [],
   "source": [
    "#region I - Simple single area  : visualisation and lagrange multipliers\n",
    "### representation des résultats\n",
    "fig=MyStackedPlotly(x_df=production_df.index,\n",
    "                    y_df=production_df[list(Selected_TECHNOLOGIES)],\n",
    "                    Names=list(Selected_TECHNOLOGIES))\n",
    "fig.update_layout(title_text=\"Production électrique (en KWh)\", xaxis_title=\"heures de l'année\")\n",
    "fig.show()\n",
    "#plotly.offline.plot(fig, filename='file.html') ## offline\n",
    "#fig2.show()\n",
    "\n",
    "#### lagrange multipliers\n",
    "Constraints= getConstraintsDual_panda(model)\n",
    "\n",
    "# Analyse energyCtr\n",
    "energyCtrDual=Constraints['energyCtr']; energyCtrDual['energyCtr']=energyCtrDual['energyCtr']*1000000\n",
    "energyCtrDual\n",
    "round(energyCtrDual.energyCtr,2).unique()\n",
    "\n",
    "# Analyse CapacityCtr\n",
    "CapacityCtrDual=Constraints['CapacityCtr'].pivot(index=\"TIMESTAMP\",columns='TECHNOLOGIES', values='CapacityCtr')*1000000;\n",
    "round(CapacityCtrDual,2)\n",
    "round(CapacityCtrDual.OldNuke,2).unique() ## if you increase by Delta the installed capacity of nuke you decrease by xxx the cost when nuke is not sufficient\n",
    "round(CapacityCtrDual.CCG,2).unique() ## increasing the capacity of CCG as no effect on prices\n",
    "#endregion"
   ],
   "metadata": {
    "collapsed": false,
    "pycharm": {
     "name": "#%%\n"
    }
   }
  },
  {
   "cell_type": "markdown",
   "source": [
    "## 3. Extensions of this operation problem <a class=\"anchor\" id=\"temporal\"></a>\n",
    "### 3.1.  Linear temporal coupling with ramp constraints <a class=\"anchor\" id=\"ramp\"></a>\n",
    "In the this section, we will increase the complexity of the problem\n",
    "given in Section 2 and add : dependency on area z (country),\n",
    " a congestion constraint, ramp constraints.\n",
    "\n",
    "\\begin{align}\n",
    "&\\text{Cost function }& &\\min_{x}  \\sum_z \\sum_t \\sum_i \\pi_{iz} x_{itz}\\;\\;\\; & & \\pi_{iz} \\text{ marginal cost}\\\\\n",
    "&\\text{Power limit }   & &\\text{ s.t.} \\;\\; 0 \\leq x_{itz}\\leq a_{itz} \\bar{x_{iz}} & &\\bar{x_{iz}} \\text{ installed power, }  a_{itz} \\text{ availability}\\\\\n",
    "&\\text{Meet demand }   & & \\sum_i x_{itz} \\geq  C_{tz}  && C_{tz} \\text{ Consumption}\\\\\n",
    "&\\text{Stock limit }   & &\\sum_t x_{it}\\leq E_i && E_i=\\bar{x_i}*N_i \\text{ Energy capacity limit}\\\\\n",
    "&\\text{ramp limit }   & &rc^-_i *x_{it}\\leq x_{it}-x_{i(t+1)}\\leq rc^+_i *x_{it} && rc^+_i rc^-_i\\text{ ramp limit}\\\\\n",
    "\\end{align}\n"
   ],
   "metadata": {
    "collapsed": false,
    "pycharm": {
     "name": "#%% md\n"
    }
   }
  },
  {
   "cell_type": "code",
   "execution_count": null,
   "outputs": [],
   "source": [
    "#region II - Ramp Single area : loading parameters loading parameterscase with ramp constraints\n",
    "Zones=\"FR\"\n",
    "year=2013\n",
    "Selected_TECHNOLOGIES={'OldNuke','CCG'} #you'll add 'Solar' ,'WindOnShore' after\n",
    "#### reading CSV files\n",
    "areaConsumption = pd.read_csv(InputFolder+'areaConsumption'+str(year)+'_'+str(Zones)+'.csv',\n",
    "                                sep=',',decimal='.',skiprows=0)\n",
    "availabilityFactor = pd.read_csv(InputFolder+'availabilityFactor'+str(year)+'_'+str(Zones)+'.csv',\n",
    "                                sep=',',decimal='.',skiprows=0)\n",
    "TechParameters = pd.read_csv(InputFolder+'Planing-RAMP1_TECHNOLOGIES.csv',sep=',',decimal='.',skiprows=0,comment=\"#\")\n",
    "\n",
    "#### Selection of subset\n",
    "availabilityFactor=availabilityFactor[availabilityFactor.TECHNOLOGIES.isin(Selected_TECHNOLOGIES)]\n",
    "TechParameters=TechParameters[TechParameters.TECHNOLOGIES.isin(Selected_TECHNOLOGIES)]\n",
    "#endregion\n",
    "\n",
    "#region II - Ramp Single area : solving and loading results\n",
    "model = GetElectricSystemModel_PlaningSingleNode(areaConsumption,availabilityFactor,TechParameters)\n",
    "opt = SolverFactory(solver)\n",
    "results=opt.solve(model)\n",
    "Variables=getVariables_panda(model)\n",
    "\n",
    "#pour avoir la production en KWh de chaque moyen de prod chaque heure\n",
    "production_df=Variables['energy'].pivot(index=\"TIMESTAMP\",columns='TECHNOLOGIES', values='energy')\n",
    "production_df.sum(axis=0)/10**6 ### energies produites TWh\n",
    "print(Variables['energyCosts']) #pour avoir le coût de chaque moyen de prod à l'année\n",
    "#endregion\n",
    "\n",
    "#region II - Ramp Single area : visualisation and lagrange multipliers\n",
    "fig=MyStackedPlotly(x_df=production_df.index,\n",
    "                    y_df=production_df[list(Selected_TECHNOLOGIES)],\n",
    "                    Names=list(Selected_TECHNOLOGIES))\n",
    "fig.update_layout(title_text=\"Production électrique (en KWh)\", xaxis_title=\"heures de l'année\")\n",
    "#plotly.offline.plot(fig, filename='file.html') ## offline\n",
    "fig.show()\n",
    "#fig2.show()\n",
    "\n",
    "#### lagrange multipliers\n",
    "Constraints= getConstraintsDual_panda(model)\n",
    "\n",
    "# Analyse energyCtr\n",
    "energyCtrDual=Constraints['energyCtr']; energyCtrDual['energyCtr']=energyCtrDual['energyCtr']*1000000\n",
    "energyCtrDual\n",
    "round(energyCtrDual.energyCtr,2).unique()\n",
    "\n",
    "# Analyse CapacityCtr\n",
    "CapacityCtrDual=Constraints['CapacityCtr'].pivot(index=\"TIMESTAMP\",columns='TECHNOLOGIES', values='CapacityCtr')*1000000;\n",
    "round(CapacityCtrDual,2)\n",
    "round(CapacityCtrDual.OldNuke,2).unique() ## if you increase by Delta the installed capacity of nuke you decrease by xxx the cost when nuke is not sufficient\n",
    "round(CapacityCtrDual.CCG,2).unique() ## increasing the capacity of CCG as no effect on prices\n",
    "#endregion"
   ],
   "metadata": {
    "collapsed": false,
    "pycharm": {
     "name": "#%%\n"
    }
   }
  },
  {
   "cell_type": "markdown",
   "source": [
    "### 3.2.  Linear spatio-temporal coupling with ramp+spatial constraints <a class=\"anchor\" id=\"spatial\"></a>\n",
    "\n",
    "Math here are in 3.1"
   ],
   "metadata": {
    "collapsed": false,
    "pycharm": {
     "name": "#%% md\n"
    }
   }
  },
  {
   "cell_type": "code",
   "execution_count": null,
   "outputs": [],
   "source": [
    "#region III - Ramp multiple area : loading parameters\n",
    "Zones=\"FR_DE_GB_ES\"\n",
    "year=2016\n",
    "Selected_AREAS={\"FR\",\"DE\"}\n",
    "Selected_TECHNOLOGIES={'CCG', 'OldNuke' } #'NewNuke', 'HydroRiver', 'HydroReservoir','WindOnShore', 'WindOffShore', 'Solar', 'Curtailement'}\n",
    "Selected_TECHNOLOGIES={'CCG', 'OldNuke', 'NewNuke', 'HydroRiver', 'HydroReservoir',\n",
    "       'WindOnShore', 'WindOffShore', 'Solar', 'Curtailement'}\n",
    "#### reading CSV files\n",
    "areaConsumption = pd.read_csv(InputFolder+'areaConsumption'+str(year)+'_'+str(Zones)+'.csv',\n",
    "                                sep=',',decimal='.',skiprows=0)\n",
    "availabilityFactor = pd.read_csv(InputFolder+'availabilityFactor'+str(year)+'_'+str(Zones)+'.csv',\n",
    "                                sep=',',decimal='.',skiprows=0)\n",
    "TechParameters = pd.read_csv(InputFolder+'Planing_MultiNode_DE-FR_TECHNOLOGIES_AREAS.csv',sep=',',decimal='.',skiprows=0,comment=\"#\")\n",
    "\n",
    "ExchangeParameters = pd.read_csv(InputFolder+'Hypothese_DE-FR_AREAS_AREAS.csv',sep=',',decimal='.',skiprows=0,comment=\"#\")\n",
    "#### Selection of subset\n",
    "TechParameters=TechParameters[TechParameters.AREAS.isin(Selected_AREAS)&TechParameters.TECHNOLOGIES.isin(Selected_TECHNOLOGIES)]\n",
    "areaConsumption=areaConsumption[areaConsumption.AREAS.isin(Selected_AREAS)]\n",
    "availabilityFactor=availabilityFactor[availabilityFactor.AREAS.isin(Selected_AREAS)& availabilityFactor.TECHNOLOGIES.isin(Selected_TECHNOLOGIES)]\n",
    "#endregion"
   ],
   "metadata": {
    "collapsed": false,
    "pycharm": {
     "name": "#%%\n"
    }
   }
  },
  {
   "cell_type": "code",
   "execution_count": null,
   "outputs": [],
   "source": [
    "#region III - Ramp multiple area : solving and loading results\n",
    "### small data cleaning\n",
    "availabilityFactor.availabilityFactor[availabilityFactor.availabilityFactor>1]=1\n",
    "model = GetElectricSystemModel_PlaningMultiNode(areaConsumption,availabilityFactor,TechParameters,ExchangeParameters)\n",
    "opt = SolverFactory(solver)\n",
    "results=opt.solve(model)\n",
    "Variables=getVariables_panda(model)\n",
    "Variables['capacity']\n",
    "Variables['capacity']\n",
    "production_df=EnergyAndExchange2Prod(Variables)\n",
    "fig=MyAreaStackedPlot(production_df,Selected_TECHNOLOGIES=Selected_TECHNOLOGIES+Selected_AREAS)\n",
    "fig.show()\n",
    "#plotly.offline.plot(fig, filename='file.html') ## offline\n",
    "\n",
    "production_df=Variables['energy'].pivot(index=[\"TIMESTAMP\",\"AREAS\"], columns='TECHNOLOGIES', values='energy')\n",
    "production_df.sum(axis=0)/10**6 ### energies produites TWh\n",
    "production_df.groupby(by=\"AREAS\").sum()/10**6 ### energies produites TWh\n",
    "\n",
    "energyCosts_df=Variables['energyCosts'].set_index([\"AREAS\",\"TECHNOLOGIES\"])\n",
    "capacityCosts_df=Variables['capacityCosts'].set_index([\"AREAS\",\"TECHNOLOGIES\"])\n",
    "costs_df=pd.concat([energyCosts_df,capacityCosts_df],axis=1)\n",
    "costs_df[\"totalCosts\"]=costs_df[\"energyCosts\"]+costs_df[\"capacityCosts\"]\n",
    "costs_df.groupby(\"AREAS\")[\"totalCosts\"].sum()\n",
    "\n",
    "Variables[\"exchange\"].head()\n",
    "Variables[\"exchange\"].exchange.sum()\n",
    "Constraints= getConstraintsDual_panda(model)\n",
    "Constraints.keys()\n",
    "#endregion"
   ],
   "metadata": {
    "collapsed": false,
    "pycharm": {
     "name": "#%%\n"
    }
   }
  },
  {
   "cell_type": "markdown",
   "source": [
    "## 4. Storage operation <a class=\"anchor\" id=\"storage\"></a>\n",
    "### 4.1. Optimisation of a storage market participation <a class=\"anchor\" id=\"storageMarket\"></a>\n",
    "Just have a look at optim-Storage.ipynb\n",
    "\n",
    "### 4.2. Simultaneous optimisation of storage and electric system <a class=\"anchor\" id=\"storagecoupling\"></a>\n",
    "\n",
    "This section is a bit more difficult that the other one. You can skip the math if you're only interested in using the storage optimisation tool."
   ],
   "metadata": {
    "collapsed": false,
    "pycharm": {
     "name": "#%% md\n"
    }
   }
  },
  {
   "cell_type": "code",
   "execution_count": null,
   "outputs": [],
   "source": [
    "#region IV Ramp+Storage single area : loading parameters\n",
    "Zones=\"FR\"\n",
    "year=2013\n",
    "\n",
    "Selected_TECHNOLOGIES={'CCG', 'OldNuke', 'WindOnShore',\"Curtailement\"}\n",
    "\n",
    "#### reading CSV files\n",
    "areaConsumption = pd.read_csv(InputFolder+'areaConsumption'+str(year)+'_'+str(Zones)+'.csv',\n",
    "                                sep=',',decimal='.',skiprows=0)\n",
    "availabilityFactor = pd.read_csv(InputFolder+'availabilityFactor'+str(year)+'_'+str(Zones)+'.csv',\n",
    "                                sep=',',decimal='.',skiprows=0)\n",
    "TechParameters = pd.read_csv(InputFolder+'Planing-RAMP1_TECHNOLOGIES.csv',sep=',',decimal='.',skiprows=0,comment=\"#\")\n",
    "\n",
    "\n",
    "#### Selection of subset\n",
    "availabilityFactor=availabilityFactor[ availabilityFactor.TECHNOLOGIES.isin(Selected_TECHNOLOGIES)]\n",
    "TechParameters=TechParameters[TechParameters.TECHNOLOGIES.isin(Selected_TECHNOLOGIES)]\n",
    "\n",
    "p_max=10000\n",
    "StorageParameters={\"p_max\" : p_max , \"c_max\": p_max*10,\"efficiency_in\": 0.9,\"efficiency_out\" : 0.9}\n",
    "#endregion"
   ],
   "metadata": {
    "collapsed": false,
    "pycharm": {
     "name": "#%%\n"
    }
   }
  },
  {
   "cell_type": "code",
   "execution_count": null,
   "outputs": [],
   "source": [
    "#region IV Ramp+Storage single area : solving and loading results\n",
    "res= GetElectricSystemModel_PlaningSingleNode_with1Storage(areaConsumption,availabilityFactor,\n",
    "                                                      TechParameters,StorageParameters)\n",
    "\n",
    "Variables = getVariables_panda(res['model'])\n",
    "Constraints = getConstraintsDual_panda(res['model'])\n",
    "areaConsumption = res[\"areaConsumption\"]\n",
    "\n",
    "production_df=Variables['energy'].pivot(index=\"TIMESTAMP\",columns='TECHNOLOGIES', values='energy')\n",
    "production_df.loc[:,'Storage'] = areaConsumption[\"Storage\"]### put storage in the production time series\n",
    "production_df.sum(axis=0)/10**6 ### energies produites TWh\n",
    "production_df[production_df>0].sum(axis=0)/10**6 ### energies produites TWh\n",
    "production_df.max(axis=0)/1000 ### Pmax en GW\n",
    "\n",
    "Selected_TECHNOLOGIES_Sto=list(Selected_TECHNOLOGIES)\n",
    "Selected_TECHNOLOGIES_Sto.append(\"Storage\")\n",
    "fig=MyStackedPlotly(x_df=production_df.index,\n",
    "                    y_df=production_df[Selected_TECHNOLOGIES_Sto],\n",
    "                    Names=Selected_TECHNOLOGIES_Sto)\n",
    "fig.update_layout(title_text=\"Production électrique (en KWh)\", xaxis_title=\"heures de l'année\")\n",
    "fig.show()\n",
    "#plotly.offline.plot(fig, filename='file.html') ## offline\n",
    "stats=res[\"stats\"]\n",
    "#endregion"
   ],
   "metadata": {
    "collapsed": false,
    "pycharm": {
     "name": "#%%\n"
    }
   }
  },
  {
   "cell_type": "markdown",
   "source": [
    "### 4.3. Simultaneous optimisation of storage+spatial and electric system <a class=\"anchor\" id=\"storagecouplingSpatial\"></a>"
   ],
   "metadata": {
    "collapsed": false,
    "pycharm": {
     "name": "#%% md\n"
    }
   }
  },
  {
   "cell_type": "code",
   "execution_count": null,
   "outputs": [],
   "source": [
    "#region VI Ramp+Storage Multi area : loading parameters\n",
    "Zones=\"FR_DE_GB_ES\"\n",
    "year=2016\n",
    "Selected_AREAS={\"FR\",\"DE\"}\n",
    "Selected_TECHNOLOGIES={'CCG', 'OldNuke' } #'NewNuke', 'HydroRiver', 'HydroReservoir','WindOnShore', 'WindOffShore', 'Solar', 'Curtailement'}\n",
    "\n",
    "#### reading CSV files\n",
    "TechParameters = pd.read_csv(InputFolder+'Planing_MultiNode_DE-FR_TECHNOLOGIES_AREAS.csv',sep=',',decimal='.',comment=\"#\")\n",
    "areaConsumption = pd.read_csv(InputFolder+'areaConsumption'+str(year)+'_'+str(Zones)+'.csv',\n",
    "                                sep=',',decimal='.',skiprows=0)\n",
    "availabilityFactor = pd.read_csv(InputFolder+'availabilityFactor'+str(year)+'_'+str(Zones)+'.csv',\n",
    "                                sep=',',decimal='.',skiprows=0)\n",
    "\n",
    "ExchangeParameters = pd.read_csv(InputFolder+'Hypothese_DE-FR_AREAS_AREAS.csv',sep=',',decimal='.',skiprows=0,comment=\"#\")\n",
    "#### Selection of subset\n",
    "TechParameters=TechParameters[TechParameters.AREAS.isin(Selected_AREAS)&TechParameters.TECHNOLOGIES.isin(Selected_TECHNOLOGIES)]\n",
    "areaConsumption=areaConsumption[areaConsumption.AREAS.isin(Selected_AREAS)]\n",
    "availabilityFactor=availabilityFactor[availabilityFactor.AREAS.isin(Selected_AREAS)& availabilityFactor.TECHNOLOGIES.isin(Selected_TECHNOLOGIES)]\n",
    "\n",
    "p_max=10000\n",
    "\n",
    "StorageParameters=pd.DataFrame([])\n",
    "for AREA in Selected_AREAS :\n",
    "    StorageParameters_ = {\"AREA\": AREA, \"p_max\": p_max, \"c_max\": p_max * 10, \"efficiency_in\": 0.9,\n",
    "                          \"efficiency_out\": 0.9}\n",
    "    StorageParameters=StorageParameters.append(pd.DataFrame([StorageParameters_]))\n",
    "\n",
    "#endregion"
   ],
   "metadata": {
    "collapsed": false,
    "pycharm": {
     "name": "#%%\n"
    }
   }
  },
  {
   "cell_type": "code",
   "execution_count": null,
   "outputs": [],
   "source": [
    "#region VI Ramp+Storage multi area : solving and loading results\n",
    "res= GetElectricSystemModel_PlaningMultiNode_with1Storage(areaConsumption,availabilityFactor,\n",
    "                                                      TechParameters,ExchangeParameters,StorageParameters)\n",
    "\n",
    "Variables = getVariables_panda(res['model'])\n",
    "Constraints = getConstraintsDual_panda(res['model'])\n",
    "areaConsumption = res[\"areaConsumption\"]\n",
    "#Variables['energy'].loc['Storage'] = areaConsumption[\"Storage\"]\n",
    "\n",
    "#areaConsumption['Storage'].range()\n",
    "model= res[\"model\"]\n",
    "stats=res[\"stats\"]\n",
    "#endregion\n"
   ],
   "metadata": {
    "collapsed": false,
    "pycharm": {
     "name": "#%%\n"
    }
   }
  },
  {
   "cell_type": "markdown",
   "source": [
    "## 5. System with a lot of renewable <a class=\"anchor\" id=\"storage\"></a>"
   ],
   "metadata": {
    "collapsed": false,
    "pycharm": {
     "name": "#%% md\n"
    }
   }
  },
  {
   "cell_type": "code",
   "execution_count": null,
   "outputs": [],
   "source": [
    "#region V Case Storage + CCG + PV + Wind (Ramp+Storage single area) : loading parameters\n",
    "Zones=\"FR\"\n",
    "year=2013\n",
    "\n",
    "Selected_TECHNOLOGIES={'CCG', 'WindOnShore','Solar',\"Curtailement\"}\n",
    "\n",
    "#### reading CSV files\n",
    "areaConsumption = pd.read_csv(InputFolder+'areaConsumption'+str(year)+'_'+str(Zones)+'.csv',\n",
    "                                sep=',',decimal='.',skiprows=0)\n",
    "availabilityFactor = pd.read_csv(InputFolder+'availabilityFactor'+str(year)+'_'+str(Zones)+'.csv',\n",
    "                                sep=',',decimal='.',skiprows=0)\n",
    "TechParameters = pd.read_csv(InputFolder+'Planing-RAMP1_TECHNOLOGIES.csv',sep=',',decimal='.',skiprows=0,comment=\"#\")\n",
    "\n",
    "\n",
    "#### Selection of subset\n",
    "availabilityFactor=availabilityFactor[ availabilityFactor.TECHNOLOGIES.isin(Selected_TECHNOLOGIES)]\n",
    "TechParameters=TechParameters[TechParameters.TECHNOLOGIES.isin(Selected_TECHNOLOGIES)]\n",
    "TechParameters.keys()\n",
    "TechParameters.loc[TechParameters.TECHNOLOGIES=='Solar','minCapacity']=90000\n",
    "TechParameters.loc[TechParameters.TECHNOLOGIES=='WindOnShore','minCapacity']=12000\n",
    "TechParameters[['TECHNOLOGIES','minCapacity','maxCapacity']]\n",
    "p_max=10000 ## storage capacity is not optimized\n",
    "StorageParameters={\"p_max\" : p_max , \"c_max\": p_max*10,\"efficiency_in\": 0.9,\"efficiency_out\" : 0.9}\n",
    "#endregion\n",
    "\n",
    "#region V Case Storage + CCG + PV + Wind (Ramp+Storage single area) : solving and loading results\n",
    "res= GetElectricSystemModel_PlaningSingleNode_with1Storage(areaConsumption,availabilityFactor,\n",
    "                                                      TechParameters,StorageParameters)\n",
    "Variables = getVariables_panda(res['model'])\n",
    "Constraints = getConstraintsDual_panda(res['model'])\n",
    "areaConsumption = res[\"areaConsumption\"]\n",
    "\n",
    "production_df=Variables['energy'].pivot(index=\"TIMESTAMP\",columns='TECHNOLOGIES', values='energy')\n",
    "production_df.loc[:,'Storage'] = areaConsumption[\"Storage\"]### put storage in the production time series\n",
    "production_df[production_df>0].sum(axis=0)/10**6 ### energies produites TWh\n",
    "production_df.max(axis=0)/1000 ### Pmax en GW\n",
    "Variables['capacity'] ### capacity en MW\n",
    "\n",
    "\n",
    "Selected_TECHNOLOGIES_Sto=list(Selected_TECHNOLOGIES)\n",
    "Selected_TECHNOLOGIES_Sto.append(\"Storage\")\n",
    "fig=MyStackedPlotly(x_df=production_df.index,\n",
    "                    y_df=production_df[Selected_TECHNOLOGIES_Sto],\n",
    "                    Names=Selected_TECHNOLOGIES_Sto)\n",
    "fig.update_layout(title_text=\"Production électrique (en KWh)\", xaxis_title=\"heures de l'année\")\n",
    "plotly.offline.plot(fig, filename='file.html') ## offline\n",
    "fig.show()\n",
    "stats=res[\"stats\"]\n",
    "#endregion\n"
   ],
   "metadata": {
    "collapsed": false,
    "pycharm": {
     "name": "#%%\n"
    }
   }
  },
  {
   "cell_type": "markdown",
   "source": [
    "TODO here  : add electrolysers"
   ],
   "metadata": {
    "collapsed": false,
    "pycharm": {
     "name": "#%% md\n"
    }
   }
  }
 ],
 "metadata": {
  "kernelspec": {
   "display_name": "Python 3",
   "language": "python",
   "name": "python3"
  },
  "language_info": {
   "codemirror_mode": {
    "name": "ipython",
    "version": 2
   },
   "file_extension": ".py",
   "mimetype": "text/x-python",
   "name": "python",
   "nbconvert_exporter": "python",
   "pygments_lexer": "ipython2",
   "version": "2.7.6"
  }
 },
 "nbformat": 4,
 "nbformat_minor": 0
}