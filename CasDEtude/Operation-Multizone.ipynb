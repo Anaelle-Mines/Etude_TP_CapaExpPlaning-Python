{
 "cells": [
  {
   "cell_type": "code",
   "execution_count": null,
   "metadata": {
    "collapsed": true
   },
   "outputs": [],
   "source": [
    "\n",
    "from functions.functions_Operation import *\n",
    "\n",
    "\n",
    "Zones=\"FR_DE_GB_ES\"\n",
    "year=2016\n",
    "Selected_AREAS={\"FR\",\"DE\"}\n",
    "Selected_TECHNOLOGIES={'Thermal', 'OldNuke', 'NewNuke', 'HydroRiver', 'HydroReservoir',\n",
    "       'WindOnShore', 'WindOffShore', 'Solar', 'Curtailement'}\n",
    "\n",
    "#### reading CSV files\n",
    "TechParameters = pd.read_csv('CSV/input/Gestion_MultiNode_DE-FR_AREAS_TECHNOLOGIES.csv',sep=';',decimal=',',comment=\"#\",skiprows=0)\n",
    "areaConsumption = pd.read_csv('CSV/input/areaConsumption'+str(year)+'_'+str(Zones)+'.csv',\n",
    "                                sep=',',decimal='.',skiprows=0)\n",
    "availabilityFactor = pd.read_csv('CSV/input/availabilityFactor'+str(year)+'_'+str(Zones)+'.csv',\n",
    "                                sep=',',decimal='.',skiprows=0)\n",
    "ExchangeParameters = pd.read_csv('CSV/input/Hypothese_DE-FR_AREAS_AREAS.csv',sep=';',decimal=',',skiprows=0,comment=\"#\")\n",
    "#### Selection of subset\n",
    "TechParameters=TechParameters[TechParameters.AREAS.isin(Selected_AREAS)&TechParameters.TECHNOLOGIES.isin(Selected_TECHNOLOGIES)]\n",
    "areaConsumption=areaConsumption[areaConsumption.AREAS.isin(Selected_AREAS)]\n",
    "availabilityFactor=availabilityFactor[availabilityFactor.AREAS.isin(Selected_AREAS)& availabilityFactor.TECHNOLOGIES.isin(Selected_TECHNOLOGIES)]\n",
    "\n",
    "### small data cleaning\n",
    "availabilityFactor.availabilityFactor[availabilityFactor.availabilityFactor>1]=1\n",
    "model = GetElectricSystemModel_GestionMultiNode(areaConsumption,availabilityFactor,TechParameters,ExchangeParameters)\n",
    "opt = SolverFactory('mosek')\n",
    "results=opt.solve(model)\n",
    "Variables=getVariables_panda(model)\n",
    "Variables.keys()\n",
    "Variables[\"energy\"].head()\n",
    "Variables[\"exchange\"].head()\n",
    "Variables[\"exchange\"].exchange.sum()\n",
    "Constraints= getConstraintsDual_panda(model)\n",
    "Constraints.keys()\n",
    "\n",
    "\n"
   ]
  }
 ],
 "metadata": {
  "kernelspec": {
   "display_name": "Python 3",
   "language": "python",
   "name": "python3"
  },
  "language_info": {
   "codemirror_mode": {
    "name": "ipython",
    "version": 2
   },
   "file_extension": ".py",
   "mimetype": "text/x-python",
   "name": "python",
   "nbconvert_exporter": "python",
   "pygments_lexer": "ipython2",
   "version": "2.7.6"
  }
 },
 "nbformat": 4,
 "nbformat_minor": 0
}