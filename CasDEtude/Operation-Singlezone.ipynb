{
 "cells": [
  {
   "cell_type": "code",
   "execution_count": null,
   "metadata": {
    "collapsed": true
   },
   "outputs": [],
   "source": [
    "from functions.functions_Operation import *\n",
    "\n",
    "\n",
    "############################\n",
    "#### Single Node Operation #\n",
    "############################\n",
    "\n",
    "Zones=\"FR\"\n",
    "year=2013\n",
    "\n",
    "Selected_TECHNOLOGIES={'Thermal', 'OldNuke', 'NewNuke', 'HydroRiver', 'HydroReservoir',\n",
    "       'WindOnShore', 'WindOffShore', 'Solar', 'Curtailement'}\n",
    "\n",
    "#### reading CSV files\n",
    "areaConsumption = pd.read_csv('CSV/input/areaConsumption'+str(year)+'_'+str(Zones)+'.csv',\n",
    "                                sep=',',decimal='.',skiprows=0)\n",
    "availabilityFactor = pd.read_csv('CSV/input/availabilityFactor'+str(year)+'_'+str(Zones)+'.csv',\n",
    "                                sep=',',decimal='.',skiprows=0)\n",
    "TechParameters = pd.read_csv('CSV/input/Gestion-Simple_TECHNOLOGIES.csv',sep=';',decimal=',',skiprows=0)\n",
    "\n",
    "#### Selection of subset\n",
    "availabilityFactor=availabilityFactor[ availabilityFactor.TECHNOLOGIES.isin(Selected_TECHNOLOGIES)]\n",
    "TechParameters=TechParameters[TechParameters.TECHNOLOGIES.isin(Selected_TECHNOLOGIES)]\n",
    "\n",
    "availabilityFactor.head()\n",
    "\n",
    "availabilityFactor.pivot(index=\"TIMESTAMP\",columns='TECHNOLOGIES', values='availabilityFactor').\\\n",
    "    iloc[1:240].plot(y=\"WindOnShore\",kind=\"line\").set_ylim(0,1)\n",
    "\n",
    "model = GetElectricSystemModel_GestionSingleNode(areaConsumption,availabilityFactor,TechParameters)\n",
    "opt = SolverFactory('mosek')\n",
    "results=opt.solve(model)\n",
    "\n",
    "\n",
    "#### obtain optimized variables in panda form\n",
    "Variables=getVariables_panda(model)\n",
    "Variables.keys()\n",
    "\n",
    "Variables[\"energy\"].pivot(index=\"TIMESTAMP\",columns='TECHNOLOGIES', values='energy').\\\n",
    "    iloc[1:24].plot.area()\n",
    "\n",
    "#### obtain lagrange multipliers in panda form\n",
    "Constraints= getConstraintsDual_panda(model)\n",
    "Constraints.keys()\n",
    "Constraints[\"energyCtr\"].assign(Prix=lambda x: x.energyCtr *10**6).head()\n",
    "Constraints[\"energyCtr\"].assign(Prix=lambda x: x.energyCtr *10**6).iloc[1:8760].\\\n",
    "    plot(x=\"TIMESTAMP\",y=\"Prix\",kind=\"line\").set_ylim(0,200)\n",
    "Constraints[\"energyCtr\"].head()\n"
   ]
  }
 ],
 "metadata": {
  "kernelspec": {
   "display_name": "Python 3",
   "language": "python",
   "name": "python3"
  },
  "language_info": {
   "codemirror_mode": {
    "name": "ipython",
    "version": 2
   },
   "file_extension": ".py",
   "mimetype": "text/x-python",
   "name": "python",
   "nbconvert_exporter": "python",
   "pygments_lexer": "ipython2",
   "version": "2.7.6"
  }
 },
 "nbformat": 4,
 "nbformat_minor": 0
}