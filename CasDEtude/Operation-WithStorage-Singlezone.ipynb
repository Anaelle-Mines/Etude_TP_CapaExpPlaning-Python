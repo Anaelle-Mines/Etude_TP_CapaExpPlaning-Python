{
 "cells": [
  {
   "cell_type": "code",
   "execution_count": null,
   "metadata": {
    "collapsed": true
   },
   "outputs": [],
   "source": [
    "#!/usr/bin/env python3\n",
    "# -*- coding: utf-8 -*-\n",
    "\"\"\"\n",
    "Created on Tue May 12 16:34:05 2020\n",
    "\n",
    "@author: robin.girard\n",
    "\"\"\"\n",
    "\n",
    "from dynprogstorage.wrappers import *\n",
    "from functions.functions_Operation import *\n",
    "############################\n",
    "#### Single Node Operation #\n",
    "############################\n",
    "\n",
    "Zones=\"FR\"\n",
    "year=2013\n",
    "\n",
    "Selected_TECHNOLOGIES={'Thermal', 'OldNuke', 'WindOnShore',\"Curtailement\"}\n",
    "\n",
    "#### reading CSV files\n",
    "areaConsumption = pd.read_csv('CSV/input/areaConsumption'+str(year)+'_'+str(Zones)+'.csv',\n",
    "                                sep=',',decimal='.',skiprows=0)\n",
    "availabilityFactor = pd.read_csv('CSV/input/availabilityFactor'+str(year)+'_'+str(Zones)+'.csv',\n",
    "                                sep=',',decimal='.',skiprows=0)\n",
    "TechParameters = pd.read_csv('CSV/input/Gestion-Simple_TECHNOLOGIES.csv',sep=';',decimal=',',skiprows=0)\n",
    "\n",
    "#### Selection of subset\n",
    "availabilityFactor=availabilityFactor[ availabilityFactor.TECHNOLOGIES.isin(Selected_TECHNOLOGIES)]\n",
    "TechParameters=TechParameters[TechParameters.TECHNOLOGIES.isin(Selected_TECHNOLOGIES)]\n",
    "\n",
    "availabilityFactor.head()\n",
    "\n",
    "availabilityFactor.pivot(index=\"TIMESTAMP\",columns='TECHNOLOGIES', values='availabilityFactor').\\\n",
    "    iloc[1:240].plot(y=\"WindOnShore\",kind=\"line\").set_ylim(0,1)\n",
    "\n",
    "pmax=10000\n",
    "res= GetElectricSystemModel_GestionSingleNode_with1Storage(areaConsumption,availabilityFactor,\n",
    "                                                      TechParameters,p_max=pmax,c_max=pmax*10)\n",
    "areaConsumption = res[\"areaConsumption\"]\n",
    "model= res[\"model\"]\n",
    "stats=res[\"stats\"]\n",
    "\n",
    "#### a mettre au propre\n",
    "#### faire planing + storage (dans un autre fichier)\n",
    "\n",
    "import matplotlib.pyplot as plt\n",
    "\n",
    "PrixTotal\n",
    "plt.figure(figsize=(12,5))\n",
    "plt.xlabel('Number of requests every 10 minutes')\n",
    "\n",
    "ax1 = areaConsumption.NewConsumption.plot(color='blue', grid=True, label='Count')\n",
    "ax2 = areaConsumption.areaConsumption.plot(color='red', grid=True, secondary_y=True, label='Sum')\n",
    "\n",
    "areaConsumption[\"NewConsumption\"].max()\n",
    "areaConsumption[\"Storage\"].max()\n",
    "plt.legend(h1+h2, l1+l2, loc=2)\n",
    "plt.show()\n",
    "\n",
    "plt.scatter(areaConsumption[\"NewConsumption\"], areaConsumption[\"areaConsumption\"])\n",
    "plt.show() # Depending on whether you use IPython or interactive mode, etc.\n",
    "areaConsumption.plot()\n",
    "\n"
   ]
  }
 ],
 "metadata": {
  "kernelspec": {
   "display_name": "Python 3",
   "language": "python",
   "name": "python3"
  },
  "language_info": {
   "codemirror_mode": {
    "name": "ipython",
    "version": 2
   },
   "file_extension": ".py",
   "mimetype": "text/x-python",
   "name": "python",
   "nbconvert_exporter": "python",
   "pygments_lexer": "ipython2",
   "version": "2.7.6"
  }
 },
 "nbformat": 4,
 "nbformat_minor": 0
}