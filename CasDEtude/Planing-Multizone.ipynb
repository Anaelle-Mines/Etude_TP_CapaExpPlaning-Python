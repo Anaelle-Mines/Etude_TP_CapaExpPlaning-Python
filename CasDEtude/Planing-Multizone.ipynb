{
 "cells": [
  {
   "cell_type": "code",
   "execution_count": null,
   "metadata": {
    "collapsed": true,
    "pycharm": {
     "name": "#%%\n"
    }
   },
   "outputs": [],
   "source": [
    "#!/usr/bin/env python3\n",
    "# -*- coding: utf-8 -*-\n",
    "\"\"\"\n",
    "Created on Thu May 14 09:32:33 2020\n",
    "\n",
    "@author: robin.girard\n",
    "\"\"\"\n",
    "\n",
    "\n",
    "from functions.functions_Planing import *\n",
    "############################\n",
    "#### Multi Node Planing #\n",
    "############################\n",
    "\n",
    "Zones=\"FR_DE_GB_ES\"\n",
    "year=2016\n",
    "Selected_AREAS={\"FR\",\"DE\"}\n",
    "\n",
    "Selected_TECHNOLOGIES={'Thermal', 'OldNuke', 'NewNuke', 'HydroRiver', 'HydroReservoir',\n",
    "       'WindOnShore', 'WindOffShore', 'Solar', 'Curtailement'}\n",
    "\n",
    "#### reading CSV files\n",
    "areaConsumption = pd.read_csv('CSV/input/areaConsumption'+str(year)+'_'+str(Zones)+'.csv',\n",
    "                                sep=',',decimal='.',skiprows=0)\n",
    "availabilityFactor = pd.read_csv('CSV/input/availabilityFactor'+str(year)+'_'+str(Zones)+'.csv',\n",
    "                                sep=',',decimal='.',skiprows=0)\n",
    "TechParameters = pd.read_csv('CSV/input/Planing_MultiNode_DE-FR_TECHNOLOGIES_AREAS.csv',sep=';',decimal=',',skiprows=0,comment=\"#\")\n",
    "ExchangeParameters = pd.read_csv('CSV/input/Hypothese_DE-FR_AREAS_AREAS.csv',sep=';',decimal=',',skiprows=0,comment=\"#\")\n",
    "\n",
    "#### Selection of subset\n",
    "availabilityFactor=availabilityFactor[ availabilityFactor.TECHNOLOGIES.isin(Selected_TECHNOLOGIES)]\n",
    "TechParameters=TechParameters[TechParameters.TECHNOLOGIES.isin(Selected_TECHNOLOGIES)]\n",
    "\n",
    "availabilityFactor.head()\n",
    "#availabilityFactor.pivot(index=\"TIMESTAMP\",columns='TECHNOLOGIES', values='availabilityFactor').\\\n",
    "#    iloc[1:240].plot(y=\"WindOnShore\",kind=\"line\").set_ylim(0,1)\n",
    "availabilityFactor.availabilityFactor[availabilityFactor.availabilityFactor>1]=1\n",
    "model = GetElectricSystemModel_PlaningMultiNode(areaConsumption,availabilityFactor,TechParameters,ExchangeParameters)\n",
    "opt = SolverFactory('mosek')\n",
    "results=opt.solve(model)\n",
    "\n"
   ]
  }
 ],
 "metadata": {
  "kernelspec": {
   "display_name": "Python 3",
   "language": "python",
   "name": "python3"
  },
  "language_info": {
   "codemirror_mode": {
    "name": "ipython",
    "version": 2
   },
   "file_extension": ".py",
   "mimetype": "text/x-python",
   "name": "python",
   "nbconvert_exporter": "python",
   "pygments_lexer": "ipython2",
   "version": "2.7.6"
  }
 },
 "nbformat": 4,
 "nbformat_minor": 0
}