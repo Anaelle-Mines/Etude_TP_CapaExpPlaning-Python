{
 "cells": [
  {
   "cell_type": "markdown",
   "metadata": {
    "collapsed": true,
    "pycharm": {
     "name": "#%% md\n"
    }
   },
   "source": [
    "# Contenu Carbone de l'électricité\n",
    "\n",
    "* [Introduction](#introduction)\n",
    "* [1. Analyse bibliographique](#1.biblio)\n",
    "* [2. Scenarios Futures](#2.scenarios)\n",
    "\n"
   ]
  },
  {
   "cell_type": "markdown",
   "source": [
    "\n",
    "## Introduction <a class=\"anchor\" id=\"introduction\"></a>\n",
    "\n",
    "Le contenu carbone de l’électricité utilisée pour le chauffage est un enjeu très\n",
    "important aujourd’hui, au coeur des discussions sur la nouvelle réglementation\n",
    "thermique et sur la stratégie nationale bas carbone. Les valeurs que l’on peut\n",
    "voir vont de 70 gCO2/kWh à 200 gCO2/kWh, mais le choix d’une valeur plutôt qu’une\n",
    "autre a un impact considérable sur notre politique énergétique. Votre objectif dans\n",
    "ce projet sera d’expliquer ce qui sous-tend ces différentes valeurs par des\n",
    "études bibliographiques et surtout de proposer des méthodes pour en calculer\n",
    "de nouvelles. Dans le calcul d’une valeur carbone à partir du contenu « marginal »,\n",
    "on affecte au chauffage électrique le contenu carbone des derniers MWh appelés\n",
    " (souvent de l’électricité produite à partir du gaz). C’est une manière d’exagérer\n",
    " le contenu carbone de cette électricité de pointe qui est couverte en grande partie\n",
    " par une production nucléaire. A l’inverse, la méthode qui consiste à calculer,\n",
    " avec des règles de proportionnalité établies heure par heure, le contenu carbone\n",
    " heure par heure du mix actuel ne permet pas de refléter les effets liés aux\n",
    " évolutions du mix électrique à venir. Si l’on choisit de développer massivement\n",
    "  le chauffage électrique (et surtout les grilles-pain), sans rénover les bâtiments\n",
    "   et en s’interdisant de dépasser 63 GW de nucléaire, il est clair que le contenu\n",
    "    horaire va évoluer et que les décisions que nous prenons aujourd’hui auront des\n",
    "    conséquences vis à vis du mix de demain. Dans ce projet, vous allez donc chercher\n",
    "     à modéliser le contenu carbone de l’électricité à partir de simulations du système électrique futur\n",
    "    en France et selon divers évolution du mix et de la thermosensibilité.\n",
    "\n",
    "## 1. Analyse bibliographique <a class=\"anchor\" id=\"1.biblio\"></a>\n",
    "[Post Engie](https://www.linkedin.com/pulse/contenu-co2-du-chauffage-%C3%A9lectrique-en-france-didier-holleaux/)\n",
    "\n",
    "## 2. Scenarios Futures <a class=\"anchor\" id=\"2.scenarios\"></a>"
   ],
   "metadata": {
    "collapsed": false
   }
  }
 ],
 "metadata": {
  "kernelspec": {
   "display_name": "Python 3",
   "language": "python",
   "name": "python3"
  },
  "language_info": {
   "codemirror_mode": {
    "name": "ipython",
    "version": 2
   },
   "file_extension": ".py",
   "mimetype": "text/x-python",
   "name": "python",
   "nbconvert_exporter": "python",
   "pygments_lexer": "ipython2",
   "version": "2.7.6"
  }
 },
 "nbformat": 4,
 "nbformat_minor": 0
}