{
 "cells": [
  {
   "cell_type": "markdown",
   "metadata": {},
   "source": [
    "# TP -- Pracical work\n",
    "\n",
    "### Table of Contents\n",
    "\n",
    "* [Introduction](#introduction)\n",
    "* [1. Analysing variability, capacity factors](#1.variability)\n",
    "    * [Q1.1. Load factor (production/consumption)](#1.1.Question)\n",
    "    * [Q1.2. Most simple dimensioning rules -- Lower and upper bound](#1.2.Question)\n",
    "    * [Q1.3. Dimensioning -- Adding a storage](#1.3.Question)\n",
    "* [2. Economic analysis, computing LCOE, system LCOE](#2.LCOE)\n",
    "    * [Q2.1. LCOE of renewable + Flex system](#2.1.Question)\n",
    "* [3. Optimisation of operation](#3.Operation)\n",
    "    * [Q3.1. Optimisation results and Lagrange multipliers](#3.1.Question)\n",
    "    * [Q3.2. Storage optimisation](#3.2.Question)\n",
    "* [4. Optimisation of planning](#4.Planning)\n",
    "    * [Q4.1. Optimisation results and Lagrange multipliers](#4.1.Question)\n",
    "\n"
   ]
  },
  {
   "cell_type": "markdown",
   "metadata": {},
   "source": [
    "## Introduction <a class=\"anchor\" id=\"introduction\"></a>\n",
    "\n",
    "Question asked here can generally be answered by copy-past of code given in folder \"BasicFunctionalities\" + small modifications/additions of yoru own.\n"
   ]
  },
  {
   "cell_type": "code",
   "execution_count": 1,
   "metadata": {
    "pycharm": {
     "name": "#%%\n"
    }
   },
   "outputs": [],
   "source": [
    "import os\n",
    "if os.path.basename(os.getcwd())==\"SujetsDAnalyses\":\n",
    "    os.chdir('..') ## to work at project root  like in any IDE\n",
    "if os.path.basename(os.getcwd())==\"Selected\":\n",
    "    os.chdir('../..') ## to work at project root  like in any IDE\n",
    "InputFolder='Data/input/'\n",
    "\n",
    "#region importation of modules\n",
    "import numpy as np\n",
    "import pandas as pd\n",
    "import seaborn as sns\n",
    "import csv\n",
    "import datetime\n",
    "import copy\n",
    "import plotly.graph_objects as go\n",
    "import matplotlib.pyplot as plt\n",
    "from sklearn import linear_model\n",
    "from functions.f_operationModels import *\n",
    "from functions.f_optimization import *\n",
    "from functions.f_graphicalTools import *\n",
    "import sys\n",
    "\n",
    "#endregion\n",
    "\n",
    "#region Solver and data location definition\n",
    "\n",
    "InputFolder='Data/input/'\n",
    "\n",
    "if sys.platform != 'win32':\n",
    "    myhost = os.uname()[1]\n",
    "else : myhost = \"\"\n",
    "if (myhost==\"jupyter-sop\"):\n",
    "    ## for https://jupyter-sop.mines-paristech.fr/ users, you need to\n",
    "    #  (1) run the following to loanch the license server\n",
    "    if (os.system(\"/opt/mosek/9.2/tools/platform/linux64x86/bin/lmgrd -c /opt/mosek/9.2/tools/platform/linux64x86/bin/mosek.lic -l lmgrd.log\")==0):\n",
    "        os.system(\"/opt/mosek/9.2/tools/platform/linux64x86/bin/lmutil lmstat -c 27007@127.0.0.1 -a\")\n",
    "    #  (2) definition of license\n",
    "    os.environ[\"MOSEKLM_LICENSE_FILE\"] = '@jupyter-sop'\n",
    "\n",
    "BaseSolverPath='/Users/robin.girard/Documents/Code/Packages/solvers/ampl_macosx64' ### change this to the folder with knitro ampl ...\n",
    "## in order to obtain more solver see see https://ampl.com/products/solvers/open-source/\n",
    "## for eduction this site provides also several professional solvers, that are more efficient than e.g. cbc\n",
    "sys.path.append(BaseSolverPath)\n",
    "solvers= ['gurobi','knitro','cbc'] # try 'glpk', 'cplex'\n",
    "solverpath= {}\n",
    "for solver in solvers : solverpath[solver]=BaseSolverPath+'/'+solver\n",
    "solver= 'mosek' ## no need for solverpath with mosek.\n",
    "#endregion\n"
   ]
  },
  {
   "cell_type": "markdown",
   "metadata": {},
   "source": [
    "## 1. Analysing variability, capacity factors  <a class=\"anchor\" id=\"1.variability\"></a>\n",
    "To answer questions here, you only need to understand thermal sensitivity manipulations explained in file BasicFunctionalities/input-Consumption.ipynb and\n",
    "and know how to extract Availability data here : BasicFunctionalities/input-Availability.ipynb. You have to know the definition of capacity factor,\n",
    "and the difference between installed power and energy produced. You can find the corresponding definitions in the first two sections of\n",
    "the post [here](https://www.energy-alternatives.eu/2020/05/07/mix-de-production-delectricite-energie-et-puissance.html).\n",
    "\n",
    "### Q1.1. Load factor (production/consumption)  <a class=\"anchor\" id=\"1.1.Question\"></a>\n",
    "\n",
    "**Load factor of consumption**\n",
    "\n",
    "From the available data, compute load factor of consumption mean($C_t$)/max($C_t$) [%]\n",
    "for\n",
    "\n",
    " - year 2016 for different countries available,\n",
    " - 2013 à 2017 de 0 à 2,5 GW/°C\n"
   ]
  },
  {
   "cell_type": "code",
   "execution_count": 2,
   "metadata": {
    "pycharm": {
     "name": "#%%\n"
    }
   },
   "outputs": [
    {
     "name": "stdout",
     "output_type": "stream",
     "text": [
      "Facteur de charge de la région :  FR  :  0.6162\n",
      "Facteur de charge de la région :  DE  :  0.7266\n",
      "Facteur de charge de la région :  ES  :  0.7101\n",
      "Facteur de charge de la région :  GB  :  0.6066\n",
      "###################\n",
      "Facteur de charge en France pour l'année 2013 :  0.607\n",
      "Avec 0.0 GW/°C :  0.663\n",
      "Avec 1.0 GW/°C :  0.682\n",
      "Avec 1.5 GW/°C :  0.657\n",
      "Avec 2.0 GW/°C :  0.621\n",
      "Facteur de charge en France pour l'année 2014 :  0.639\n",
      "Avec 0.0 GW/°C :  0.644\n",
      "Avec 1.0 GW/°C :  0.660\n",
      "Avec 1.5 GW/°C :  0.647\n",
      "Avec 2.0 GW/°C :  0.628\n",
      "Facteur de charge en France pour l'année 2015 :  0.587\n",
      "Avec 0.0 GW/°C :  0.675\n",
      "Avec 1.0 GW/°C :  0.649\n",
      "Avec 1.5 GW/°C :  0.619\n",
      "Avec 2.0 GW/°C :  0.592\n",
      "Facteur de charge en France pour l'année 2016 :  0.616\n",
      "Avec 0.0 GW/°C :  0.710\n",
      "Avec 1.0 GW/°C :  0.695\n",
      "Avec 1.5 GW/°C :  0.670\n",
      "Avec 2.0 GW/°C :  0.641\n",
      "Facteur de charge en France pour l'année 2017 :  0.580\n",
      "Avec 0.0 GW/°C :  0.657\n",
      "Avec 1.0 GW/°C :  0.648\n",
      "Avec 1.5 GW/°C :  0.631\n",
      "Avec 2.0 GW/°C :  0.604\n"
     ]
    }
   ],
   "source": [
    "from functions.f_consumptionModels import *\n",
    "#region multi zone\n",
    "area=\"FR_DE_GB_ES\"\n",
    "year=2016 #only possible year\n",
    "areaConsumption = pd.read_csv(InputFolder+'areaConsumption'+str(year)+'_'+str(area)+'.csv',\n",
    "                                sep=',',decimal='.',skiprows=0).set_index([\"AREAS\",\"TIMESTAMP\"])\n",
    "#print(areaConsumption)\n",
    "for region in [\"FR\",\"DE\",\"ES\",\"GB\"]: ### problem with spain data\n",
    "    conso = areaConsumption.loc[(region,slice(None)),\"areaConsumption\"]\n",
    "    mean = conso.mean()\n",
    "    maxi = conso.max()\n",
    "    print('Facteur de charge de la région : ',region,' : ',\"%.4f\" % (mean/maxi))\n",
    "\n",
    "\n",
    "print('###################')\n",
    "\n",
    "ConsoTempe_df=pd.read_csv(InputFolder+'ConsumptionTemperature_1996TO2019_FR.csv')\n",
    "ConsoTempe_df[\"TIMESTAMP\"]=pd.to_datetime(ConsoTempe_df['Date'])\n",
    "ConsoTempe_df=ConsoTempe_df.drop(columns=[\"Date\"]).set_index([\"TIMESTAMP\"])\n",
    "\n",
    "for year in [2013,2014,2015,2016,2017]:\n",
    "    ConsoTempeYear_df=ConsoTempe_df[str(year)]\n",
    "    mean = ConsoTempeYear_df['Consumption'].mean()\n",
    "    maxi = ConsoTempeYear_df['Consumption'].max()\n",
    "    print('Facteur de charge en France pour l\\'année {} : '.format(year),\"%.3f\" % (mean/maxi))\n",
    "    (ConsoTempeYear_decomposed_df,Thermosensibilite)= Decomposeconso(ConsoTempeYear_df,TemperatureThreshold=15)\n",
    "    #print(Thermosensibilite)\n",
    "    for thermo_sens in [0,1,1.5,2]:\n",
    "        NewThermosensibilite={}\n",
    "        for key in Thermosensibilite:    NewThermosensibilite[key]= -thermo_sens*1000\n",
    "        NewConsoTempeYear_decomposed_df=Recompose(ConsoTempeYear_decomposed_df,NewThermosensibilite,\n",
    "                                                  TemperatureThreshold=15)\n",
    "        mean = NewConsoTempeYear_decomposed_df['Consumption'].mean()\n",
    "        maxi = NewConsoTempeYear_decomposed_df['Consumption'].max()\n",
    "        print('Avec {:.1f} GW/°C : '.format(thermo_sens),\"%.3f\" %(mean/maxi))"
   ]
  },
  {
   "cell_type": "markdown",
   "metadata": {},
   "source": [
    "**Load factor of Wind Power and PV production**\n",
    "\n",
    "Compute load factor of renewable production (PV/Wind) for different years/countries that are available (see input-Availability.ipynb)."
   ]
  },
  {
   "cell_type": "code",
   "execution_count": 3,
   "metadata": {
    "pycharm": {
     "name": "#%%\n"
    }
   },
   "outputs": [
    {
     "name": "stdout",
     "output_type": "stream",
     "text": [
      "######################################################\n",
      "Load factor of WindOnShore technology\n",
      "in France: \n",
      "2013 : 0.233\n",
      "2014 : 0.229\n",
      "2015 : 0.248\n",
      "2016 : 0.220\n",
      "######################################################\n",
      "Load factor of Solar technology\n",
      "in France: \n",
      "2013 : 0.135\n",
      "2014 : 0.143\n",
      "2015 : 0.148\n",
      "2016 : 0.144\n",
      "######################################################\n",
      "######################################################\n",
      "In 2016 Europa\n",
      "Load factor of WindOnShore technology\n",
      "FR :  0.220\n",
      "DE :  0.176\n",
      "ES :  0.235\n",
      "GB :  0.246\n",
      "######################################################\n",
      "Load factor of WindOffShore technology\n",
      "FR :  0.279\n",
      "DE :  0.228\n",
      "ES :  0.303\n",
      "GB :  0.312\n",
      "######################################################\n",
      "Load factor of Solar technology\n",
      "FR :  0.144\n",
      "DE :  0.099\n",
      "ES :  0.123\n",
      "GB :  0.221\n",
      "######################################################\n"
     ]
    }
   ],
   "source": [
    "for tech in ['WindOnShore','Solar']:#'Thermal' 'OldNuke' 'HydroRiver' 'HydroReservoir' 'WindOnShore' 'Solar'\n",
    "    print('######################################################')\n",
    "    print('Load factor of {} technology'.format(tech))\n",
    "    for area in [\"FR\"]:\n",
    "        print('in France: ')\n",
    "        for year in range(2013,2017):\n",
    "            availabilityFactor = pd.read_csv(InputFolder+'availabilityFactor'+str(year)+'_'+str(area)+'.csv',\n",
    "                                sep=',',decimal='.',skiprows=0)\n",
    "            tabl=availabilityFactor[availabilityFactor['TECHNOLOGIES']==tech]\n",
    "            print('{} :'.format(year),\"%.3f\" % (tabl['availabilityFactor'].mean()))\n",
    "print('######################################################')\n",
    "print('######################################################')\n",
    "\n",
    "print('In 2016 Europa')\n",
    "#import data\n",
    "availabilityFactor = pd.read_csv(InputFolder+'availabilityFactor2016_FR_DE_GB_ES.csv'\n",
    "                                 ,sep=',',decimal='.',skiprows=0)\n",
    "\n",
    "for tech in ['WindOnShore','WindOffShore','Solar']:#'Thermal' 'OldNuke' 'HydroRiver' 'HydroReservoir' 'WindOnShore' 'Solar'\n",
    "    print('Load factor of {} technology'.format(tech))\n",
    "    for area in [\"FR\",\"DE\",\"ES\",\"GB\"]:\n",
    "        tabl=availabilityFactor[availabilityFactor['TECHNOLOGIES']==tech]\n",
    "        tabl=tabl[tabl['AREAS']==area]\n",
    "        print(\"{} : \".format(area),\"%.3f\" % (tabl['availabilityFactor'].mean()))\n",
    "    print('######################################################')"
   ]
  },
  {
   "cell_type": "markdown",
   "metadata": {},
   "source": [
    "**\"Load factor\" of nuclear availability**\n",
    "\n",
    "Compute the \"load factor\" of nuclear availability for year 2007 to 2016."
   ]
  },
  {
   "cell_type": "code",
   "execution_count": 4,
   "metadata": {
    "pycharm": {
     "name": "#%%\n"
    }
   },
   "outputs": [
    {
     "name": "stdout",
     "output_type": "stream",
     "text": [
      "Nuclear load factor in France\n",
      "in year 2007 : 0.84967\n",
      "in year 2008 : 0.82094\n",
      "in year 2009 : 0.78128\n",
      "in year 2010 : 0.81332\n",
      "in year 2011 : 0.80337\n",
      "in year 2012 : 0.79290\n",
      "in year 2013 : 0.80118\n",
      "in year 2014 : 0.81614\n",
      "in year 2015 : 0.81357\n",
      "in year 2016 : 0.75576\n",
      "no data for 2017\n"
     ]
    }
   ],
   "source": [
    "#DispoNukeTotal2007_2017.csv\n",
    "nukeConso = pd.read_csv(InputFolder+'DispoNukeTotal2007_2017.csv',\n",
    "                                sep=';',decimal=',',skiprows=0,dtype={'Availability':np.float64})\n",
    "\n",
    "print('Nuclear load factor in France')\n",
    "for year in range(2007, 2017):\n",
    "            nukeConso['year'] = pd.DatetimeIndex(nukeConso['Dates']).year\n",
    "            tabl=nukeConso[nukeConso['year']==year]\n",
    "            print('in year {} :'.format(year),\"%.5f\" % (tabl['Availability'].mean()/tabl['Availability'].max()))\n",
    "print('no data for 2017')\n"
   ]
  },
  {
   "cell_type": "markdown",
   "metadata": {},
   "source": [
    "\n",
    "### Q1.2. Most simple dimensioning rules -- Lower and upper bound  <a class=\"anchor\" id=\"1.2.Question\"></a>\n",
    "\n",
    " **a -- Lower bound**\n",
    "\n",
    "How much power of XXX power would you need to install in LLL to have an **annual energy** produced equal to the annual energy consummed in year YYY ?\n",
    " Answer this question for XXX = {Wind, PV, Nuke}, LLL =available country and YYY available year."
   ]
  },
  {
   "cell_type": "code",
   "execution_count": 5,
   "metadata": {},
   "outputs": [
    {
     "name": "stdout",
     "output_type": "stream",
     "text": [
      "total consumption of 2013 : 492.015 TWh\n",
      "total consumption of 2014 : 462.467 TWh\n",
      "total consumption of 2015 : 473.104 TWh\n",
      "total consumption of 2016 : 480.291 TWh\n",
      "######################################################\n",
      "######################################################\n",
      "Mean Load Factor per sector\n",
      "######################################################\n",
      "2013   WindOnShore  :  0.233\n",
      "\t\t Lower bound :  240.965 GW\n",
      "2014   WindOnShore  :  0.229\n",
      "\t\t Lower bound :  230.225 GW\n",
      "2015   WindOnShore  :  0.248\n",
      "\t\t Lower bound :  217.762 GW\n",
      "2016   WindOnShore  :  0.220\n",
      "\t\t Lower bound :  248.872 GW\n",
      "######################################################\n",
      "2013   Solar  :  0.135\n",
      "\t\t Lower bound :  416.965 GW\n",
      "2014   Solar  :  0.143\n",
      "\t\t Lower bound :  369.209 GW\n",
      "2015   Solar  :  0.148\n",
      "\t\t Lower bound :  364.830 GW\n",
      "2016   Solar  :  0.144\n",
      "\t\t Lower bound :  380.086 GW\n",
      "######################################################\n",
      "2013   OldNuke  :  0.759\n",
      "\t\t Lower bound :  73.979 GW\n",
      "2014   OldNuke  :  0.791\n",
      "\t\t Lower bound :  66.761 GW\n",
      "2015   OldNuke  :  0.797\n",
      "\t\t Lower bound :  67.766 GW\n",
      "2016   OldNuke  :  0.718\n",
      "\t\t Lower bound :  76.403 GW\n"
     ]
    }
   ],
   "source": [
    "year = 2016\n",
    "area = 'FR'\n",
    "consumption_table  = {}\n",
    "\n",
    "for year in range(2013,2017):\n",
    "\n",
    "    consumption = pd.read_csv(InputFolder+'areaConsumption'+str(year)+'_'+str(area)+'.csv',\n",
    "                                    sep=',',decimal='.',skiprows=0)\n",
    "    energyConso = consumption['areaConsumption'].sum()\n",
    "    consumption_table[year] = energyConso\n",
    "    print('total consumption of {} :'.format(year),\"%.3f\" % (energyConso/1e6),'TWh')\n",
    "\n",
    "print('######################################################')\n",
    "print('######################################################')\n",
    "\n",
    "print('Mean Load Factor per sector')\n",
    "for tech in ['WindOnShore','Solar','OldNuke']:\n",
    "    print('######################################################')\n",
    "    for year in range(2013,2017):\n",
    "        availabilityFactor = pd.read_csv(InputFolder+'availabilityFactor'+str(year)+'_'+str(area)+'.csv',\n",
    "                            sep=',',decimal='.',skiprows=0)\n",
    "        tabl=availabilityFactor[availabilityFactor['TECHNOLOGIES']==tech]\n",
    "        print(year,\" \",tech,\" : \",\"%.3f\" % (tabl['availabilityFactor'].mean()))\n",
    "        print('\\t\\t Lower bound : ',\"%.3f\" % ((consumption_table[year]/tabl['availabilityFactor'].mean())/(8760*1e3)),'GW')\n"
   ]
  },
  {
   "cell_type": "markdown",
   "metadata": {},
   "source": [
    " **b -- Upper bound**\n",
    "\n",
    "How much power of XXX power would you need to install in LLL to have an **hourly energy** produced equal to the hourly energy consummed in year YYY ?\n",
    " Answer this question for XXX = {Wind, Nuke}, LLL =available country and YYY available year.\n",
    " Assuming that for all hours of the year the excess of production is lost, what would be the capacity factor of productions in this cases"
   ]
  },
  {
   "cell_type": "code",
   "execution_count": 6,
   "metadata": {
    "pycharm": {
     "name": "#%%\n"
    }
   },
   "outputs": [
    {
     "name": "stdout",
     "output_type": "stream",
     "text": [
      "######################################################\n",
      "######################################################\n",
      "Mean Load Factor per sector\n",
      "######################################################\n",
      "2013   WindOnShore  : \n",
      "\t\t upper bound :  9007.383 GW\n",
      "2014   WindOnShore  : \n",
      "\t\t upper bound :  16169.042 GW\n",
      "2015   WindOnShore  : \n",
      "\t\t upper bound :  24926.397 GW\n",
      "2016   WindOnShore  : \n",
      "\t\t upper bound :  13449.137 GW\n",
      "######################################################\n",
      "2013   OldNuke  : \n",
      "\t\t upper bound :  106.410 GW\n",
      "2014   OldNuke  : \n",
      "\t\t upper bound :  94.064 GW\n",
      "2015   OldNuke  : \n",
      "\t\t upper bound :  98.030 GW\n",
      "2016   OldNuke  : \n",
      "\t\t upper bound :  113.853 GW\n"
     ]
    }
   ],
   "source": [
    "area=\"FR\"\n",
    "\n",
    "print('######################################################')\n",
    "print('######################################################')\n",
    "\n",
    "print('Mean Load Factor per sector')\n",
    "for tech in ['WindOnShore','OldNuke']:\n",
    "    print('######################################################')\n",
    "    for year in range(2013,2017) : #range(2013,2017):\n",
    "        availabilityFactor = pd.read_csv(InputFolder+'availabilityFactor'+str(year)+'_'+str(area)+'.csv',\n",
    "                            sep=',',decimal='.',skiprows=0).set_index(['TIMESTAMP','TECHNOLOGIES'])\n",
    "        consumption = pd.read_csv(InputFolder+'areaConsumption'+str(year)+'_'+str(area)+'.csv',\n",
    "                                    sep=',',decimal='.',skiprows=0).set_index(['TIMESTAMP'])\n",
    "        #print(consumption['areaConsumption'])\n",
    "        AvailabilityTech=availabilityFactor.loc[(slice(None),str(tech)),:].reset_index().set_index(\"TIMESTAMP\").drop([\"TECHNOLOGIES\"], axis=1)\n",
    "\n",
    "        print(year,\" \",tech,\" : \")\n",
    "        print('\\t\\t upper bound : ',\"%.3f\" % ( (consumption.areaConsumption/AvailabilityTech.availabilityFactor).max()/1e3),'GW')\n",
    "\n",
    "\n"
   ]
  },
  {
   "cell_type": "markdown",
   "metadata": {},
   "source": [
    " **c -- Sensitivity of the result to thermal sensitivity of consumption**\n",
    "\n",
    " For year 2016 and in France, analyse the sensitivity of the preceding results (upper bound and lower bound) on the thermal sensitivity of consumption"
   ]
  },
  {
   "cell_type": "code",
   "execution_count": 7,
   "metadata": {
    "pycharm": {
     "name": "#%%\n"
    }
   },
   "outputs": [],
   "source": [
    "# Put your answer here\n"
   ]
  },
  {
   "cell_type": "markdown",
   "metadata": {
    "pycharm": {
     "name": "#%% md\n"
    }
   },
   "source": [
    "### Q1.3 Dimensioning -- Adding a storage <a class=\"anchor\" id=\"1.3.Question\"></a>\n",
    "These questions are much more difficult than the preceding ones. It is possible that no student will manage to do it during the practical work session.\n",
    "\n",
    "**a - Dimensioning a system with Renewable + \"infinite storage\"**\n",
    "\n",
    "We now assume we have a theoretical storage with\n",
    " - infinite energy capacity (can store for hours without being full start with an initial capacity to discuss)\n",
    " - a maximum production power (of the storage) that will be equal to the maximum consumption power (of the storage)\n",
    " - These maximum power are supposed ajusted so that $C_t\\leq P_t+S_t$ for all hours $t$ of the considered year\n",
    " (With $C$ the consumption,$P$ the wind power production, $S$ the storage production. $S$ can be negative when it is a consumption)\n",
    " - an efficiency $\\eta=70%$\n",
    "\n",
    "\n",
    "\n",
    "Try to compute :\n",
    " - installed power of wind and storage,\n",
    " - losses of wind energy through the storage\n",
    " - losses of wind energy that cannot be stored of consumed directly."
   ]
  },
  {
   "cell_type": "code",
   "execution_count": 8,
   "metadata": {
    "pycharm": {
     "name": "#%%\n"
    }
   },
   "outputs": [],
   "source": [
    "# Put your answer here\n"
   ]
  },
  {
   "cell_type": "markdown",
   "metadata": {},
   "source": [
    "**b -adding french hydro power**\n",
    "\n",
    " In the preceding system, you can add french hydro production (the data can be found in Eco2mix section of input-Availability.ipynb)"
   ]
  },
  {
   "cell_type": "code",
   "execution_count": 9,
   "metadata": {
    "pycharm": {
     "name": "#%%\n"
    }
   },
   "outputs": [],
   "source": [
    "# Put your answer here"
   ]
  },
  {
   "cell_type": "markdown",
   "metadata": {},
   "source": [
    "**c -sensitibvity to thermal sensitivity**\n",
    "\n",
    " What is the sensitivity of the preceding results to thermal sensitivity of consumption"
   ]
  },
  {
   "cell_type": "code",
   "execution_count": 10,
   "metadata": {
    "pycharm": {
     "name": "#%%\n"
    }
   },
   "outputs": [],
   "source": [
    "# Put your answer here"
   ]
  },
  {
   "cell_type": "markdown",
   "metadata": {},
   "source": [
    "** d -Adding PV **\n",
    "In the preceding system, assume now you can mix PV and wind. What can you gain ?"
   ]
  },
  {
   "cell_type": "code",
   "execution_count": 11,
   "metadata": {
    "pycharm": {
     "name": "#%%\n"
    }
   },
   "outputs": [],
   "source": [
    "# Put your answer here\n"
   ]
  },
  {
   "cell_type": "markdown",
   "metadata": {},
   "source": [
    "If you finish all this before the end of the first session, of if you wish to dig a little bit more, you can read [this article](https://jancovici.com/transition-energetique/renouvelables/100-renouvelable-pour-pas-plus-cher-fastoche/)\n",
    "and discuss the dimensioning choice for the storage that is proposed there. Otherwise, or after that, you can switch to question 2."
   ]
  },
  {
   "cell_type": "markdown",
   "metadata": {},
   "source": [
    "## 2. Economic analysis, computing LCOE, system LCOE <a class=\"anchor\" id=\"2.LCOE\"></a>"
   ]
  },
  {
   "cell_type": "markdown",
   "metadata": {},
   "source": [
    "### Q2.1. LCOE of renewable + Flex system <a class=\"anchor\" id=\"2.1.Question\"></a>\n",
    "Read and understand jupyter notebook optim-Operation.ipynb.\n",
    "Try to imagine systems that are feasible and compute the corresponding system LCOE in the two following cases:\n",
    "- Nuke + CCG + hydro\n",
    "- Renewable + CCG + hydro\n",
    "You will need to set the installed power and produced energy for each of these production mean. Try to get inspiration from preceding section.\n",
    "There are no \"right answer\", the idea here is to have rough estimates that will be improved later.\n",
    "Try adding significant amount of electrolyser/fuel cells to replace CCG. How much capacity would you install and see how it changes the results ?\n",
    "Try changing the thermal sensitivity of consumption.\n",
    "You can also analyse the effect of discount rate, or carbon tax, or cost of gaz (by assumign e.g. it is a very expensive biogaz)."
   ]
  },
  {
   "cell_type": "code",
   "execution_count": 12,
   "metadata": {
    "pycharm": {
     "name": "#%%\n"
    }
   },
   "outputs": [],
   "source": [
    "# Put your answer here"
   ]
  },
  {
   "cell_type": "markdown",
   "metadata": {},
   "source": [
    "## 3. Optimisation of operation <a class=\"anchor\" id=\"3.Operation\"></a>"
   ]
  },
  {
   "cell_type": "markdown",
   "metadata": {},
   "source": [
    "### Q3.1. Optimisation results and Lagrange multipliers <a class=\"anchor\" id=\"3.1.Question\"></a>\n",
    "Read and understand jupyter notebook optim-Operation.ipynb. Can you explain the value of all lagrange multiplier in a simple case with two production means ?\n",
    "With one area and then with two. How is it possible to generate negative lagrange multipliers ? Propose a simple case where they appear and explain the corresponding values.\n"
   ]
  },
  {
   "cell_type": "code",
   "execution_count": 13,
   "metadata": {
    "pycharm": {
     "name": "#%%\n"
    }
   },
   "outputs": [],
   "source": [
    "# Put your answer here"
   ]
  },
  {
   "cell_type": "markdown",
   "metadata": {},
   "source": [
    "### Q3.2. Storage optimisation <a class=\"anchor\" id=\"3.2.Question\"></a>\n",
    "Read and understand jupyter notebook optim-storage.ipynb. What is the maximal price for the storage system to be profitable today ?\n",
    "Apply an homothetic transformation to increase the variance of the prices but without changing the mean (and by keeping positive prices).\n",
    "How does it change the preceding results ?"
   ]
  },
  {
   "cell_type": "code",
   "execution_count": 14,
   "metadata": {
    "pycharm": {
     "name": "#%%\n"
    }
   },
   "outputs": [],
   "source": [
    "# Put your answer here\n"
   ]
  },
  {
   "cell_type": "markdown",
   "metadata": {},
   "source": [
    "## 4. Optimisation of planning <a class=\"anchor\" id=\"4.Planning\"></a>"
   ]
  },
  {
   "cell_type": "markdown",
   "metadata": {},
   "source": [
    "### Q4.1. Optimisation results and Lagrange multipliers <a class=\"anchor\" id=\"4.1.Question\"></a>\n",
    "\n",
    "**a - System LCOE**\n",
    "\n",
    "Read and understand jupyter notebook optim-storage.ipynb. Try using it to adapt your answer to Q2.1."
   ]
  },
  {
   "cell_type": "code",
   "execution_count": 15,
   "metadata": {
    "pycharm": {
     "name": "#%%\n"
    }
   },
   "outputs": [],
   "source": [
    "# Put your answer here"
   ]
  },
  {
   "cell_type": "markdown",
   "metadata": {},
   "source": [
    "**a - Loss of load expectation**\n",
    "\n",
    "Today the expected loss of load is of 3 hours in average per year, try to find how to set the variable cost of \"curtailment\"\n",
    "(consumption that is cut, the cost is initially set to 3000 €/MWh) to have the value of this expected number at 3.1.\n",
    "Try to find in the CRE or RTE or ENEDIS website the \"official value\" in France."
   ]
  },
  {
   "cell_type": "code",
   "execution_count": 16,
   "metadata": {
    "pycharm": {
     "name": "#%%\n"
    }
   },
   "outputs": [],
   "source": [
    "# Put your answer here"
   ]
  }
 ],
 "metadata": {
  "kernelspec": {
   "display_name": "Python 3",
   "language": "python",
   "name": "python3"
  },
  "language_info": {
   "codemirror_mode": {
    "name": "ipython",
    "version": 3
   },
   "file_extension": ".py",
   "mimetype": "text/x-python",
   "name": "python",
   "nbconvert_exporter": "python",
   "pygments_lexer": "ipython3",
   "version": "3.8.5"
  }
 },
 "nbformat": 4,
 "nbformat_minor": 4
}