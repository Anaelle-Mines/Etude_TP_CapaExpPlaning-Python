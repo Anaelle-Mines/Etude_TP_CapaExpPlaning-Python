{
 "cells": [
  {
   "cell_type": "markdown",
   "metadata": {},
   "source": [
    "# TP -- Pracical work\n",
    "\n",
    "### Table of Contents\n",
    "\n",
    "* [Introduction](#introduction)\n",
    "* [1. Analysing variability, capacity factors](#1.variability)\n",
    "    * [Q1.1. Load factor (production/consumption)](#1.1.Question)\n",
    "    * [Q1.2. Most simple dimensioning rules -- Lower and upper bound](#1.2.Question)\n",
    "    * [Q1.3. Dimensioning -- Adding a storage](#1.3.Question)\n",
    "* [2. Economic analysis, computing LCOE, system LCOE](#2.LCOE)\n",
    "    * [Q2.1. LCOE of renewable + Flex system](#2.1.Question)\n",
    "* [3. Optimisation of operation](#3.Operation)\n",
    "    * [Q3.1. Optimisation results and Lagrange multipliers](#3.1.Question)\n",
    "    * [Q3.2. Storage optimisation](#3.2.Question)\n",
    "* [4. Optimisation of planning](#4.Planning)\n",
    "    * [Q4.1. Optimisation results and Lagrange multipliers](#4.1.Question)\n",
    "\n"
   ]
  },
  {
   "cell_type": "markdown",
   "source": [
    "## Introduction <a class=\"anchor\" id=\"introduction\"></a>\n",
    "\n",
    "Question asked here can generally be answered by copy-past of code given in folder \"BasicFunctionalities\" + small modifications/additions of yoru own.\n"
   ],
   "metadata": {
    "collapsed": false
   }
  },
  {
   "cell_type": "code",
   "execution_count": null,
   "outputs": [],
   "source": [
    "import os\n",
    "if os.path.basename(os.getcwd())==\"SujetsDAnalyses\":\n",
    "    os.chdir('..') ## to work at project root  like in any IDE\n",
    "\n",
    "InputFolder='Data/input/'\n",
    "\n",
    "#region importation of modules\n",
    "import numpy as np\n",
    "import pandas as pd\n",
    "import seaborn as sns\n",
    "import csv\n",
    "import datetime\n",
    "import copy\n",
    "import plotly.graph_objects as go\n",
    "import matplotlib.pyplot as plt\n",
    "from sklearn import linear_model\n",
    "from functions.f_operationModels import *\n",
    "from functions.f_optimization import *\n",
    "from functions.f_graphicalTools import *\n",
    "import sys\n",
    "\n",
    "#endregion\n",
    "\n",
    "#region Solver and data location definition\n",
    "\n",
    "InputFolder='Data/input/'\n",
    "\n",
    "if sys.platform != 'win32':\n",
    "    myhost = os.uname()[1]\n",
    "else : myhost = \"\"\n",
    "if (myhost==\"jupyter-sop\"):\n",
    "    ## for https://jupyter-sop.mines-paristech.fr/ users, you need to\n",
    "    #  (1) run the following to loanch the license server\n",
    "    if (os.system(\"/opt/mosek/9.2/tools/platform/linux64x86/bin/lmgrd -c /opt/mosek/9.2/tools/platform/linux64x86/bin/mosek.lic -l lmgrd.log\")==0):\n",
    "        os.system(\"/opt/mosek/9.2/tools/platform/linux64x86/bin/lmutil lmstat -c 27007@127.0.0.1 -a\")\n",
    "    #  (2) definition of license\n",
    "    os.environ[\"MOSEKLM_LICENSE_FILE\"] = '@jupyter-sop'\n",
    "\n",
    "BaseSolverPath='/Users/robin.girard/Documents/Code/Packages/solvers/ampl_macosx64' ### change this to the folder with knitro ampl ...\n",
    "## in order to obtain more solver see see https://ampl.com/products/solvers/open-source/\n",
    "## for eduction this site provides also several professional solvers, that are more efficient than e.g. cbc\n",
    "sys.path.append(BaseSolverPath)\n",
    "solvers= ['gurobi','knitro','cbc'] # try 'glpk', 'cplex'\n",
    "solverpath= {}\n",
    "for solver in solvers : solverpath[solver]=BaseSolverPath+'/'+solver\n",
    "solver= 'mosek' ## no need for solverpath with mosek.\n",
    "#endregion\n"
   ],
   "metadata": {
    "collapsed": false,
    "pycharm": {
     "name": "#%%\n"
    }
   }
  },
  {
   "cell_type": "markdown",
   "metadata": {},
   "source": [
    "## 1. Analysing variability, capacity factors  <a class=\"anchor\" id=\"1.variability\"></a>\n",
    "To answer questions here, you only need to understand thermal sensitivity manipulations explained in file BasicFunctionalities/input-Consumption.ipynb and\n",
    "and know how to extract Availability data here : BasicFunctionalities/input-Availability.ipynb. You have to know the definition of capacity factor,\n",
    "and the difference between installed power and energy produced. You can find the corresponding definitions in the first two sections of\n",
    "the post [here](https://www.energy-alternatives.eu/2020/05/07/mix-de-production-delectricite-energie-et-puissance.html).\n",
    "\n",
    "### Q1.1. Load factor (production/consumption)  <a class=\"anchor\" id=\"1.1.Question\"></a>\n",
    "\n",
    "**Load factor of consumption**\n",
    "\n",
    "From the available data, compute load factor of consumption mean($C_t$)/max($C_t$) [%]\n",
    "for\n",
    " - year 2016 for different countries available,\n",
    " - years 2013-2017 and for various thermal sensitivity (ranging from zero to 2.5 GW/°C) in the case of France."
   ]
  },
  {
   "cell_type": "code",
   "execution_count": null,
   "outputs": [],
   "source": [
    "# Put your answer here\n"
   ],
   "metadata": {
    "collapsed": false,
    "pycharm": {
     "name": "#%%\n"
    }
   }
  },
  {
   "cell_type": "markdown",
   "metadata": {},
   "source": [
    "**Load factor of Wind Power and PV production**\n",
    "\n",
    "Compute load factor of renewable production (PV/Wind) for different years/countries that are available (see input-Availability.ipynb)."
   ]
  },
  {
   "cell_type": "code",
   "execution_count": null,
   "outputs": [],
   "source": [
    "# Put your answer here"
   ],
   "metadata": {
    "collapsed": false,
    "pycharm": {
     "name": "#%%\n"
    }
   }
  },
  {
   "cell_type": "markdown",
   "source": [
    "**\"Load factor\" of nuclear availability**\n",
    "\n",
    "Compute the \"load factor\" of nuclear availability for year 2007 to 2016."
   ],
   "metadata": {
    "collapsed": false
   }
  },
  {
   "cell_type": "code",
   "execution_count": null,
   "outputs": [],
   "source": [
    "# Put your answer here"
   ],
   "metadata": {
    "collapsed": false,
    "pycharm": {
     "name": "#%%\n"
    }
   }
  },
  {
   "cell_type": "markdown",
   "source": [
    "\n",
    "### Q1.2. Most simple dimensioning rules -- Lower and upper bound  <a class=\"anchor\" id=\"1.2.Question\"></a>\n",
    "\n",
    " **a -- Lower bound**\n",
    "\n",
    "How much power of XXX power would you need to install in LLL to have an **annual energy** produced equal to the annual energy consummed in year YYY ?\n",
    " Answer this question for XXX = {Wind, PV, Nuke}, LLL =available country and YYY available year."
   ],
   "metadata": {
    "collapsed": false
   }
  },
  {
   "cell_type": "code",
   "execution_count": 14,
   "metadata": {},
   "outputs": [
    {
     "name": "stdout",
     "output_type": "stream",
     "text": [
      "TECHNOLOGIES  HydroReservoir  HydroRiver   OldNuke  Solar  Thermal  \\\n",
      "TIMESTAMP                                                            \n",
      "1                        1.0    0.446046  0.928560    0.0      1.0   \n",
      "2                        1.0    0.434063  0.928560    0.0      1.0   \n",
      "3                        1.0    0.388382  0.928560    0.0      1.0   \n",
      "4                        1.0    0.347019  0.928560    0.0      1.0   \n",
      "5                        1.0    0.342092  0.928560    0.0      1.0   \n",
      "...                      ...         ...       ...    ...      ...   \n",
      "8756                     1.0    0.702555  0.898972    0.0      1.0   \n",
      "8757                     1.0    0.559915  0.898972    0.0      1.0   \n",
      "8758                     1.0    0.477251  0.898972    0.0      1.0   \n",
      "8759                     1.0    0.435706  0.898972    0.0      1.0   \n",
      "8760                     1.0    0.494647  0.898972    0.0      1.0   \n",
      "\n",
      "TECHNOLOGIES  WindOnShore  \n",
      "TIMESTAMP                  \n",
      "1                0.583934  \n",
      "2                0.538035  \n",
      "3                0.519537  \n",
      "4                0.485877  \n",
      "5                0.475760  \n",
      "...                   ...  \n",
      "8756             0.484114  \n",
      "8757             0.473258  \n",
      "8758             0.461539  \n",
      "8759             0.466096  \n",
      "8760             0.459309  \n",
      "\n",
      "[8760 rows x 6 columns]\n"
     ]
    }
   ],
   "source": [
    "# Put your answer here\n"
   ]
  },
  {
   "cell_type": "markdown",
   "metadata": {},
   "source": [
    " **b -- Upper bound**\n",
    "\n",
    "How much power of XXX power would you need to install in LLL to have an **hourly energy** produced equal to the hourly energy consummed in year YYY ?\n",
    " Answer this question for XXX = {Wind, Nuke}, LLL =available country and YYY available year.\n",
    " Assuming that for all hours of the year the excess of production is lost, what would be the capacity factor of productions in this cases"
   ]
  },
  {
   "cell_type": "code",
   "execution_count": null,
   "outputs": [],
   "source": [
    "# Put your answer here\n"
   ],
   "metadata": {
    "collapsed": false,
    "pycharm": {
     "name": "#%%\n"
    }
   }
  },
  {
   "cell_type": "markdown",
   "source": [
    " **c -- Sensitivity of the result to thermal sensitivity of consumption**\n",
    "\n",
    " For year 2016 and in France, analyse the sensitivity of the preceding results (upper bound and lower bound) on the thermal sensitivity of consumption"
   ],
   "metadata": {
    "collapsed": false
   }
  },
  {
   "cell_type": "code",
   "execution_count": null,
   "outputs": [],
   "source": [
    "# Put your answer here\n"
   ],
   "metadata": {
    "collapsed": false,
    "pycharm": {
     "name": "#%%\n"
    }
   }
  },
  {
   "cell_type": "markdown",
   "source": [
    "### Q1.3 Dimensioning -- Adding a storage <a class=\"anchor\" id=\"1.3.Question\"></a>\n",
    "These questions are much more difficult than the preceding ones. It is possible that no student will manage to do it during the practical work session.\n",
    "\n",
    "**a - Dimensioning a system with Renewable + \"infinite storage\"**\n",
    "\n",
    "We now assume we have a theoretical storage with\n",
    " - infinite energy capacity (can store for hours without being full start with an initial capacity to discuss)\n",
    " - a maximum production power (of the storage) that will be equal to the maximum consumption power (of the storage)\n",
    " - These maximum power are supposed ajusted so that $C_t\\leq P_t+S_t$ for all hours $t$ of the considered year\n",
    " (With $C$ the consumption,$P$ the wind power production, $S$ the storage production. $S$ can be negative when it is a consumption)\n",
    " - an efficiency $\\eta=70%$\n",
    "\n",
    "\n",
    "\n",
    "Try to compute :\n",
    " - installed power of wind and storage,\n",
    " - losses of wind energy through the storage\n",
    " - losses of wind energy that cannot be stored of consumed directly."
   ],
   "metadata": {
    "collapsed": false,
    "pycharm": {
     "name": "#%% md\n"
    }
   }
  },
  {
   "cell_type": "code",
   "execution_count": null,
   "outputs": [],
   "source": [
    "# Put your answer here\n"
   ],
   "metadata": {
    "collapsed": false,
    "pycharm": {
     "name": "#%%\n"
    }
   }
  },
  {
   "cell_type": "markdown",
   "source": [
    "**b -adding french hydro power**\n",
    "\n",
    " In the preceding system, you can add french hydro production (the data can be found in Eco2mix section of input-Availability.ipynb)"
   ],
   "metadata": {
    "collapsed": false
   }
  },
  {
   "cell_type": "code",
   "execution_count": null,
   "outputs": [],
   "source": [
    "# Put your answer here"
   ],
   "metadata": {
    "collapsed": false,
    "pycharm": {
     "name": "#%%\n"
    }
   }
  },
  {
   "cell_type": "markdown",
   "source": [
    "**c -sensitibvity to thermal sensitivity**\n",
    "\n",
    " What is the sensitivity of the preceding results to thermal sensitivity of consumption"
   ],
   "metadata": {
    "collapsed": false
   }
  },
  {
   "cell_type": "code",
   "execution_count": null,
   "outputs": [],
   "source": [
    "# Put your answer here"
   ],
   "metadata": {
    "collapsed": false,
    "pycharm": {
     "name": "#%%\n"
    }
   }
  },
  {
   "cell_type": "markdown",
   "source": [
    "** d -Adding PV **\n",
    "In the preceding system, assume now you can mix PV and wind. What can you gain ?"
   ],
   "metadata": {
    "collapsed": false
   }
  },
  {
   "cell_type": "code",
   "execution_count": null,
   "outputs": [],
   "source": [
    "# Put your answer here\n"
   ],
   "metadata": {
    "collapsed": false,
    "pycharm": {
     "name": "#%%\n"
    }
   }
  },
  {
   "cell_type": "markdown",
   "source": [
    "If you finish all this before the end of the first session, of if you wish to dig a little bit more, you can read [this article](https://jancovici.com/transition-energetique/renouvelables/100-renouvelable-pour-pas-plus-cher-fastoche/)\n",
    "and discuss the dimensioning choice for the storage that is proposed there. Otherwise, or after that, you can switch to question 2."
   ],
   "metadata": {
    "collapsed": false
   }
  },
  {
   "cell_type": "markdown",
   "source": [
    "## 2. Economic analysis, computing LCOE, system LCOE <a class=\"anchor\" id=\"2.LCOE\"></a>"
   ],
   "metadata": {
    "collapsed": false
   }
  },
  {
   "cell_type": "markdown",
   "source": [
    "### Q2.1. LCOE of renewable + Flex system <a class=\"anchor\" id=\"2.1.Question\"></a>\n",
    "Read and understand jupyter notebook input_Economic.ipynb.\n",
    "Try to imagine systems that are feasible and compute the corresponding system LCOE in the two following cases:\n",
    "- Nuke + CCG + hydro\n",
    "- Renewable + CCG + hydro\n",
    "You will need to set the installed power and produced energy for each of these production mean. Try to get inspiration from preceding section.\n",
    "There are no \"right answer\", the idea here is to have rough estimates that will be improved later.\n",
    "Try adding significant amount of electrolyser/fuel cells to replace CCG. How much capacity would you install and see how it changes the results ?\n",
    "Try changing the thermal sensitivity of consumption.\n",
    "You can also analyse the effect of discount rate, or carbon tax, or cost of gaz (by assumign e.g. it is a very expensive biogaz)."
   ],
   "metadata": {
    "collapsed": false
   }
  },
  {
   "cell_type": "code",
   "execution_count": null,
   "outputs": [],
   "source": [
    "# Put your answer here"
   ],
   "metadata": {
    "collapsed": false,
    "pycharm": {
     "name": "#%%\n"
    }
   }
  },
  {
   "cell_type": "markdown",
   "source": [
    "## 3. Optimisation of operation <a class=\"anchor\" id=\"3.Operation\"></a>"
   ],
   "metadata": {
    "collapsed": false
   }
  },
  {
   "cell_type": "markdown",
   "source": [
    "### Q3.1. Optimisation results and Lagrange multipliers <a class=\"anchor\" id=\"3.1.Question\"></a>\n",
    "Read and understand jupyter notebook optim-Operation.ipynb. Can you explain the value of all lagrange multiplier in a simple case with two production means ?\n",
    "With one area and then with two. How is it possible to generate negative lagrange multipliers associated to the constraint production == consumption ? Propose a simple case where they appear and explain the corresponding values.\n"
   ],
   "metadata": {
    "collapsed": false
   }
  },
  {
   "cell_type": "code",
   "execution_count": null,
   "outputs": [],
   "source": [
    "# Put your answer here"
   ],
   "metadata": {
    "collapsed": false,
    "pycharm": {
     "name": "#%%\n"
    }
   }
  },
  {
   "cell_type": "markdown",
   "source": [
    "### Q3.2. Storage optimisation <a class=\"anchor\" id=\"3.2.Question\"></a>\n",
    "Read and understand jupyter notebook optim-storage.ipynb. What is the maximal price for the storage system to be profitable today ?\n",
    "Apply an homothetic transformation to increase the variance of the prices but without changing the mean (and by keeping positive prices).\n",
    "How does it change the preceding results ?"
   ],
   "metadata": {
    "collapsed": false
   }
  },
  {
   "cell_type": "code",
   "execution_count": null,
   "outputs": [],
   "source": [
    "# Put your answer here\n"
   ],
   "metadata": {
    "collapsed": false,
    "pycharm": {
     "name": "#%%\n"
    }
   }
  },
  {
   "cell_type": "markdown",
   "source": [
    "## 4. Optimisation of planning <a class=\"anchor\" id=\"4.Planning\"></a>"
   ],
   "metadata": {
    "collapsed": false
   }
  },
  {
   "cell_type": "markdown",
   "source": [
    "### Q4.1. Optimisation results and Lagrange multipliers <a class=\"anchor\" id=\"4.1.Question\"></a>\n",
    "\n",
    "**a - System LCOE**\n",
    "\n",
    "Read and understand jupyter notebook optim-storage.ipynb. Try using it to adapt your answer to Q2.1."
   ],
   "metadata": {
    "collapsed": false
   }
  },
  {
   "cell_type": "code",
   "execution_count": null,
   "outputs": [],
   "source": [
    "# Put your answer here"
   ],
   "metadata": {
    "collapsed": false,
    "pycharm": {
     "name": "#%%\n"
    }
   }
  },
  {
   "cell_type": "markdown",
   "source": [
    "**a - Loss of load expectation**\n",
    "\n",
    "Today the expected loss of load is of 3 hours in average per year, try to find how to set the variable cost of \"curtailment\"\n",
    "(consumption that is cut, the cost is initially set to 3000 €/MWh) to have the value of this expected number at 3.1.\n",
    "Try to find in the CRE or RTE or ENEDIS website the \"official value\" in France."
   ],
   "metadata": {
    "collapsed": false
   }
  },
  {
   "cell_type": "code",
   "execution_count": null,
   "outputs": [],
   "source": [
    "# Put your answer here"
   ],
   "metadata": {
    "collapsed": false,
    "pycharm": {
     "name": "#%%\n"
    }
   }
  }
 ],
 "metadata": {
  "kernelspec": {
   "display_name": "Python 3",
   "language": "python",
   "name": "python3"
  },
  "language_info": {
   "codemirror_mode": {
    "name": "ipython",
    "version": 3
   },
   "file_extension": ".py",
   "mimetype": "text/x-python",
   "name": "python",
   "nbconvert_exporter": "python",
   "pygments_lexer": "ipython3",
   "version": "3.7.7"
  }
 },
 "nbformat": 4,
 "nbformat_minor": 4
}