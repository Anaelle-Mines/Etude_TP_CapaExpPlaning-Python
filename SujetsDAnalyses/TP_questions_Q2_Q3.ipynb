{
 "cells": [
  {
   "cell_type": "markdown",
   "source": [
    "# TP -- Pracical work\n",
    "\n",
    "### Table of Contents\n",
    "\n",
    "* [Introduction](#introduction)\n",
    "* [2. Economic analysis, computing LCOE, system LCOE](#2.LCOE)\n",
    "    * [Q2.1. LCOE of renewable + Flex system](#2.1.Question)\n",
    "* [3. Optimisation of operation](#3.Operation)\n",
    "    * [Q3.1. Optimisation results and Lagrange multipliers](#3.1.Question)\n",
    "    * [Q3.2. Storage optimisation](#3.2.Question)\n",
    "* [4. Optimisation of planning](#4.Planning)\n",
    "    * [Q4.1. Optimisation results and Lagrange multipliers](#4.1.Question)\n",
    "\n"
   ],
   "metadata": {
    "collapsed": false
   }
  },
  {
   "cell_type": "markdown",
   "source": [
    "## Introduction <a class=\"anchor\" id=\"introduction\"></a>\n",
    "\n",
    "Question asked here can generally be answered by copy-past of code given in folder \"BasicFunctionalities\" + small modifications/additions of yoru own.\n"
   ],
   "metadata": {
    "collapsed": false
   }
  },
  {
   "cell_type": "code",
   "execution_count": 11,
   "outputs": [
    {
     "data": {
      "text/plain": "QgridWidget(grid_options={'fullWidthRows': True, 'syncColumnCellResize': True, 'forceFitColumns': True, 'defau…",
      "application/vnd.jupyter.widget-view+json": {
       "version_major": 2,
       "version_minor": 0,
       "model_id": "91867e25a518476f9e7a6225a552dd8e"
      }
     },
     "metadata": {},
     "output_type": "display_data"
    }
   ],
   "source": [
    "import os\n",
    "if os.path.basename(os.getcwd())==\"BasicFunctionalities\":\n",
    "    os.chdir('..') ## to work at project root  like in any IDE\n",
    "if os.path.basename(os.getcwd())==\"Reponses_TP\":\n",
    "    os.chdir('../..') ## to work at project root  like in any IDE\n",
    "\n",
    "InputFolder='Data/input/'\n",
    "\n",
    "#region importation of modules\n",
    "import numpy as np\n",
    "import pandas as pd\n",
    "import seaborn as sns\n",
    "import csv\n",
    "import datetime\n",
    "import copy\n",
    "import qgrid\n",
    "import plotly.graph_objects as go\n",
    "import matplotlib.pyplot as plt\n",
    "from sklearn import linear_model\n",
    "from functions.f_operationModels import *\n",
    "from functions.f_optimization import *\n",
    "from functions.f_graphicalTools import *\n",
    "import sys\n",
    "\n",
    "#endregion\n",
    "\n",
    "#region Solver and data location definition\n",
    "\n",
    "InputFolder='Data/input/'\n",
    "\n",
    "if sys.platform != 'win32':\n",
    "    myhost = os.uname()[1]\n",
    "else : myhost = \"\"\n",
    "if (myhost==\"jupyter-sop\"):\n",
    "    ## for https://jupyter-sop.mines-paristech.fr/ users, you need to\n",
    "    #  (1) run the following to loanch the license server\n",
    "    if (os.system(\"/opt/mosek/9.2/tools/platform/linux64x86/bin/lmgrd -c /opt/mosek/9.2/tools/platform/linux64x86/bin/mosek.lic -l lmgrd.log\")==0):\n",
    "        os.system(\"/opt/mosek/9.2/tools/platform/linux64x86/bin/lmutil lmstat -c 27007@127.0.0.1 -a\")\n",
    "    #  (2) definition of license\n",
    "    os.environ[\"MOSEKLM_LICENSE_FILE\"] = '@jupyter-sop'\n",
    "\n",
    "BaseSolverPath='/Users/robin.girard/Documents/Code/Packages/solvers/ampl_macosx64' ### change this to the folder with knitro ampl ...\n",
    "## in order to obtain more solver see see https://ampl.com/products/solvers/open-source/\n",
    "## for eduction this site provides also several professional solvers, that are more efficient than e.g. cbc\n",
    "sys.path.append(BaseSolverPath)\n",
    "solvers= ['gurobi','knitro','cbc'] # try 'glpk', 'cplex'\n",
    "solverpath= {}\n",
    "for solver in solvers : solverpath[solver]=BaseSolverPath+'/'+solver\n",
    "solver= 'mosek' ## no need for solverpath with mosek.\n",
    "#endregion\n",
    "\n",
    "#region - general economic assumption\n",
    "General = pd.read_csv(InputFolder+'GeneralEconomicAssumptions.csv',sep=',',decimal='.',skiprows=0,comment=\"#\")\n",
    "col_def = {}#  { 'A': { 'editable': True } }\n",
    "qgrid_widget = qgrid.show_grid(General, show_toolbar=True, column_definitions=col_def)\n",
    "qgrid_widget\n",
    "#endregion\n",
    "\n",
    "#region - general production assumption\n",
    "Production = pd.read_csv(InputFolder+'ProductionEconomicAssumptions.csv',sep=',',decimal='.',skiprows=0,comment=\"#\")\n",
    "Production=Production[Production[\"AREAS\"]==\"FR\"]\n",
    "qgrid_widget = qgrid.show_grid(Production, show_toolbar=True, column_definitions=col_def)\n",
    "qgrid_widget\n",
    "\n",
    "#endregion\n"
   ],
   "metadata": {
    "collapsed": false,
    "pycharm": {
     "name": "#%%\n"
    }
   }
  },
  {
   "cell_type": "markdown",
   "source": [
    "\n",
    "## 2. Economic analysis, computing LCOE, system LCOE <a class=\"anchor\" id=\"2.LCOE\"></a>"
   ],
   "metadata": {
    "collapsed": false
   }
  },
  {
   "cell_type": "markdown",
   "source": [
    "### Q2.1. LCOE of renewable + Flex system <a class=\"anchor\" id=\"2.1.Question\"></a>\n",
    "Read and understand jupyter notebook optim-Operation.ipynb.\n",
    "Try to imagine systems that are feasible and compute the corresponding system LCOE in the two following cases:\n",
    "- Nuke + CCG + hydro\n",
    "- Renewable + CCG + hydro\n",
    "You will need to set the installed power and produced energy for each of these production mean. Try to get inspiration from preceding section.\n",
    "There are no \"right answer\", the idea here is to have rough estimates that will be improved later.\n",
    "Try adding significant amount of electrolyser/fuel cells to replace CCG. How much capacity would you install and see how it changes the results ?\n",
    "Try changing the thermal sensitivity of consumption.\n",
    "You can also analyse the effect of discount rate, or carbon tax, or cost of gaz (by assumign e.g. it is a very expensive biogaz)."
   ],
   "metadata": {
    "collapsed": false
   }
  },
  {
   "cell_type": "code",
   "execution_count": 12,
   "outputs": [],
   "source": [
    "General = pd.read_csv(InputFolder+'GeneralEconomicAssumptions.csv',sep=',',decimal='.',skiprows=0,comment=\"#\")\n",
    "col_def = {}#  { 'A': { 'editable': True } }\n",
    "qgrid_widget = qgrid.show_grid(General, show_toolbar=True, column_definitions=col_def)\n",
    "qgrid_widget\n",
    "\n",
    "\"\"\"\"General=qgrid_widget.get_changed_df()\n",
    "General\"\"\"\n",
    "\n",
    "ProductionTech0 = pd.read_csv(InputFolder+'ProductionTechnicalAssumptions.csv',sep=',',decimal='.',skiprows=0,comment=\"#\")\n",
    "ProductionTech0=ProductionTech0[ProductionTech0[\"AREAS\"]==\"FR\"]\n",
    "qgrid_widget = qgrid.show_grid(ProductionTech0, show_toolbar=True, column_definitions=col_def)\n",
    "qgrid_widget\n",
    "ProductionTech0=qgrid_widget.get_changed_df()\n",
    "ProductionTechPlus0=ProductionTech0.merge(Production, how='inner', left_on=[\"AREAS\",\"TECHNOLOGIES\"], right_on=[\"AREAS\",\"TECHNOLOGIES\"])\n",
    "\n",
    "\n",
    "\n",
    "Tech=['OldNuke','CCG','HydroReservoir','HydroRiver']\n",
    "ProductionTechPlus0=ProductionTechPlus0[ProductionTechPlus0['TECHNOLOGIES'].isin(Tech)]\n",
    "\n",
    "ProductionTechPlus0.loc[3,'CAPEX']=3000\n",
    "\n",
    "\n",
    "r=(General.discountPercent[0]/100)\n",
    "df0 = ProductionTechPlus0\n",
    "df0[\"LLr\"] = round((1+r)/r*(1-(1+r)**(-df0['LL'])),2)\n",
    "df0[\"LCOE\"] = (df0.CAPEX/df0.LLr + df0.dismantling/((1+r)**(df0.LL)) + df0.FOM) * (df0.capacity/(1000*df0.ProducedEnergy)) + df0.Variable\n",
    "df0.drop(['RampConstraintPlus','RampConstraintMoins','RampConstraintPlus2','RampConstraintMoins2','YEAR_y'],axis='columns',inplace=True)\n",
    "df0[\"TotalCost\"]=df0.LCOE*df0.ProducedEnergy\n",
    "\n"
   ],
   "metadata": {
    "collapsed": false,
    "pycharm": {
     "name": "#%%\n"
    }
   }
  },
  {
   "cell_type": "code",
   "execution_count": 13,
   "outputs": [
    {
     "data": {
      "text/plain": "    YEAR_x AREAS    TECHNOLOGIES  capacity  ProducedEnergy  EnergyNbhourCap  \\\n2     2019    FR             CCG     30000       96.500000                0   \n6     2019    FR     WindOnShore    160000      311.409396                0   \n8     2019    FR  HydroReservoir     12000       56.571429             2100   \n9     2019    FR      HydroRiver     12000       36.000000                0   \n10    2019    FR           Solar     80000       91.666667                0   \n\n    CAPEX  dismantling  Variable  FOM  LL  CL  CO2Emission  LoadFactor    LLr  \\\n2     900          100        50   36  30   2          470    0.367199  17.98   \n6    1300           50         0   45  30   2            0    0.222181  17.98   \n8    1500           10         0   20  80  10            0    0.538160  24.87   \n9    1500           10         0   20  80  10            0    0.342466  24.87   \n10    800           30         0   20  25   1            0    0.130803  16.25   \n\n         LCOE     TotalCost  \n2   86.338078   8331.624524  \n6   68.189846  21234.958688  \n8   17.128252    968.969690  \n9   26.915825    968.969690  \n10  70.240820   6438.741864  ",
      "text/html": "<div>\n<style scoped>\n    .dataframe tbody tr th:only-of-type {\n        vertical-align: middle;\n    }\n\n    .dataframe tbody tr th {\n        vertical-align: top;\n    }\n\n    .dataframe thead th {\n        text-align: right;\n    }\n</style>\n<table border=\"1\" class=\"dataframe\">\n  <thead>\n    <tr style=\"text-align: right;\">\n      <th></th>\n      <th>YEAR_x</th>\n      <th>AREAS</th>\n      <th>TECHNOLOGIES</th>\n      <th>capacity</th>\n      <th>ProducedEnergy</th>\n      <th>EnergyNbhourCap</th>\n      <th>CAPEX</th>\n      <th>dismantling</th>\n      <th>Variable</th>\n      <th>FOM</th>\n      <th>LL</th>\n      <th>CL</th>\n      <th>CO2Emission</th>\n      <th>LoadFactor</th>\n      <th>LLr</th>\n      <th>LCOE</th>\n      <th>TotalCost</th>\n    </tr>\n  </thead>\n  <tbody>\n    <tr>\n      <th>2</th>\n      <td>2019</td>\n      <td>FR</td>\n      <td>CCG</td>\n      <td>30000</td>\n      <td>96.500000</td>\n      <td>0</td>\n      <td>900</td>\n      <td>100</td>\n      <td>50</td>\n      <td>36</td>\n      <td>30</td>\n      <td>2</td>\n      <td>470</td>\n      <td>0.367199</td>\n      <td>17.98</td>\n      <td>86.338078</td>\n      <td>8331.624524</td>\n    </tr>\n    <tr>\n      <th>6</th>\n      <td>2019</td>\n      <td>FR</td>\n      <td>WindOnShore</td>\n      <td>160000</td>\n      <td>311.409396</td>\n      <td>0</td>\n      <td>1300</td>\n      <td>50</td>\n      <td>0</td>\n      <td>45</td>\n      <td>30</td>\n      <td>2</td>\n      <td>0</td>\n      <td>0.222181</td>\n      <td>17.98</td>\n      <td>68.189846</td>\n      <td>21234.958688</td>\n    </tr>\n    <tr>\n      <th>8</th>\n      <td>2019</td>\n      <td>FR</td>\n      <td>HydroReservoir</td>\n      <td>12000</td>\n      <td>56.571429</td>\n      <td>2100</td>\n      <td>1500</td>\n      <td>10</td>\n      <td>0</td>\n      <td>20</td>\n      <td>80</td>\n      <td>10</td>\n      <td>0</td>\n      <td>0.538160</td>\n      <td>24.87</td>\n      <td>17.128252</td>\n      <td>968.969690</td>\n    </tr>\n    <tr>\n      <th>9</th>\n      <td>2019</td>\n      <td>FR</td>\n      <td>HydroRiver</td>\n      <td>12000</td>\n      <td>36.000000</td>\n      <td>0</td>\n      <td>1500</td>\n      <td>10</td>\n      <td>0</td>\n      <td>20</td>\n      <td>80</td>\n      <td>10</td>\n      <td>0</td>\n      <td>0.342466</td>\n      <td>24.87</td>\n      <td>26.915825</td>\n      <td>968.969690</td>\n    </tr>\n    <tr>\n      <th>10</th>\n      <td>2019</td>\n      <td>FR</td>\n      <td>Solar</td>\n      <td>80000</td>\n      <td>91.666667</td>\n      <td>0</td>\n      <td>800</td>\n      <td>30</td>\n      <td>0</td>\n      <td>20</td>\n      <td>25</td>\n      <td>1</td>\n      <td>0</td>\n      <td>0.130803</td>\n      <td>16.25</td>\n      <td>70.240820</td>\n      <td>6438.741864</td>\n    </tr>\n  </tbody>\n</table>\n</div>"
     },
     "execution_count": 13,
     "metadata": {},
     "output_type": "execute_result"
    }
   ],
   "source": [
    "import os\n",
    "if os.path.basename(os.getcwd())==\"BasicFunctionalities\":\n",
    "    os.chdir('..') ## to work at project root  like in any IDE\n",
    "InputFolder='Data/input/'\n",
    "import pandas as pd\n",
    "import qgrid \n",
    "import numpy as np\n",
    "\n",
    "General = pd.read_csv(InputFolder+'GeneralEconomicAssumptions.csv',sep=',',decimal='.',skiprows=0,comment=\"#\")\n",
    "col_def = {}#  { 'A': { 'editable': True } }\n",
    "qgrid_widget = qgrid.show_grid(General, show_toolbar=True, column_definitions=col_def)\n",
    "qgrid_widget\n",
    "\n",
    "\"\"\"\"General=qgrid_widget.get_changed_df()\n",
    "General\"\"\"\n",
    "\n",
    "ProductionTech = pd.read_csv(InputFolder+'ProductionTechnicalAssumptions.csv',sep=',',decimal='.',skiprows=0,comment=\"#\")\n",
    "ProductionTech=ProductionTech[ProductionTech[\"AREAS\"]==\"FR\"]\n",
    "qgrid_widget = qgrid.show_grid(ProductionTech, show_toolbar=True, column_definitions=col_def)\n",
    "qgrid_widget\n",
    "ProductionTech=qgrid_widget.get_changed_df()\n",
    "ProductionTechPlus=ProductionTech.merge(Production, how='inner', left_on=[\"AREAS\",\"TECHNOLOGIES\"], right_on=[\"AREAS\",\"TECHNOLOGIES\"])\n",
    "\n",
    "\n",
    "\n",
    "Tech=['Solar','CCG','HydroReservoir','HydroRiver','WindOnShore']\n",
    "df=ProductionTechPlus[ProductionTechPlus['TECHNOLOGIES'].isin(Tech)]\n",
    "\n",
    "ProductionTechPlus.loc[3,'CAPEX']=3000\n",
    "\n",
    "r=(General.discountPercent[0]/100)\n",
    "df = ProductionTechPlus\n",
    "df[\"LLr\"] = round((1+r)/r*(1-(1+r)**(-df['LL'])),2)\n",
    "df[\"LCOE\"] = (df.CAPEX/df.LLr + df.dismantling/((1+r)**(df.LL)) + df.FOM) * (df.capacity/(1000*df.ProducedEnergy)) + df.Variable\n",
    "df.drop(['RampConstraintPlus','RampConstraintMoins','RampConstraintPlus2','RampConstraintMoins2','YEAR_y'],axis='columns',inplace=True)\n",
    "\n",
    "\n",
    "\n",
    "ProductionTech2 = pd.read_csv(InputFolder+'ProductionTechnicalAssumptions.csv',sep=',',decimal='.',skiprows=0,comment=\"#\")\n",
    "ProductionTech2=ProductionTech2[ProductionTech2[\"AREAS\"]==\"FR\"]\n",
    "qgrid_widget = qgrid.show_grid(ProductionTech, show_toolbar=True, column_definitions=col_def)\n",
    "qgrid_widget\n",
    "ProductionTech2=qgrid_widget.get_changed_df()\n",
    "df2=ProductionTech2.merge(Production, how='inner', left_on=[\"AREAS\",\"TECHNOLOGIES\"], right_on=[\"AREAS\",\"TECHNOLOGIES\"])\n",
    "\n",
    "Tech=['Solar','CCG','HydroReservoir','HydroRiver','WindOnShore']\n",
    "df2=df2[df2['TECHNOLOGIES'].isin(Tech)]\n",
    "\n",
    "df2.drop(['RampConstraintPlus','RampConstraintMoins','RampConstraintPlus2','RampConstraintMoins2','YEAR_y'],axis='columns',inplace=True)\n",
    "df2.loc[2,'capacity']=30000\n",
    "df2.loc[6,'capacity']=160000\n",
    "df2.loc[8,'capacity']=12000\n",
    "df2.loc[9,'capacity']=12000\n",
    "df2.loc[10,'capacity']=80000\n",
    "\n",
    "\n",
    "r=(General.discountPercent[0]/100)\n",
    "df2[\"LoadFactor\"] = 1000*df.ProducedEnergy/(8.76*df.capacity)\n",
    "df2[\"ProducedEnergy\"]=(df2[\"capacity\"]*df2[\"LoadFactor\"]*8.76)/1000\n",
    "df2[\"LLr\"] = round((1+r)/r*(1-(1+r)**(-df2['LL'])),2)\n",
    "df2[\"LCOE\"]=(df2.CAPEX/df2.LLr + df2.dismantling/((1+r)**(df2.LL)) + df2.FOM) * (df2.capacity/(1000*df2.ProducedEnergy)) + df2.Variable\n",
    "df2[\"TotalCost\"]=df2[\"ProducedEnergy\"]*df2[\"LCOE\"]\n",
    "\n",
    "\n",
    "\n",
    "df2"
   ],
   "metadata": {
    "collapsed": false,
    "pycharm": {
     "name": "#%%\n"
    }
   }
  },
  {
   "cell_type": "code",
   "execution_count": 14,
   "outputs": [
    {
     "data": {
      "text/plain": "[[60, 31067, 514], [64, 37943, 592]]"
     },
     "execution_count": 14,
     "metadata": {},
     "output_type": "execute_result"
    }
   ],
   "source": [
    "###Calcul Moyenne pondérée LCOE\n",
    "df2_c=df2\n",
    "df0_c=df0\n",
    "\n",
    "df2_c[\"LCOExEnergieProduite\"]=df2_c.ProducedEnergy * df2_c.LCOE\n",
    "df0_c[\"LCOExEnergieProduite\"]=df0_c.ProducedEnergy * df0_c.LCOE\n",
    "\n",
    "LCOE_moy_pond1=int((df0_c.LCOExEnergieProduite.sum())/(df0_c.ProducedEnergy.sum()))\n",
    "LCOE_moy_pond2=int((df2_c.LCOExEnergieProduite.sum())/(df2_c.ProducedEnergy.sum()))\n",
    "\n",
    "Cout_energie_Scenario1=int(df0.TotalCost.sum())\n",
    "Cout_energie_Scenario2=int(df2.TotalCost.sum())\n",
    "Energy_prod1=int(df0.ProducedEnergy.sum())\n",
    "Energy_prod2=int(df2.ProducedEnergy.sum())\n",
    "l=[LCOE_moy_pond1,Cout_energie_Scenario1,Energy_prod1]\n",
    "l2=[LCOE_moy_pond2,Cout_energie_Scenario2,Energy_prod2]\n",
    "\n",
    "resl=[l,l2]\n",
    "resl"
   ],
   "metadata": {
    "collapsed": false,
    "pycharm": {
     "name": "#%%\n"
    }
   }
  },
  {
   "cell_type": "code",
   "execution_count": 15,
   "outputs": [
    {
     "name": "stdout",
     "output_type": "stream",
     "text": [
      "Cout scenario1:  31067 Cout scenario2:  37943\n"
     ]
    },
    {
     "data": {
      "text/plain": "                     LCOE moyen Pondéré  Cout_tot  Energie produite\nScenario Nuke                        60     31067               514\nScenario Renewables                  64     37943               592",
      "text/html": "<div>\n<style scoped>\n    .dataframe tbody tr th:only-of-type {\n        vertical-align: middle;\n    }\n\n    .dataframe tbody tr th {\n        vertical-align: top;\n    }\n\n    .dataframe thead th {\n        text-align: right;\n    }\n</style>\n<table border=\"1\" class=\"dataframe\">\n  <thead>\n    <tr style=\"text-align: right;\">\n      <th></th>\n      <th>LCOE moyen Pondéré</th>\n      <th>Cout_tot</th>\n      <th>Energie produite</th>\n    </tr>\n  </thead>\n  <tbody>\n    <tr>\n      <th>Scenario Nuke</th>\n      <td>60</td>\n      <td>31067</td>\n      <td>514</td>\n    </tr>\n    <tr>\n      <th>Scenario Renewables</th>\n      <td>64</td>\n      <td>37943</td>\n      <td>592</td>\n    </tr>\n  </tbody>\n</table>\n</div>"
     },
     "execution_count": 15,
     "metadata": {},
     "output_type": "execute_result"
    }
   ],
   "source": [
    "\n",
    "res = pd.DataFrame(resl, index = ['Scenario Nuke','Scenario Renewables'], columns=['LCOE moyen Pondéré','Cout_tot','Energie produite'])\n",
    "print(\"Cout scenario1:  \" + str(Cout_energie_Scenario1) ,\"Cout scenario2:  \" + str(Cout_energie_Scenario2) )\n",
    "res"
   ],
   "metadata": {
    "collapsed": false,
    "pycharm": {
     "name": "#%%\n"
    }
   }
  },
  {
   "cell_type": "markdown",
   "source": [
    "## 3. Optimisation of operation <a class=\"anchor\" id=\"3.Operation\"></a>"
   ],
   "metadata": {
    "collapsed": false
   }
  },
  {
   "cell_type": "markdown",
   "source": [
    "### Q3.1. Optimisation results and Lagrange multipliers <a class=\"anchor\" id=\"3.1.Question\"></a>\n",
    "Read and understand jupyter notebook optim-Operation.ipynb. Can you explain the value of all lagrange multiplier in a simple case with two production means ?\n",
    "With one area and then with two. How is it possible to generate negative lagrange multipliers ? Propose a simple case where they appear and explain the corresponding values.\n"
   ],
   "metadata": {
    "collapsed": false
   }
  },
  {
   "cell_type": "code",
   "execution_count": 16,
   "outputs": [],
   "source": [
    "# Put your answer here"
   ],
   "metadata": {
    "collapsed": false,
    "pycharm": {
     "name": "#%%\n"
    }
   }
  },
  {
   "cell_type": "markdown",
   "source": [
    "### Q3.2. Storage optimisation <a class=\"anchor\" id=\"3.2.Question\"></a>\n",
    "Read and understand jupyter notebook optim-storage.ipynb. What is the maximal price for the storage system to be profitable today ?\n",
    "Apply an homothetic transformation to increase the variance of the prices but without changing the mean (and by keeping positive prices).\n",
    "How does it change the preceding results ?"
   ],
   "metadata": {
    "collapsed": false
   }
  },
  {
   "cell_type": "code",
   "execution_count": 17,
   "outputs": [],
   "source": [
    "# Put your answer here\n"
   ],
   "metadata": {
    "collapsed": false,
    "pycharm": {
     "name": "#%%\n"
    }
   }
  },
  {
   "cell_type": "markdown",
   "source": [
    "## 4. Optimisation of planning <a class=\"anchor\" id=\"4.Planning\"></a>"
   ],
   "metadata": {
    "collapsed": false
   }
  },
  {
   "cell_type": "markdown",
   "source": [
    "### Q4.1. Optimisation results and Lagrange multipliers <a class=\"anchor\" id=\"4.1.Question\"></a>\n",
    "\n",
    "**a - System LCOE**\n",
    "\n",
    "Read and understand jupyter notebook optim-storage.ipynb. Try using it to adapt your answer to Q2.1."
   ],
   "metadata": {
    "collapsed": false
   }
  },
  {
   "cell_type": "code",
   "execution_count": 18,
   "outputs": [],
   "source": [
    "# Put your answer here"
   ],
   "metadata": {
    "collapsed": false,
    "pycharm": {
     "name": "#%%\n"
    }
   }
  },
  {
   "cell_type": "markdown",
   "source": [
    "**a - Loss of load expectation**\n",
    "\n",
    "Today the expected loss of load is of 3 hours in average per year, try to find how to set the variable cost of \"curtailment\"\n",
    "(consumption that is cut, the cost is initially set to 3000 €/MWh) to have the value of this expected number at 3.1.\n",
    "Try to find in the CRE or RTE or ENEDIS website the \"official value\" in France."
   ],
   "metadata": {
    "collapsed": false
   }
  },
  {
   "cell_type": "code",
   "execution_count": 19,
   "outputs": [],
   "source": [
    "# Put your answer here"
   ],
   "metadata": {
    "collapsed": false,
    "pycharm": {
     "name": "#%%\n"
    }
   }
  }
 ],
 "metadata": {
  "kernelspec": {
   "display_name": "Python 3",
   "language": "python",
   "name": "python3"
  },
  "language_info": {
   "codemirror_mode": {
    "name": "ipython",
    "version": 3
   },
   "file_extension": ".py",
   "mimetype": "text/x-python",
   "name": "python",
   "nbconvert_exporter": "python",
   "pygments_lexer": "ipython3",
   "version": "3.8.5"
  }
 },
 "nbformat": 4,
 "nbformat_minor": 4
}