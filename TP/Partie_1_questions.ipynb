{
 "cells": [
  {
   "cell_type": "markdown",
   "metadata": {},
   "source": [
    "# Partie 1 : Data description\n",
    "\n",
    "### Table of Contents\n",
    "\n",
    "* [1. Introduction](#1.introduction)\n",
    "* [2. Consumption and production](#2.consumptionandproduction)\n",
    "    * [2.1. Impact of thermal sensitivity](#2.1.impactofthermalsensitivity)\n",
    "    * [2.2. Nuke power](#2.2.nukepower)\n",
    "    * [2.3. First approach of a storage system](#2.3.firstapproachofastoragesystem)"
   ]
  },
  {
   "cell_type": "markdown",
   "metadata": {},
   "source": [
    "## 1. Introduction <a class=\"anchor\" id=\"1.introduction\"></a>\n",
    "This document contains a description of data sets that are made available to you in this project.\n",
    "\n",
    "In the folder CSV, you can find all these data sets :\n",
    "    - Hourly energy consumption for various countries and various years\n",
    "    - Hourly availability factor for different means of production\n",
    "    - Hourly temperature\n",
    "(all the other csv files are not useful for this part)\n",
    "\n",
    "The aim of this part consists in manipulating those data sets in order to analyse the consumption and production of energy for different means of production."
   ]
  },
  {
   "cell_type": "code",
   "execution_count": 1,
   "metadata": {},
   "outputs": [
    {
     "ename": "OSError",
     "evalue": "[WinError 123] La syntaxe du nom de fichier, de répertoire ou de volume est incorrecte: 'D:\\\\GIT\\\\Etude_TP_CapaExpPlaning-Python\\x0cunctions'",
     "output_type": "error",
     "traceback": [
      "\u001B[1;31m---------------------------------------------------------------------------\u001B[0m",
      "\u001B[1;31mOSError\u001B[0m                                   Traceback (most recent call last)",
      "\u001B[1;32m<ipython-input-1-a3eb71f08291>\u001B[0m in \u001B[0;36m<module>\u001B[1;34m\u001B[0m\n\u001B[0;32m      9\u001B[0m \u001B[1;32mfrom\u001B[0m \u001B[0msklearn\u001B[0m \u001B[1;32mimport\u001B[0m \u001B[0mlinear_model\u001B[0m\u001B[1;33m\u001B[0m\u001B[1;33m\u001B[0m\u001B[0m\n\u001B[0;32m     10\u001B[0m \u001B[1;33m\u001B[0m\u001B[0m\n\u001B[1;32m---> 11\u001B[1;33m \u001B[0mos\u001B[0m\u001B[1;33m.\u001B[0m\u001B[0mchdir\u001B[0m\u001B[1;33m(\u001B[0m\u001B[1;34m\"D:\\GIT\\Etude_TP_CapaExpPlaning-Python\\functions\"\u001B[0m\u001B[1;33m)\u001B[0m\u001B[1;33m\u001B[0m\u001B[1;33m\u001B[0m\u001B[0m\n\u001B[0m\u001B[0;32m     12\u001B[0m \u001B[1;32mfrom\u001B[0m \u001B[0mfunctions\u001B[0m\u001B[1;33m.\u001B[0m\u001B[0mfunctions_decompose_thermosensibilite\u001B[0m \u001B[1;32mimport\u001B[0m \u001B[1;33m*\u001B[0m \u001B[1;31m#Il faut préciser le chemin où vous avez sauvegardé les données csv\u001B[0m\u001B[1;33m\u001B[0m\u001B[1;33m\u001B[0m\u001B[0m\n",
      "\u001B[1;31mOSError\u001B[0m: [WinError 123] La syntaxe du nom de fichier, de répertoire ou de volume est incorrecte: 'D:\\\\GIT\\\\Etude_TP_CapaExpPlaning-Python\\x0cunctions'"
     ]
    }
   ],
   "source": [
    "import os\n",
    "os.chdir(\"..\")\n",
    "\n",
    "import numpy as np\n",
    "import pandas as pd\n",
    "import csv\n",
    "import datetime\n",
    "import copy\n",
    "import plotly.graph_objects as go\n",
    "import matplotlib.pyplot as plt\n",
    "import plotly.graph_objects as go\n",
    "from sklearn import linear_model\n",
    "\n",
    "\n",
    "from functions.functions_decompose_thermosensibilite import * #Il faut préciser le chemin où vous avez sauvegardé les données csv\n",
    "from functions.functions_GraphicalTools import * #Il faut préciser le chemin où vous avez sauvegardé les données csv\n",
    "#data=pd.read_csv('CSV/input/ConsumptionTemperature_1996TO2019_FR.csv')\n",
    "\n",
    "ConsoTempe_df=pd.read_csv('CSV/input/ConsumptionTemperature_1996TO2019_FR.csv')"
   ]
  },
  {
   "cell_type": "markdown",
   "metadata": {},
   "source": [
    "## 2. Consumption and production <a class=\"anchor\" id=\"2.consumptionandproduction\"></a>\n",
    "We are capable to analyse French electricity consumption from 1996 to 2019 and see the evolution through the years. It's also interesting to see how the consumption evolves during a year (summer/winter, day/night, etc...). Let's plot the consumption for 2013 for example."
   ]
  },
  {
   "cell_type": "code",
   "execution_count": 1,
   "metadata": {
    "scrolled": true
   },
   "outputs": [
    {
     "ename": "NameError",
     "evalue": "name 'os' is not defined",
     "output_type": "error",
     "traceback": [
      "\u001B[1;31m---------------------------------------------------------------------------\u001B[0m",
      "\u001B[1;31mNameError\u001B[0m                                 Traceback (most recent call last)",
      "\u001B[1;32m<ipython-input-1-c0c916ee0d73>\u001B[0m in \u001B[0;36m<module>\u001B[1;34m\u001B[0m\n\u001B[1;32m----> 1\u001B[1;33m \u001B[0mos\u001B[0m\u001B[1;33m.\u001B[0m\u001B[0mchdir\u001B[0m\u001B[1;33m(\u001B[0m\u001B[1;34m\"D:\\GIT\\Etude_TP_CapaExpPlaning-Python\"\u001B[0m\u001B[1;33m)\u001B[0m \u001B[1;31m#pour vous placer dans le dossier où vous avez  sauvegardez les données csv\u001B[0m\u001B[1;33m\u001B[0m\u001B[1;33m\u001B[0m\u001B[0m\n\u001B[0m\u001B[0;32m      2\u001B[0m \u001B[1;33m\u001B[0m\u001B[0m\n\u001B[0;32m      3\u001B[0m \u001B[0mConsoTemp\u001B[0m\u001B[1;33m=\u001B[0m\u001B[0mSelectYear\u001B[0m\u001B[1;33m(\u001B[0m\u001B[1;36m2016\u001B[0m\u001B[1;33m)\u001B[0m\u001B[1;31m#permet d'obetenir la conso horaire et les température de l'année 2013 à partir du fichier ConsumptionTemperature_1996TO2019_FR.csv\u001B[0m\u001B[1;33m\u001B[0m\u001B[1;33m\u001B[0m\u001B[0m\n\u001B[0;32m      4\u001B[0m \u001B[0mfig\u001B[0m\u001B[1;33m=\u001B[0m\u001B[0mgo\u001B[0m\u001B[1;33m.\u001B[0m\u001B[0mFigure\u001B[0m\u001B[1;33m(\u001B[0m\u001B[1;33m)\u001B[0m\u001B[1;33m\u001B[0m\u001B[1;33m\u001B[0m\u001B[0m\n\u001B[0;32m      5\u001B[0m fig.add_trace(\n",
      "\u001B[1;31mNameError\u001B[0m: name 'os' is not defined"
     ]
    }
   ],
   "source": [
    "year=2016\n",
    "ConsoTempeYear_df=ConsoTempe_df[pd.to_datetime(ConsoTempe_df['Date']).dt.year==year]\n",
    "ConsoTemp=SelectYear(2016)#permet d'obetenir la conso horaire et les température de l'année 2013 à partir du fichier ConsumptionTemperature_1996TO2019_FR.csv\n",
    "ConsoTemp.key()"
   ]
  },
  {
   "cell_type": "markdown",
   "metadata": {},
   "source": [
    "Q1.1. From the available data, compute load factor of consumption (for 2016 for example) for different countries, then for different thermal sensitivity (france). Help : the thermal sensitivity is the variation of consumption as a result of a variation of temperature."
   ]
  },
  {
   "cell_type": "markdown",
   "metadata": {},
   "source": [
    "Now, it would be interesting to know how to cover this consumption only with renewable energy ( to see it's possible or if we need Nuke power). Let's work with the year 2013."
   ]
  },
  {
   "cell_type": "code",
   "execution_count": 14,
   "metadata": {},
   "outputs": [
    {
     "name": "stdout",
     "output_type": "stream",
     "text": [
      "TECHNOLOGIES  HydroReservoir  HydroRiver   OldNuke  Solar  Thermal  \\\n",
      "TIMESTAMP                                                            \n",
      "1                        1.0    0.446046  0.928560    0.0      1.0   \n",
      "2                        1.0    0.434063  0.928560    0.0      1.0   \n",
      "3                        1.0    0.388382  0.928560    0.0      1.0   \n",
      "4                        1.0    0.347019  0.928560    0.0      1.0   \n",
      "5                        1.0    0.342092  0.928560    0.0      1.0   \n",
      "...                      ...         ...       ...    ...      ...   \n",
      "8756                     1.0    0.702555  0.898972    0.0      1.0   \n",
      "8757                     1.0    0.559915  0.898972    0.0      1.0   \n",
      "8758                     1.0    0.477251  0.898972    0.0      1.0   \n",
      "8759                     1.0    0.435706  0.898972    0.0      1.0   \n",
      "8760                     1.0    0.494647  0.898972    0.0      1.0   \n",
      "\n",
      "TECHNOLOGIES  WindOnShore  \n",
      "TIMESTAMP                  \n",
      "1                0.583934  \n",
      "2                0.538035  \n",
      "3                0.519537  \n",
      "4                0.485877  \n",
      "5                0.475760  \n",
      "...                   ...  \n",
      "8756             0.484114  \n",
      "8757             0.473258  \n",
      "8758             0.461539  \n",
      "8759             0.466096  \n",
      "8760             0.459309  \n",
      "\n",
      "[8760 rows x 6 columns]\n"
     ]
    }
   ],
   "source": [
    "AvFactor2013=pd.read_csv(\"CSV/input/availabilityFactor2013_FR.csv\")#facteur de disponibilité de chaque technologie\n",
    "AvFactor2013=AvFactor2013.pivot(index = 'TIMESTAMP', columns = 'TECHNOLOGIES', values = 'availabilityFactor')\n",
    "ConsoFR2013=pd.read_csv('CSV/input/areaConsumption2013_FR.csv')\n",
    "ConsoAnnuelleFR2013=ConsoFR2013.sum()['areaConsumption'] #en MWh\n",
    "print(AvFactor2013)"
   ]
  },
  {
   "cell_type": "markdown",
   "metadata": {},
   "source": [
    "Q1.2. From the data above, dimension a photovoltaic installation and then a wind power installation in order to :\n",
    "- a) cover the annual energy consumption of France\n",
    "- b) cover all hourly energy consumption of France"
   ]
  },
  {
   "cell_type": "markdown",
   "metadata": {},
   "source": [
    "### 2.1. Impact of thermal sensitivity <a class=\"anchor\" id=\"2.1.impactofthermalsensitivity\"></a>\n",
    "Q1.3. what is the impact of thermal sensitivity on Q1.2 a) and b). (Help : for that question, you have to use the different algorithms which are in functions_decompose_thermosensibilite.py and create a coefficient alpha that enables you to vary thermosensitivity)"
   ]
  },
  {
   "cell_type": "markdown",
   "metadata": {},
   "source": [
    "### 2.2. Nuke power <a class=\"anchor\" id=\"2.2.nukepower\"></a>\n",
    "Q1.4.How much nuclear should you build to cover consumption at any hour. Take into account availability. How does thermal sensitivity impact the results ?"
   ]
  },
  {
   "cell_type": "markdown",
   "metadata": {},
   "source": [
    "### 2.3. First approach of a storage system <a class=\"anchor\" id=\"2.3.firstapproachofastoragesystem\"></a>\n",
    "Q1.5. Suppose you have a storage with infinite energy capacity, a WP installed capacity of 300 GW, a storage capacity of 65GW, what are the percentages (for a year) of storage WP energy, WP energy losses (if the effiency is 60%) and curtailment ? Do that question for the year 2013. You can also draw a graph where you can see :\n",
    "- the consumption that comes from wind power\n",
    "- the consumption that comes from the storage\n",
    "- the stored energy\n",
    "- the lost energy"
   ]
  }
 ],
 "metadata": {
  "kernelspec": {
   "display_name": "Python 3",
   "language": "python",
   "name": "python3"
  },
  "language_info": {
   "codemirror_mode": {
    "name": "ipython",
    "version": 3
   },
   "file_extension": ".py",
   "mimetype": "text/x-python",
   "name": "python",
   "nbconvert_exporter": "python",
   "pygments_lexer": "ipython3",
   "version": "3.7.7"
  }
 },
 "nbformat": 4,
 "nbformat_minor": 4
}