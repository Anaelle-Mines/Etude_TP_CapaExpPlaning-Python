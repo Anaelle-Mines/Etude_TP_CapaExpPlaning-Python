{
 "cells": [
  {
   "cell_type": "markdown",
   "metadata": {},
   "source": [
    "# Thermal sensitivity of consumption\n",
    "\n",
    "### Table of Contents\n",
    "\n",
    "* [1. Definition](#def)\n",
    "* [2. Functions estimate  thermosensitivity and decompose consumption](#2functions)\n",
    "* [3. Functions plays with thermosensitivity of consumption and resimulate](#3functionsII)"
   ]
  },
  {
   "cell_type": "markdown",
   "metadata": {},
   "source": [
    "In this notebook, you will manipulate some temperature time series,\n",
    "together with models of the thermal sensitivity of consumption. In the end you will learn how to:\n",
    "* estimate thermal sensitivity give time series of consumption and temperature\n",
    "* decompose a consumption into two parts. The first one will not be correlated with temperature and the other one will depend linearly of cold temperatures\n",
    "* remove the effect of temperature from year \"x\" in a consumption time series and apply the temperature from year \"y\".\n",
    "* use a thermal sensitive consumption model to model electric car consumption\n"
   ]
  },
  {
   "cell_type": "code",
   "execution_count": 7,
   "metadata": {},
   "outputs": [
    {
     "ename": "SyntaxError",
     "evalue": "non-default argument follows default argument (functions_GraphicalTools.py, line 56)",
     "output_type": "error",
     "traceback": [
      "Traceback \u001B[0;36m(most recent call last)\u001B[0m:\n",
      "  File \u001B[1;32m\"/Users/robin.girard/opt/anaconda3/envs/dynprogstorage/lib/python3.7/site-packages/IPython/core/interactiveshell.py\"\u001B[0m, line \u001B[1;32m3343\u001B[0m, in \u001B[1;35mrun_code\u001B[0m\n    exec(code_obj, self.user_global_ns, self.user_ns)\n",
      "\u001B[0;36m  File \u001B[0;32m\"<ipython-input-7-85d0906c5d4e>\"\u001B[0;36m, line \u001B[0;32m16\u001B[0;36m, in \u001B[0;35m<module>\u001B[0;36m\u001B[0m\n\u001B[0;31m    from functions.functions_GraphicalTools import * #Il faut préciser le chemin où vous avez sauvegardé les données csv\u001B[0m\n",
      "\u001B[0;36m  File \u001B[0;32m\"/Users/robin.girard/Documents/Code/Data/Sodium_PowerSystem/Etude_TP_CapaExpPlaning-Python/functions/functions_GraphicalTools.py\"\u001B[0;36m, line \u001B[0;32m56\u001B[0m\n\u001B[0;31m    def plotProd(dataYear, Tofile=False, prodNames, TimeName='Date'):\u001B[0m\n\u001B[0m                ^\u001B[0m\n\u001B[0;31mSyntaxError\u001B[0m\u001B[0;31m:\u001B[0m non-default argument follows default argument\n"
     ]
    }
   ],
   "source": [
    "import os\n",
    "os.chdir('..') ## to work at project root  like in any IDE\n",
    "\n",
    "\n",
    "import numpy as np\n",
    "import pandas as pd\n",
    "import csv\n",
    "import datetime\n",
    "import copy\n",
    "import plotly.graph_objects as go\n",
    "import matplotlib.pyplot as plt\n",
    "from sklearn import linear_model\n",
    "\n",
    "#os.chdir('D:\\GIT\\Etude_TP_CapaExpPlaning-Python')\n",
    "from functions.functions_decompose_thermosensibilite import * #Il faut préciser le chemin où vous avez sauvegardé les données csv\n",
    "from functions.functions_GraphicalTools import * #Il faut préciser le chemin où vous avez sauvegardé les données csv\n",
    "#data=pd.read_csv('CSV/input/ConsumptionTemperature_1996TO2019_FR.csv')\n",
    "\n",
    "ConsoTempe_df=pd.read_csv('CSV/input/ConsumptionTemperature_1996TO2019_FR.csv')"
   ]
  },
  {
   "cell_type": "markdown",
   "metadata": {},
   "source": [
    "## 1. Definition <a class=\"anchor\" id=\"def\"></a>\n",
    "As an introduction, french speakers can read [my post](https://www.energy-alternatives.eu/2019/05/24/variabilite-de-la-consommation-electrique-et-thermo-sensibilite.html) (contribution for translation of this site's posts are welcome) on the subject.\n",
    "\n",
    "You can observe how consumption depends upon temperature for year 2012.\n",
    "Below a threshold temperature, here around 15 degres,\n",
    "the relation between consumption and temperature is linear.\n",
    "The coefficient of the linear regression is,\n",
    "by definition, what we call the thermal sensitivity."
   ]
  },
  {
   "cell_type": "code",
   "execution_count": 3,
   "metadata": {},
   "outputs": [
    {
     "data": {
      "text/plain": "<Figure size 432x288 with 1 Axes>",
      "image/png": "[encoded data removed]"
     },
     "metadata": {
      "needs_background": "light"
     },
     "output_type": "display_data"
    },
    {
     "data": {
      "text/plain": "-2242.5311684188764"
     },
     "execution_count": 3,
     "metadata": {},
     "output_type": "execute_result"
    }
   ],
   "source": [
    "year = 2010\n",
    "hour = 19\n",
    "TemperatureThreshold = 15\n",
    "\n",
    "ConsoTempeYear_df=ConsoTempe_df[pd.to_datetime(ConsoTempe_df['Date']).dt.year==year]\n",
    "plt.plot(ConsoTempeYear_df['Temperature'],ConsoTempeYear_df['Consumption']/1000, '.', color='black');\n",
    "plt.show()\n",
    "## select dates to do the linear regression\n",
    "indexHeatingHour = (ConsoTempeYear_df['Temperature'] <= TemperatureThreshold) &\\\n",
    "                    (pd.to_datetime(ConsoTempeYear_df['Date']).dt.hour == hour)\n",
    "ConsoHeatingHour= ConsoTempeYear_df[indexHeatingHour]\n",
    "lr=linear_model.LinearRegression().fit(ConsoHeatingHour[['Temperature']],\n",
    "                                       ConsoHeatingHour['Consumption'])\n",
    "lr.coef_[0]"
   ]
  },
  {
   "cell_type": "markdown",
   "metadata": {},
   "source": [
    "## 2. Functions estimate  thermosensitivity and decompose consumption <a class=\"anchor\" id=\"2functions\"></a>\n",
    "\n",
    "Formally, the preceding linear regression is given by the following formula:\n",
    "\n",
    "$$ C_t = C^{NT}_t+\\rho_{h(t)}(T_t-T_0)_+$$\n",
    "\n",
    "where $T_0$ is the threshold temperature, $(x)_+$ is $x$ for any non negative $x$ and zero otherwise,\n",
    "$\\rho_{h(t)}$ is the thermal sensitivity for hour $h$ (if it depends upon the hour of the day)\n",
    "$C^{NT}_t$ is the part of the consumption that is not sensitive to the temperature.\n",
    "It is obtained as the residuals of the linear regression for temperatures\n",
    "lower than $T_0$ and is the consumption itself otherwise.\n",
    "\n",
    "In module functions.functions_decompose_thermosensibilite, we have implemented\n",
    "a function to estimate the different elements in the preceding equation, given consumption, temperature and other parameters (such as $T_0$).\n",
    "Check the file functions_decompose_thermosensibilite.py to understand how this works."
   ]
  },
  {
   "cell_type": "code",
   "execution_count": 6,
   "metadata": {},
   "outputs": [
    {
     "ename": "NameError",
     "evalue": "name 'MyStackedPlotly' is not defined",
     "output_type": "error",
     "traceback": [
      "\u001B[0;31m---------------------------------------------------------------------------\u001B[0m",
      "\u001B[0;31mNameError\u001B[0m                                 Traceback (most recent call last)",
      "\u001B[0;32m<ipython-input-6-42ed20255519>\u001B[0m in \u001B[0;36m<module>\u001B[0;34m\u001B[0m\n\u001B[1;32m      1\u001B[0m \u001B[0;34m(\u001B[0m\u001B[0mdataYear_decomposed\u001B[0m\u001B[0;34m,\u001B[0m\u001B[0mThermosensibilite\u001B[0m\u001B[0;34m)\u001B[0m\u001B[0;34m=\u001B[0m\u001B[0mDecomposeconso\u001B[0m\u001B[0;34m(\u001B[0m\u001B[0mdataYear\u001B[0m\u001B[0;34m)\u001B[0m\u001B[0;34m\u001B[0m\u001B[0;34m\u001B[0m\u001B[0m\n\u001B[0;32m----> 2\u001B[0;31m fig=MyStackedPlotly(x=dataYear_decomposed['Date'],\n\u001B[0m\u001B[1;32m      3\u001B[0m                     \u001B[0my\u001B[0m\u001B[0;34m=\u001B[0m\u001B[0mdataYear_decomposed\u001B[0m\u001B[0;34m[\u001B[0m\u001B[0;34m[\u001B[0m\u001B[0;34m\"NTS_C\"\u001B[0m\u001B[0;34m,\u001B[0m\u001B[0;34m\"TS_C\"\u001B[0m\u001B[0;34m]\u001B[0m\u001B[0;34m]\u001B[0m\u001B[0;34m,\u001B[0m\u001B[0;34m\u001B[0m\u001B[0;34m\u001B[0m\u001B[0m\n\u001B[1;32m      4\u001B[0m                     Names=['Conso non thermosensible','conso thermosensible'])\n\u001B[1;32m      5\u001B[0m \u001B[0mfig\u001B[0m\u001B[0;34m.\u001B[0m\u001B[0mupdate_layout\u001B[0m\u001B[0;34m(\u001B[0m\u001B[0mtitle_text\u001B[0m\u001B[0;34m=\u001B[0m\u001B[0;34m\"Consommation (MWh)\"\u001B[0m\u001B[0;34m,\u001B[0m \u001B[0mxaxis_title\u001B[0m\u001B[0;34m=\u001B[0m\u001B[0;34m\"Date\"\u001B[0m\u001B[0;34m)\u001B[0m\u001B[0;34m\u001B[0m\u001B[0;34m\u001B[0m\u001B[0m\n",
      "\u001B[0;31mNameError\u001B[0m: name 'MyStackedPlotly' is not defined"
     ]
    }
   ],
   "source": [
    "(ConsoTempeYear_decomposed_df,Thermosensibilite)=Decomposeconso(ConsoTempeYear_df,TemperatureThreshold=TemperatureThreshold)\n",
    "fig=MyStackedPlotly(x_df=ConsoTempeYear_decomposed_df['Date'],\n",
    "                    y_df=ConsoTempeYear_decomposed_df[[\"NTS_C\",\"TS_C\"]],\n",
    "                    Names=['Conso non thermosensible','conso thermosensible'])\n",
    "fig.update_layout(title_text=\"Consommation (MWh)\", xaxis_title=\"Date\")\n",
    "# plotly.offline.plot(fig, filename='file.html') ## offline\n",
    "fig.show()"
   ]
  },
  {
   "cell_type": "markdown",
   "source": [
    "Q.1) Is the thermosensitivity coherent (value for day/night, min/max value) ?"
   ],
   "metadata": {
    "collapsed": false
   }
  },
  {
   "cell_type": "markdown",
   "metadata": {},
   "source": [
    "Q.2) Compute the mean of thermosensitivity and compare it to the value you can find in [my post](https://www.energy-alternatives.eu/2019/05/24/variabilite-de-la-consommation-electrique-et-thermo-sensibilite.html)."
   ]
  },
  {
   "cell_type": "markdown",
   "metadata": {},
   "source": [
    "## 3. Functions plays with thermosensitivity of consumption and resimulate <a class=\"anchor\" id=\"3functionsII\"></a>\n",
    "\n",
    "You can do other interesting things. For example, you can redecompose the electric consumption of the year X to thermosensitive and no-thermosensitive parts from the thermosensitivity of the year X and the temperatures of the year Y. It's very useful to compare the years."
   ]
  },
  {
   "cell_type": "code",
   "execution_count": null,
   "metadata": {},
   "outputs": [],
   "source": [
    "## example for year 2012\n",
    "newyear=2012\n",
    "NewConsoTempeYear_df = ConsoTempe_df[pd.to_datetime(ConsoTempe_df['Date']).dt.year==newyear]\n",
    "NewConsoTempeYear_decomposed_df=ChangeTemperature(ConsoTempeYear_decomposed_df,NewConsoTempeYear_df,Thermosensibilite, TemperatureThreshold=TemperatureThreshold)\n",
    "\n",
    "\n",
    "### loop over years\n",
    "\n",
    "fig = go.Figure()\n",
    "fig.add_trace(go.Scatter(x=ConsoTempeYear_decomposed_df['Date'],y=ConsoTempeYear_decomposed_df['Consumption'],line=dict(color=\"#000000\"),name=\"original\"))\n",
    "for newyear in range(2000,2012):\n",
    "    NewConsoTempeYear_df = ConsoTempe_df[pd.to_datetime(ConsoTempe_df['Date']).dt.year==newyear]\n",
    "    ConsoSepareeNew_df=Recompose(ConsoTempeYear_decomposed_df,Thermosensibilite,NewConsoTempeYear_df, TemperatureThreshold=TemperatureThreshold)\n",
    "    fig.add_trace(go.Scatter(x=ConsoSepareeNew_df['Date'],\n",
    "                             y=ConsoSepareeNew_df['Consumption'],\n",
    "                             line=dict(color=\"#9CA2A8\",width=1),\n",
    "                             name=newyear))\n",
    "# plotly.offline.plot(fig, filename='file.html') ## offline\n",
    "fig.show()"
   ]
  },
  {
   "cell_type": "markdown",
   "metadata": {},
   "source": [
    "Q.3)Compare this table to the previous one and comment the differences"
   ]
  },
  {
   "cell_type": "markdown",
   "metadata": {},
   "source": [
    "In addition, with the same function Recompose to that you can also redecompose the electric consumption of the year X to thermosensitive and no-thermosensitive parts from a new table of thermosensitivity."
   ]
  },
  {
   "cell_type": "code",
   "execution_count": null,
   "metadata": {},
   "outputs": [],
   "source": [
    "NewThermosensibilite={}\n",
    "for key in Thermosensibilite:    NewThermosensibilite[key]=1/3 * Thermosensibilite[key]\n",
    "NewConsoTempeYear_decomposed_df=Recompose(ConsoTempeYear_decomposed_df,NewThermosensibilite, TemperatureThreshold=TemperatureThreshold)\n",
    "fig = go.Figure()\n",
    "fig.add_trace(go.Scatter(x=ConsoTempeYear_decomposed_df['Date'],\n",
    "                         y=ConsoTempeYear_decomposed_df['Consumption'],\n",
    "                         line=dict(color=\"#000000\"),name=\"original\"))\n",
    "fig.add_trace(go.Scatter(x=NewConsoTempeYear_decomposed_df['Date'],\n",
    "                             y=NewConsoTempeYear_decomposed_df['Consumption'],\n",
    "                             line=dict(color=\"#9CA2A8\",width=1),\n",
    "                             name=newyear))\n",
    "# plotly.offline.plot(fig, filename='file.html') ## offline\n",
    "fig.show()"
   ]
  },
  {
   "cell_type": "markdown",
   "metadata": {},
   "source": [
    "Now, you know everything about thermosensitivity and you can use theses functions whenever you want in the TP to cast light on interesting values and draw smart conclusions :)"
   ]
  }
 ],
 "metadata": {
  "kernelspec": {
   "name": "pycharm-79423fde",
   "language": "python",
   "display_name": "PyCharm (Etude_TP_CapaExpPlaning-Python)"
  },
  "language_info": {
   "codemirror_mode": {
    "name": "ipython",
    "version": 3
   },
   "file_extension": ".py",
   "mimetype": "text/x-python",
   "name": "python",
   "nbconvert_exporter": "python",
   "pygments_lexer": "ipython3",
   "version": "3.7.7"
  }
 },
 "nbformat": 4,
 "nbformat_minor": 4
}