{
 "cells": [
  {
   "cell_type": "markdown",
   "metadata": {},
   "source": [
    "# Thermosensitivity\n",
    "\n",
    "### Table of Contents\n",
    "\n",
    "* [1. Definition](#def)\n",
    "* [2. Functions to manipulate thermosensitivity](#2functions)"
   ]
  },
  {
   "cell_type": "markdown",
   "metadata": {},
   "source": [
    "In this notebook, you will manipulate some temperature timeseries in order to calculate the thermosensitivity and be aware of its effect on energy consumption"
   ]
  },
  {
   "cell_type": "code",
   "execution_count": 10,
   "metadata": {},
   "outputs": [],
   "source": [
    "import numpy as np\n",
    "import pandas as pd\n",
    "import csv\n",
    "import os\n",
    "import datetime\n",
    "import copy\n",
    "import plotly.graph_objects as go\n",
    "import matplotlib.pyplot as plt\n",
    "from sklearn import linear_model\n",
    "\n",
    "os.chdir('D:\\GIT\\Etude_TP_CapaExpPlaning-Python')\n",
    "from functions.functions_decompose_thermosensibilite import * #Il faut préciser le chemin où vous avez sauvegardé les données csv"
   ]
  },
  {
   "cell_type": "markdown",
   "metadata": {},
   "source": [
    "## 1. Definition <a class=\"anchor\" id=\"def\"></a>\n",
    "First, you have to know that we can separate that energy consumption depends on thermosensitivity, especially in winter. Indeed, for temperatures below 15°C, we can see that electricity consumption increases when the temperature decreases (I invite you to read [my post](https://www.energy-alternatives.eu/2019/05/24/variabilite-de-la-consommation-electrique-et-thermo-sensibilite.html) on the subject for a better understanding).\n",
    "\n",
    "We can see this dependance with the code below where we plot the load factor in function of the temperature."
   ]
  },
  {
   "cell_type": "code",
   "execution_count": 11,
   "metadata": {},
   "outputs": [
    {
     "data": {
      "image/png": "[encoded data removed]",
      "text/plain": [
       "<Figure size 432x288 with 1 Axes>"
      ]
     },
     "metadata": {
      "needs_background": "light"
     },
     "output_type": "display_data"
    }
   ],
   "source": [
    "ConsoTemp=pd.read_csv('CSV/input/ConsumptionTemperature_1996TO2019_FR.csv')\n",
    "del ConsoTemp['Date']\n",
    "ConsoTemp=ConsoTemp.sort_values(by = 'Temperature')\n",
    "ConsoTemp.set_index('Temperature', inplace=True)\n",
    "maxconso=ConsoTemp.max()[0]\n",
    "ConsoTemp['Consumption']=ConsoTemp['Consumption']/maxconso\n",
    "ConsoTemp.columns=['Load factor']\n",
    "graph=ConsoTemp.reset_index().plot.scatter(x='Temperature', y='Load factor')\n",
    "plt.show(graph) "
   ]
  },
  {
   "cell_type": "markdown",
   "metadata": {},
   "source": [
    "## 2. Functions to manipulate thermosensitivity <a class=\"anchor\" id=\"functions\"></a>\n",
    "There is a lot of points but we can see the trend :\n",
    "- a descending straight line for temperatures below 14°C\n",
    "- a horizontal straight line for temperatures above 14°C\n",
    "\n",
    "Consequently, we can separate the consumption into two parts :\n",
    "- one that does not depend on temperature called no-thermosensitive consumption\n",
    "- one that depends on temperature called thermosensitive consumption\n",
    "\n",
    "It's for the hours when temperatures are below 14°C that we have a thermo sensitive AND no-thermosensitive consumption otherwise we only have a no-thermosensitive consumption.\n",
    "\n",
    "Here is the function to separate these two kinds of consumption and get the hourly thermosensitivity (in MW/°C). Check the file functions_decompose_thermosensibilite.py to understand how the function works."
   ]
  },
  {
   "cell_type": "code",
   "execution_count": 12,
   "metadata": {},
   "outputs": [
    {
     "data": {
      "text/plain": [
       "(                     Conso thermo  Conso Nonthermo  Temperature\n",
       " Date                                                           \n",
       " 2015-01-01 00:00:00  29579.803137     44914.196863    -0.183075\n",
       " 2015-01-01 01:00:00  32007.907198     39498.092802    -0.470650\n",
       " 2015-01-01 02:00:00  34371.007670     36762.992330    -0.662975\n",
       " 2015-01-01 03:00:00  34993.489785     33846.510215    -0.876050\n",
       " 2015-01-01 04:00:00  34704.050989     31044.949011    -1.096825\n",
       " ...                           ...              ...          ...\n",
       " 2015-12-31 19:00:00  12259.802306     50400.197694     8.417175\n",
       " 2015-12-31 20:00:00  12248.581051     47781.418949     7.874125\n",
       " 2015-12-31 21:00:00  12834.838985     43952.161015     7.474075\n",
       " 2015-12-31 22:00:00  13636.768403     41503.231597     7.100875\n",
       " 2015-12-31 23:00:00  14556.549260     44961.450740     6.892575\n",
       " \n",
       " [8759 rows x 3 columns],\n",
       "                      Thermosensibilite\n",
       " Heure de la journee                   \n",
       " 0                         -2085.570522\n",
       " 1                         -2211.919105\n",
       " 2                         -2344.067808\n",
       " 3                         -2352.337468\n",
       " 4                         -2298.764872\n",
       " 5                         -2299.378387\n",
       " 6                         -2407.731284\n",
       " 7                         -2552.332761\n",
       " 8                         -2597.477854\n",
       " 9                         -2453.719942\n",
       " 10                        -2360.913769\n",
       " 11                        -2371.793272\n",
       " 12                        -2242.190621\n",
       " 13                        -2153.661139\n",
       " 14                        -2064.803282\n",
       " 15                        -1891.003009\n",
       " 16                        -1913.186956\n",
       " 17                        -1901.558921\n",
       " 18                        -2041.516140\n",
       " 19                        -2195.985421\n",
       " 20                        -1999.482694\n",
       " 21                        -1966.746321\n",
       " 22                        -1976.593902\n",
       " 23                        -2048.076379)"
      ]
     },
     "execution_count": 12,
     "metadata": {},
     "output_type": "execute_result"
    }
   ],
   "source": [
    "Decomposeconso(2015) #Let's do that for the year 2015"
   ]
  },
  {
   "cell_type": "markdown",
   "metadata": {},
   "source": [
    "Q.1) Is the thermosensitivity coherent (value for day/night, min/max value) ?"
   ]
  },
  {
   "cell_type": "markdown",
   "metadata": {},
   "source": [
    "Q.2) Compute the mean of thermosensitivity and compare it to the value you can find in [my post](https://www.energy-alternatives.eu/2019/05/24/variabilite-de-la-consommation-electrique-et-thermo-sensibilite.html)."
   ]
  },
  {
   "cell_type": "markdown",
   "metadata": {},
   "source": [
    "You can do other interesting things. For example, you can redecompose the electric consumption of the year X to thermosensitive and no-thermosensitive parts from the thermosensitivity of the year X and the temperatures of the year Y. It's very useful to compare the years."
   ]
  },
  {
   "cell_type": "code",
   "execution_count": 13,
   "metadata": {},
   "outputs": [
    {
     "data": {
      "text/html": [
       "<div>\n",
       "<style scoped>\n",
       "    .dataframe tbody tr th:only-of-type {\n",
       "        vertical-align: middle;\n",
       "    }\n",
       "\n",
       "    .dataframe tbody tr th {\n",
       "        vertical-align: top;\n",
       "    }\n",
       "\n",
       "    .dataframe thead th {\n",
       "        text-align: right;\n",
       "    }\n",
       "</style>\n",
       "<table border=\"1\" class=\"dataframe\">\n",
       "  <thead>\n",
       "    <tr style=\"text-align: right;\">\n",
       "      <th></th>\n",
       "      <th>Conso thermo</th>\n",
       "      <th>Conso Nonthermo</th>\n",
       "      <th>Temperature</th>\n",
       "    </tr>\n",
       "    <tr>\n",
       "      <th>Date</th>\n",
       "      <th></th>\n",
       "      <th></th>\n",
       "      <th></th>\n",
       "    </tr>\n",
       "  </thead>\n",
       "  <tbody>\n",
       "    <tr>\n",
       "      <th>2015-01-01 00:00:00</th>\n",
       "      <td>31449.099996</td>\n",
       "      <td>44914.196863</td>\n",
       "      <td>-1.079375</td>\n",
       "    </tr>\n",
       "    <tr>\n",
       "      <th>2015-01-01 01:00:00</th>\n",
       "      <td>33930.894370</td>\n",
       "      <td>39498.092802</td>\n",
       "      <td>-1.340025</td>\n",
       "    </tr>\n",
       "    <tr>\n",
       "      <th>2015-01-01 02:00:00</th>\n",
       "      <td>36134.684289</td>\n",
       "      <td>36762.992330</td>\n",
       "      <td>-1.415375</td>\n",
       "    </tr>\n",
       "    <tr>\n",
       "      <th>2015-01-01 03:00:00</th>\n",
       "      <td>36518.804207</td>\n",
       "      <td>33846.510215</td>\n",
       "      <td>-1.524475</td>\n",
       "    </tr>\n",
       "    <tr>\n",
       "      <th>2015-01-01 04:00:00</th>\n",
       "      <td>35928.775444</td>\n",
       "      <td>31044.949011</td>\n",
       "      <td>-1.629600</td>\n",
       "    </tr>\n",
       "    <tr>\n",
       "      <th>...</th>\n",
       "      <td>...</td>\n",
       "      <td>...</td>\n",
       "      <td>...</td>\n",
       "    </tr>\n",
       "    <tr>\n",
       "      <th>2015-12-31 19:00:00</th>\n",
       "      <td>9026.024121</td>\n",
       "      <td>50400.197694</td>\n",
       "      <td>9.889761</td>\n",
       "    </tr>\n",
       "    <tr>\n",
       "      <th>2015-12-31 20:00:00</th>\n",
       "      <td>8361.836628</td>\n",
       "      <td>47781.418949</td>\n",
       "      <td>9.818000</td>\n",
       "    </tr>\n",
       "    <tr>\n",
       "      <th>2015-12-31 21:00:00</th>\n",
       "      <td>8607.465274</td>\n",
       "      <td>43952.161015</td>\n",
       "      <td>9.623500</td>\n",
       "    </tr>\n",
       "    <tr>\n",
       "      <th>2015-12-31 22:00:00</th>\n",
       "      <td>9277.192893</td>\n",
       "      <td>41503.231597</td>\n",
       "      <td>9.306475</td>\n",
       "    </tr>\n",
       "    <tr>\n",
       "      <th>2015-12-31 23:00:00</th>\n",
       "      <td>10140.486971</td>\n",
       "      <td>44961.450740</td>\n",
       "      <td>9.048775</td>\n",
       "    </tr>\n",
       "  </tbody>\n",
       "</table>\n",
       "<p>8759 rows × 3 columns</p>\n",
       "</div>"
      ],
      "text/plain": [
       "                     Conso thermo  Conso Nonthermo  Temperature\n",
       "Date                                                           \n",
       "2015-01-01 00:00:00  31449.099996     44914.196863    -1.079375\n",
       "2015-01-01 01:00:00  33930.894370     39498.092802    -1.340025\n",
       "2015-01-01 02:00:00  36134.684289     36762.992330    -1.415375\n",
       "2015-01-01 03:00:00  36518.804207     33846.510215    -1.524475\n",
       "2015-01-01 04:00:00  35928.775444     31044.949011    -1.629600\n",
       "...                           ...              ...          ...\n",
       "2015-12-31 19:00:00   9026.024121     50400.197694     9.889761\n",
       "2015-12-31 20:00:00   8361.836628     47781.418949     9.818000\n",
       "2015-12-31 21:00:00   8607.465274     43952.161015     9.623500\n",
       "2015-12-31 22:00:00   9277.192893     41503.231597     9.306475\n",
       "2015-12-31 23:00:00  10140.486971     44961.450740     9.048775\n",
       "\n",
       "[8759 rows x 3 columns]"
      ]
     },
     "execution_count": 13,
     "metadata": {},
     "output_type": "execute_result"
    }
   ],
   "source": [
    "(a,b)=Decomposeconso(2015)\n",
    "ChangeTemperature(a,b,2017) #Here we use the temperature of the year 2017"
   ]
  },
  {
   "cell_type": "markdown",
   "metadata": {},
   "source": [
    "Q.3)Compare this table to the previous one and comment the differences"
   ]
  },
  {
   "cell_type": "markdown",
   "metadata": {},
   "source": [
    "In addition to that you can also redecompose the electric consumption of the year X to thermosensitive and no-thermosensitive parts from a new table of thermosensitivity."
   ]
  },
  {
   "cell_type": "code",
   "execution_count": 14,
   "metadata": {},
   "outputs": [
    {
     "data": {
      "text/html": [
       "<div>\n",
       "<style scoped>\n",
       "    .dataframe tbody tr th:only-of-type {\n",
       "        vertical-align: middle;\n",
       "    }\n",
       "\n",
       "    .dataframe tbody tr th {\n",
       "        vertical-align: top;\n",
       "    }\n",
       "\n",
       "    .dataframe thead th {\n",
       "        text-align: right;\n",
       "    }\n",
       "</style>\n",
       "<table border=\"1\" class=\"dataframe\">\n",
       "  <thead>\n",
       "    <tr style=\"text-align: right;\">\n",
       "      <th></th>\n",
       "      <th>Conso thermo</th>\n",
       "      <th>Conso Nonthermo</th>\n",
       "      <th>Temperature</th>\n",
       "    </tr>\n",
       "    <tr>\n",
       "      <th>Date</th>\n",
       "      <th></th>\n",
       "      <th></th>\n",
       "      <th></th>\n",
       "    </tr>\n",
       "  </thead>\n",
       "  <tbody>\n",
       "    <tr>\n",
       "      <th>2015-01-01 00:00:00</th>\n",
       "      <td>29455.827598</td>\n",
       "      <td>44914.196863</td>\n",
       "      <td>-0.183075</td>\n",
       "    </tr>\n",
       "    <tr>\n",
       "      <th>2015-01-01 01:00:00</th>\n",
       "      <td>30573.852422</td>\n",
       "      <td>39498.092802</td>\n",
       "      <td>-0.470650</td>\n",
       "    </tr>\n",
       "    <tr>\n",
       "      <th>2015-01-01 02:00:00</th>\n",
       "      <td>34093.650332</td>\n",
       "      <td>36762.992330</td>\n",
       "      <td>-0.662975</td>\n",
       "    </tr>\n",
       "    <tr>\n",
       "      <th>2015-01-01 03:00:00</th>\n",
       "      <td>34523.080393</td>\n",
       "      <td>33846.510215</td>\n",
       "      <td>-0.876050</td>\n",
       "    </tr>\n",
       "    <tr>\n",
       "      <th>2015-01-01 04:00:00</th>\n",
       "      <td>33807.290653</td>\n",
       "      <td>31044.949011</td>\n",
       "      <td>-1.096825</td>\n",
       "    </tr>\n",
       "    <tr>\n",
       "      <th>...</th>\n",
       "      <td>...</td>\n",
       "      <td>...</td>\n",
       "      <td>...</td>\n",
       "    </tr>\n",
       "    <tr>\n",
       "      <th>2015-12-31 19:00:00</th>\n",
       "      <td>11492.318661</td>\n",
       "      <td>50400.197694</td>\n",
       "      <td>8.417175</td>\n",
       "    </tr>\n",
       "    <tr>\n",
       "      <th>2015-12-31 20:00:00</th>\n",
       "      <td>13122.592854</td>\n",
       "      <td>47781.418949</td>\n",
       "      <td>7.874125</td>\n",
       "    </tr>\n",
       "    <tr>\n",
       "      <th>2015-12-31 21:00:00</th>\n",
       "      <td>13721.941059</td>\n",
       "      <td>43952.161015</td>\n",
       "      <td>7.474075</td>\n",
       "    </tr>\n",
       "    <tr>\n",
       "      <th>2015-12-31 22:00:00</th>\n",
       "      <td>13340.746550</td>\n",
       "      <td>41503.231597</td>\n",
       "      <td>7.100875</td>\n",
       "    </tr>\n",
       "    <tr>\n",
       "      <th>2015-12-31 23:00:00</th>\n",
       "      <td>14450.693654</td>\n",
       "      <td>44961.450740</td>\n",
       "      <td>6.892575</td>\n",
       "    </tr>\n",
       "  </tbody>\n",
       "</table>\n",
       "<p>8759 rows × 3 columns</p>\n",
       "</div>"
      ],
      "text/plain": [
       "                     Conso thermo  Conso Nonthermo  Temperature\n",
       "Date                                                           \n",
       "2015-01-01 00:00:00  29455.827598     44914.196863    -0.183075\n",
       "2015-01-01 01:00:00  30573.852422     39498.092802    -0.470650\n",
       "2015-01-01 02:00:00  34093.650332     36762.992330    -0.662975\n",
       "2015-01-01 03:00:00  34523.080393     33846.510215    -0.876050\n",
       "2015-01-01 04:00:00  33807.290653     31044.949011    -1.096825\n",
       "...                           ...              ...          ...\n",
       "2015-12-31 19:00:00  11492.318661     50400.197694     8.417175\n",
       "2015-12-31 20:00:00  13122.592854     47781.418949     7.874125\n",
       "2015-12-31 21:00:00  13721.941059     43952.161015     7.474075\n",
       "2015-12-31 22:00:00  13340.746550     41503.231597     7.100875\n",
       "2015-12-31 23:00:00  14450.693654     44961.450740     6.892575\n",
       "\n",
       "[8759 rows x 3 columns]"
      ]
     },
     "execution_count": 14,
     "metadata": {},
     "output_type": "execute_result"
    }
   ],
   "source": [
    "(a,b)=Decomposeconso(2015)\n",
    "(c,d)=Decomposeconso(2011)\n",
    "RecomposeTemperature(a,d)"
   ]
  },
  {
   "cell_type": "markdown",
   "metadata": {},
   "source": [
    "Now, you know everything about thermosensitivity and you can use theses functions whenever you want in the TP to cast light on interesting values and draw smart conclusions :)"
   ]
  }
 ],
 "metadata": {
  "kernelspec": {
   "display_name": "Python 3",
   "language": "python",
   "name": "python3"
  },
  "language_info": {
   "codemirror_mode": {
    "name": "ipython",
    "version": 3
   },
   "file_extension": ".py",
   "mimetype": "text/x-python",
   "name": "python",
   "nbconvert_exporter": "python",
   "pygments_lexer": "ipython3",
   "version": "3.7.7"
  }
 },
 "nbformat": 4,
 "nbformat_minor": 4
}
